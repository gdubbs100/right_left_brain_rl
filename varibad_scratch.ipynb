{
 "cells": [
  {
   "cell_type": "code",
   "execution_count": 1,
   "metadata": {},
   "outputs": [],
   "source": [
    "import metaworld\n",
    "# import environments.metaworld_envs\n",
    "import gym\n",
    "from environments.parallel_envs import make_vec_envs, make_env\n"
   ]
  },
  {
   "cell_type": "code",
   "execution_count": 2,
   "metadata": {},
   "outputs": [],
   "source": [
    "ml10 = metaworld.ML10()"
   ]
  },
  {
   "cell_type": "code",
   "execution_count": 3,
   "metadata": {},
   "outputs": [],
   "source": [
    "ml10_env = gym.make('ML10-v2')"
   ]
  },
  {
   "cell_type": "code",
   "execution_count": 4,
   "metadata": {},
   "outputs": [
    {
     "data": {
      "text/plain": [
       "Box([-0.525   0.348  -0.0525 -1.        -inf    -inf    -inf    -inf    -inf\n",
       "    -inf    -inf    -inf    -inf    -inf    -inf    -inf    -inf    -inf\n",
       " -0.525   0.348  -0.0525 -1.        -inf    -inf    -inf    -inf    -inf\n",
       "    -inf    -inf    -inf    -inf    -inf    -inf    -inf    -inf    -inf\n",
       "  0.      0.      0.    ], [0.525 1.025 0.7   1.      inf   inf   inf   inf   inf   inf   inf   inf\n",
       "   inf   inf   inf   inf   inf   inf 0.525 1.025 0.7   1.      inf   inf\n",
       "   inf   inf   inf   inf   inf   inf   inf   inf   inf   inf   inf   inf\n",
       " 0.    0.    0.   ], (39,), float64)"
      ]
     },
     "execution_count": 4,
     "metadata": {},
     "output_type": "execute_result"
    }
   ],
   "source": [
    "ml10_env.observation_space"
   ]
  },
  {
   "cell_type": "code",
   "execution_count": 5,
   "metadata": {},
   "outputs": [],
   "source": [
    "# env = gym.make('ML10-v2')\n",
    "varibad_env = make_env('ML10-v2', 1, 1, 2, tasks = ml10.train_classes, add_done_info =True)"
   ]
  },
  {
   "cell_type": "code",
   "execution_count": 7,
   "metadata": {},
   "outputs": [],
   "source": [
    "vbad_ml10 = varibad_env()"
   ]
  },
  {
   "cell_type": "code",
   "execution_count": 9,
   "metadata": {},
   "outputs": [
    {
     "name": "stderr",
     "output_type": "stream",
     "text": [
      "<__array_function__ internals>:180: VisibleDeprecationWarning: Creating an ndarray from ragged nested sequences (which is a list-or-tuple of lists-or-tuples-or ndarrays with different lengths or shapes) is deprecated. If you meant to do this, you must specify 'dtype=object' when creating the ndarray.\n"
     ]
    },
    {
     "data": {
      "text/plain": [
       "array([array([ 0.00615235,  0.6001898 ,  0.19430117,  1.        , -0.00618428,\n",
       "               0.64096735,  0.02      ,  0.        ,  0.        ,  0.        ,\n",
       "               1.        ,  0.        ,  0.        ,  0.        ,  0.        ,\n",
       "               0.        ,  0.        ,  0.        ,  0.00615235,  0.6001898 ,\n",
       "               0.19430117,  1.        , -0.00618428,  0.64096735,  0.02      ,\n",
       "               0.        ,  0.        ,  0.        ,  1.        ,  0.        ,\n",
       "               0.        ,  0.        ,  0.        ,  0.        ,  0.        ,\n",
       "               0.        ,  0.        ,  0.        ,  0.        ])            ,\n",
       "       {}, 0.0], dtype=object)"
      ]
     },
     "execution_count": 9,
     "metadata": {},
     "output_type": "execute_result"
    }
   ],
   "source": [
    "vbad_ml10.reset_mdp()\n"
   ]
  },
  {
   "cell_type": "code",
   "execution_count": 13,
   "metadata": {},
   "outputs": [
    {
     "data": {
      "text/plain": [
       "<environments.metaworld_envs.custom_varibad_env.ML10Env at 0x7f8d2805c6d0>"
      ]
     },
     "execution_count": 13,
     "metadata": {},
     "output_type": "execute_result"
    }
   ],
   "source": [
    "ml10_env.env.unwrapped._max_\n"
   ]
  }
 ],
 "metadata": {
  "kernelspec": {
   "display_name": "varibad",
   "language": "python",
   "name": "python3"
  },
  "language_info": {
   "codemirror_mode": {
    "name": "ipython",
    "version": 3
   },
   "file_extension": ".py",
   "mimetype": "text/x-python",
   "name": "python",
   "nbconvert_exporter": "python",
   "pygments_lexer": "ipython3",
   "version": "3.9.18"
  }
 },
 "nbformat": 4,
 "nbformat_minor": 2
}
