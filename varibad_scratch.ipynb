{
 "cells": [
  {
   "cell_type": "code",
   "execution_count": 1,
   "metadata": {},
   "outputs": [],
   "source": [
    "import metaworld\n",
    "# import environments.metaworld_envs\n",
    "import gym\n",
    "from environments.parallel_envs import make_vec_envs, make_env, make_metaworld_env\n"
   ]
  },
  {
   "cell_type": "code",
   "execution_count": 7,
   "metadata": {},
   "outputs": [
    {
     "data": {
      "text/plain": [
       "<metaworld.ML1 at 0x7fd1b213cfa0>"
      ]
     },
     "execution_count": 7,
     "metadata": {},
     "output_type": "execute_result"
    }
   ],
   "source": [
    "ml1 = metaworld.ML1('pick-place-v2')\n",
    "# env = ml1.train_classes\n",
    "ml1"
   ]
  },
  {
   "cell_type": "code",
   "execution_count": 11,
   "metadata": {},
   "outputs": [
    {
     "data": {
      "text/plain": [
       "<metaworld.envs.mujoco.sawyer_xyz.v2.sawyer_pick_place_v2.SawyerPickPlaceEnvV2 at 0x7fd1b2153850>"
      ]
     },
     "execution_count": 11,
     "metadata": {},
     "output_type": "execute_result"
    }
   ],
   "source": [
    "ml1.train_classes['pick-place-v2']()"
   ]
  },
  {
   "cell_type": "code",
   "execution_count": 35,
   "metadata": {},
   "outputs": [],
   "source": [
    "import gym\n",
    "import metaworld\n",
    "import random\n",
    "\n",
    "class ML1Env(gym.Env):\n",
    "\n",
    "    def __init__(self):\n",
    "        ## hardcode this - easy to learn env base on https://jmlr.org/papers/volume22/21-0657/21-0657.pdf\n",
    "        self.env_name = 'push-v2'\n",
    "        # initialise blank env\n",
    "        self.benchmark = metaworld.ML1(self.env_name)\n",
    "        self.task_names = list(self.benchmark.train_classes.keys())\n",
    "        self.num_tasks = len(self.task_names)\n",
    "\n",
    "        self.env_cls = self.benchmark.train_classes[self.env_name]\n",
    "        self.env = self.env_cls()\n",
    "\n",
    "        # set a dummy task from the benchmark for init purposes\n",
    "        self.set_task()\n",
    "        self.observation_space = self.env.observation_space\n",
    "        self.action_space = self.env.action_space\n",
    "\n",
    "        # metaworld max steps - hardcoded\n",
    "        self._max_episode_steps = 500\n",
    "\n",
    "    def step(self, action):\n",
    "        obs, reward, terminated, truncated, info = self.env.step(action)\n",
    "        done = terminated or truncated\n",
    "        info['task'] = self.task\n",
    "        return obs, reward, done, info\n",
    "    \n",
    "    def reset(self):\n",
    "        obs, _ = self.env.reset()\n",
    "        return obs\n",
    "    \n",
    "    def get_task(self):\n",
    "        return self.env_name, self.env_cls\n",
    "    \n",
    "    ## reset_task is automatically created in make_env using set_task\n",
    "    def set_task(self, task = None):\n",
    "        if task is None:\n",
    "            task = random.choice(\n",
    "                [task for task in self.benchmark.train_tasks if task.env_name==self.env_name]\n",
    "                )\n",
    "\n",
    "        self.task = task\n",
    "        self.env.set_task(self.task)\n",
    "\n",
    "    # duplicated for varibad temporarily\n",
    "    def reset_task(self, task = None):\n",
    "        if task is None:\n",
    "            task = random.choice(\n",
    "                [task for task in self.benchmark.train_tasks if task.env_name==self.env_name]\n",
    "                )\n",
    "\n",
    "        self.task = task\n",
    "        self.env.set_task(self.task)"
   ]
  },
  {
   "cell_type": "code",
   "execution_count": 36,
   "metadata": {},
   "outputs": [
    {
     "data": {
      "text/plain": [
       "<__main__.ML1Env at 0x7fd1b1e240a0>"
      ]
     },
     "execution_count": 36,
     "metadata": {},
     "output_type": "execute_result"
    }
   ],
   "source": [
    "ml1_env = ML1Env()\n",
    "ml1_env"
   ]
  },
  {
   "cell_type": "code",
   "execution_count": 37,
   "metadata": {},
   "outputs": [
    {
     "data": {
      "text/plain": [
       "array([ 0.00615235,  0.6001898 ,  0.19430117,  1.        , -0.02494481,\n",
       "        0.60356566,  0.01987216,  0.        ,  0.        ,  0.        ,\n",
       "        1.        ,  0.        ,  0.        ,  0.        ,  0.        ,\n",
       "        0.        ,  0.        ,  0.        ,  0.00615235,  0.6001898 ,\n",
       "        0.19430117,  1.        , -0.02494481,  0.60356566,  0.01987216,\n",
       "        0.        ,  0.        ,  0.        ,  1.        ,  0.        ,\n",
       "        0.        ,  0.        ,  0.        ,  0.        ,  0.        ,\n",
       "        0.        ,  0.        ,  0.        ,  0.        ])"
      ]
     },
     "execution_count": 37,
     "metadata": {},
     "output_type": "execute_result"
    }
   ],
   "source": [
    "ml1_env.reset()"
   ]
  },
  {
   "cell_type": "code",
   "execution_count": 24,
   "metadata": {},
   "outputs": [
    {
     "data": {
      "text/plain": [
       "[Task(env_name='pick-place-v2', data=b'\\x80\\x04\\x95=\\x01\\x00\\x00\\x00\\x00\\x00\\x00}\\x94(\\x8c\\x08rand_vec\\x94\\x8c\\x15numpy.core.multiarray\\x94\\x8c\\x0c_reconstruct\\x94\\x93\\x94\\x8c\\x05numpy\\x94\\x8c\\x07ndarray\\x94\\x93\\x94K\\x00\\x85\\x94C\\x01b\\x94\\x87\\x94R\\x94(K\\x01K\\x06\\x85\\x94h\\x05\\x8c\\x05dtype\\x94\\x93\\x94\\x8c\\x02f8\\x94\\x89\\x88\\x87\\x94R\\x94(K\\x03\\x8c\\x01<\\x94NNNJ\\xff\\xff\\xff\\xffJ\\xff\\xff\\xff\\xffK\\x00t\\x94b\\x89C0,\\xc1O\\xec%\\x8c\\xa4?\\xd2\\xa9\\xac\\xd8\\xc2W\\xe6?\\x00\\x00\\x00@\\xe1z\\x94?P\\xc2\\x08/\\x95\\x86\\xb8?\\x89M\\x80#\\xc0|\\xeb?\\xbfE\\x97\\xc4\\x01-\\xb4?\\x94t\\x94b\\x8c\\x07env_cls\\x94\\x8c8metaworld.envs.mujoco.sawyer_xyz.v2.sawyer_pick_place_v2\\x94\\x8c\\x14SawyerPickPlaceEnvV2\\x94\\x93\\x94\\x8c\\x14partially_observable\\x94\\x88u.'),\n",
       " Task(env_name='pick-place-v2', data=b\"\\x80\\x04\\x95=\\x01\\x00\\x00\\x00\\x00\\x00\\x00}\\x94(\\x8c\\x08rand_vec\\x94\\x8c\\x15numpy.core.multiarray\\x94\\x8c\\x0c_reconstruct\\x94\\x93\\x94\\x8c\\x05numpy\\x94\\x8c\\x07ndarray\\x94\\x93\\x94K\\x00\\x85\\x94C\\x01b\\x94\\x87\\x94R\\x94(K\\x01K\\x06\\x85\\x94h\\x05\\x8c\\x05dtype\\x94\\x93\\x94\\x8c\\x02f8\\x94\\x89\\x88\\x87\\x94R\\x94(K\\x03\\x8c\\x01<\\x94NNNJ\\xff\\xff\\xff\\xffJ\\xff\\xff\\xff\\xffK\\x00t\\x94b\\x89C0X\\xd3j\\xec'W\\xb5?>#)\\xde\\x05\\x97\\xe5?\\x00\\x00\\x00@\\xe1z\\x94?8\\x0c\\x1b5\\x8e\\x9d\\x9e?\\xbb\\xc1!K\\xc5\\xb0\\xea?Kx\\xc7\\xb5\\x1c:\\xc7?\\x94t\\x94b\\x8c\\x07env_cls\\x94\\x8c8metaworld.envs.mujoco.sawyer_xyz.v2.sawyer_pick_place_v2\\x94\\x8c\\x14SawyerPickPlaceEnvV2\\x94\\x93\\x94\\x8c\\x14partially_observable\\x94\\x88u.\"),\n",
       " Task(env_name='pick-place-v2', data=b'\\x80\\x04\\x95=\\x01\\x00\\x00\\x00\\x00\\x00\\x00}\\x94(\\x8c\\x08rand_vec\\x94\\x8c\\x15numpy.core.multiarray\\x94\\x8c\\x0c_reconstruct\\x94\\x93\\x94\\x8c\\x05numpy\\x94\\x8c\\x07ndarray\\x94\\x93\\x94K\\x00\\x85\\x94C\\x01b\\x94\\x87\\x94R\\x94(K\\x01K\\x06\\x85\\x94h\\x05\\x8c\\x05dtype\\x94\\x93\\x94\\x8c\\x02f8\\x94\\x89\\x88\\x87\\x94R\\x94(K\\x03\\x8c\\x01<\\x94NNNJ\\xff\\xff\\xff\\xffJ\\xff\\xff\\xff\\xffK\\x00t\\x94b\\x89C0\\x94M\\x0e\\\\B\\xda\\x9d\\xbf:y\\xe3\\x8cj\\x9e\\xe4?\\x00\\x00\\x00@\\xe1z\\x94?\\x009F\\xa7\\x02\\xd4\\xab?\\x00|>f\\\\\\xb5\\xec?\\xb4\\xb6\\xfa\\xa8\\xc75\\xd0?\\x94t\\x94b\\x8c\\x07env_cls\\x94\\x8c8metaworld.envs.mujoco.sawyer_xyz.v2.sawyer_pick_place_v2\\x94\\x8c\\x14SawyerPickPlaceEnvV2\\x94\\x93\\x94\\x8c\\x14partially_observable\\x94\\x88u.'),\n",
       " Task(env_name='pick-place-v2', data=b'\\x80\\x04\\x95=\\x01\\x00\\x00\\x00\\x00\\x00\\x00}\\x94(\\x8c\\x08rand_vec\\x94\\x8c\\x15numpy.core.multiarray\\x94\\x8c\\x0c_reconstruct\\x94\\x93\\x94\\x8c\\x05numpy\\x94\\x8c\\x07ndarray\\x94\\x93\\x94K\\x00\\x85\\x94C\\x01b\\x94\\x87\\x94R\\x94(K\\x01K\\x06\\x85\\x94h\\x05\\x8c\\x05dtype\\x94\\x93\\x94\\x8c\\x02f8\\x94\\x89\\x88\\x87\\x94R\\x94(K\\x03\\x8c\\x01<\\x94NNNJ\\xff\\xff\\xff\\xffJ\\xff\\xff\\xff\\xffK\\x00t\\x94b\\x89C0\\xf4\\xa8t\\xd1\\x00\\x80\\xa6?\\x83P\\xa7\\x15\\xb8\"\\xe5?\\x00\\x00\\x00@\\xe1z\\x94?\\xd4\\xe5zl\\xe1\\x07\\xaf?\\xe0\\xc5=\\xd7P\\x04\\xec?\\xa1`\\xf6\\x95\\xe64\\xb3?\\x94t\\x94b\\x8c\\x07env_cls\\x94\\x8c8metaworld.envs.mujoco.sawyer_xyz.v2.sawyer_pick_place_v2\\x94\\x8c\\x14SawyerPickPlaceEnvV2\\x94\\x93\\x94\\x8c\\x14partially_observable\\x94\\x88u.'),\n",
       " Task(env_name='pick-place-v2', data=b'\\x80\\x04\\x95=\\x01\\x00\\x00\\x00\\x00\\x00\\x00}\\x94(\\x8c\\x08rand_vec\\x94\\x8c\\x15numpy.core.multiarray\\x94\\x8c\\x0c_reconstruct\\x94\\x93\\x94\\x8c\\x05numpy\\x94\\x8c\\x07ndarray\\x94\\x93\\x94K\\x00\\x85\\x94C\\x01b\\x94\\x87\\x94R\\x94(K\\x01K\\x06\\x85\\x94h\\x05\\x8c\\x05dtype\\x94\\x93\\x94\\x8c\\x02f8\\x94\\x89\\x88\\x87\\x94R\\x94(K\\x03\\x8c\\x01<\\x94NNNJ\\xff\\xff\\xff\\xffJ\\xff\\xff\\xff\\xffK\\x00t\\x94b\\x89C0K^\\xb2\\x8bZV\\xb5\\xbf1\\xe3_\\x0c\\x14|\\xe4?\\x00\\x00\\x00@\\xe1z\\x94?\\xa8+\\x91\\x9d\\xb8\\xd3\\xa4?\\xa9%\\x13\\xb8\\xe3\\xe8\\xe9?uXL\\xb9b\\xf8\\xbe?\\x94t\\x94b\\x8c\\x07env_cls\\x94\\x8c8metaworld.envs.mujoco.sawyer_xyz.v2.sawyer_pick_place_v2\\x94\\x8c\\x14SawyerPickPlaceEnvV2\\x94\\x93\\x94\\x8c\\x14partially_observable\\x94\\x88u.'),\n",
       " Task(env_name='pick-place-v2', data=b'\\x80\\x04\\x95=\\x01\\x00\\x00\\x00\\x00\\x00\\x00}\\x94(\\x8c\\x08rand_vec\\x94\\x8c\\x15numpy.core.multiarray\\x94\\x8c\\x0c_reconstruct\\x94\\x93\\x94\\x8c\\x05numpy\\x94\\x8c\\x07ndarray\\x94\\x93\\x94K\\x00\\x85\\x94C\\x01b\\x94\\x87\\x94R\\x94(K\\x01K\\x06\\x85\\x94h\\x05\\x8c\\x05dtype\\x94\\x93\\x94\\x8c\\x02f8\\x94\\x89\\x88\\x87\\x94R\\x94(K\\x03\\x8c\\x01<\\x94NNNJ\\xff\\xff\\xff\\xffJ\\xff\\xff\\xff\\xffK\\x00t\\x94b\\x89C0\\x14\\xd7\\xef#\\xebW\\xa9?!+n\\xb9r\\x12\\xe4?\\x00\\x00\\x00@\\xe1z\\x94?\\x1el\\xb4c\\xac\\xcc\\xb6\\xbf\\x0c\\x8bF\\x11\\x05t\\xeb?H,\\xd1\\xb5\\xb9\\x05\\xc7?\\x94t\\x94b\\x8c\\x07env_cls\\x94\\x8c8metaworld.envs.mujoco.sawyer_xyz.v2.sawyer_pick_place_v2\\x94\\x8c\\x14SawyerPickPlaceEnvV2\\x94\\x93\\x94\\x8c\\x14partially_observable\\x94\\x88u.'),\n",
       " Task(env_name='pick-place-v2', data=b'\\x80\\x04\\x95=\\x01\\x00\\x00\\x00\\x00\\x00\\x00}\\x94(\\x8c\\x08rand_vec\\x94\\x8c\\x15numpy.core.multiarray\\x94\\x8c\\x0c_reconstruct\\x94\\x93\\x94\\x8c\\x05numpy\\x94\\x8c\\x07ndarray\\x94\\x93\\x94K\\x00\\x85\\x94C\\x01b\\x94\\x87\\x94R\\x94(K\\x01K\\x06\\x85\\x94h\\x05\\x8c\\x05dtype\\x94\\x93\\x94\\x8c\\x02f8\\x94\\x89\\x88\\x87\\x94R\\x94(K\\x03\\x8c\\x01<\\x94NNNJ\\xff\\xff\\xff\\xffJ\\xff\\xff\\xff\\xffK\\x00t\\x94b\\x89C0d\\xa2g\\xd3k\\x8a\\xad?o>\\x86;O\\x9f\\xe4?\\x00\\x00\\x00@\\xe1z\\x94?\\x1a\\xd6\\xfd\\x00\\xa7O\\xb8\\xbf\\xe8\\x19\\x8c\\x90\\xe2S\\xeb?v\\xc7;\\xae\\xd7 \\xb9?\\x94t\\x94b\\x8c\\x07env_cls\\x94\\x8c8metaworld.envs.mujoco.sawyer_xyz.v2.sawyer_pick_place_v2\\x94\\x8c\\x14SawyerPickPlaceEnvV2\\x94\\x93\\x94\\x8c\\x14partially_observable\\x94\\x88u.'),\n",
       " Task(env_name='pick-place-v2', data=b'\\x80\\x04\\x95=\\x01\\x00\\x00\\x00\\x00\\x00\\x00}\\x94(\\x8c\\x08rand_vec\\x94\\x8c\\x15numpy.core.multiarray\\x94\\x8c\\x0c_reconstruct\\x94\\x93\\x94\\x8c\\x05numpy\\x94\\x8c\\x07ndarray\\x94\\x93\\x94K\\x00\\x85\\x94C\\x01b\\x94\\x87\\x94R\\x94(K\\x01K\\x06\\x85\\x94h\\x05\\x8c\\x05dtype\\x94\\x93\\x94\\x8c\\x02f8\\x94\\x89\\x88\\x87\\x94R\\x94(K\\x03\\x8c\\x01<\\x94NNNJ\\xff\\xff\\xff\\xffJ\\xff\\xff\\xff\\xffK\\x00t\\x94b\\x89C0`6\\xfaE\\x95\\xa9\\xa9\\xbf\\xb6\\x82\\xa1C\\x10j\\xe4?\\x00\\x00\\x00@\\xe1z\\x94?\\xc0M\\x861\\xa9H\\x81\\xbf\\xa8X\\xc4\\xfc;\\xb0\\xeb?q\\xc0A\\x0c\\x07\\xdc\\xcb?\\x94t\\x94b\\x8c\\x07env_cls\\x94\\x8c8metaworld.envs.mujoco.sawyer_xyz.v2.sawyer_pick_place_v2\\x94\\x8c\\x14SawyerPickPlaceEnvV2\\x94\\x93\\x94\\x8c\\x14partially_observable\\x94\\x88u.'),\n",
       " Task(env_name='pick-place-v2', data=b'\\x80\\x04\\x95=\\x01\\x00\\x00\\x00\\x00\\x00\\x00}\\x94(\\x8c\\x08rand_vec\\x94\\x8c\\x15numpy.core.multiarray\\x94\\x8c\\x0c_reconstruct\\x94\\x93\\x94\\x8c\\x05numpy\\x94\\x8c\\x07ndarray\\x94\\x93\\x94K\\x00\\x85\\x94C\\x01b\\x94\\x87\\x94R\\x94(K\\x01K\\x06\\x85\\x94h\\x05\\x8c\\x05dtype\\x94\\x93\\x94\\x8c\\x02f8\\x94\\x89\\x88\\x87\\x94R\\x94(K\\x03\\x8c\\x01<\\x94NNNJ\\xff\\xff\\xff\\xffJ\\xff\\xff\\xff\\xffK\\x00t\\x94b\\x89C0:\\xc8H\\x0e/j\\xb0\\xbf0pJ\\\\/Z\\xe4?\\x00\\x00\\x00@\\xe1z\\x94?\\xf4C/\\xa5Ip\\xa6?\\x03N\\x12)-\\x9c\\xec?\\xee\\x9b\\x0f\\x7f\\xd8S\\xd2?\\x94t\\x94b\\x8c\\x07env_cls\\x94\\x8c8metaworld.envs.mujoco.sawyer_xyz.v2.sawyer_pick_place_v2\\x94\\x8c\\x14SawyerPickPlaceEnvV2\\x94\\x93\\x94\\x8c\\x14partially_observable\\x94\\x88u.'),\n",
       " Task(env_name='pick-place-v2', data=b'\\x80\\x04\\x95=\\x01\\x00\\x00\\x00\\x00\\x00\\x00}\\x94(\\x8c\\x08rand_vec\\x94\\x8c\\x15numpy.core.multiarray\\x94\\x8c\\x0c_reconstruct\\x94\\x93\\x94\\x8c\\x05numpy\\x94\\x8c\\x07ndarray\\x94\\x93\\x94K\\x00\\x85\\x94C\\x01b\\x94\\x87\\x94R\\x94(K\\x01K\\x06\\x85\\x94h\\x05\\x8c\\x05dtype\\x94\\x93\\x94\\x8c\\x02f8\\x94\\x89\\x88\\x87\\x94R\\x94(K\\x03\\x8c\\x01<\\x94NNNJ\\xff\\xff\\xff\\xffJ\\xff\\xff\\xff\\xffK\\x00t\\x94b\\x89C0\\xb2\\x98\\x1d*\\xa2\\x0c\\xb4?\\xa4\\xf8\\n\\x8b\\xa3\\x90\\xe4?\\x00\\x00\\x00@\\xe1z\\x94?6\\t\\xea\\xb5\\xa7\\xd2\\xa4\\xbfy\\x91i\\xaf\\x97\\xb6\\xea?&Xu\\xaa\\xef\\xdd\\xd1?\\x94t\\x94b\\x8c\\x07env_cls\\x94\\x8c8metaworld.envs.mujoco.sawyer_xyz.v2.sawyer_pick_place_v2\\x94\\x8c\\x14SawyerPickPlaceEnvV2\\x94\\x93\\x94\\x8c\\x14partially_observable\\x94\\x88u.'),\n",
       " Task(env_name='pick-place-v2', data=b'\\x80\\x04\\x95=\\x01\\x00\\x00\\x00\\x00\\x00\\x00}\\x94(\\x8c\\x08rand_vec\\x94\\x8c\\x15numpy.core.multiarray\\x94\\x8c\\x0c_reconstruct\\x94\\x93\\x94\\x8c\\x05numpy\\x94\\x8c\\x07ndarray\\x94\\x93\\x94K\\x00\\x85\\x94C\\x01b\\x94\\x87\\x94R\\x94(K\\x01K\\x06\\x85\\x94h\\x05\\x8c\\x05dtype\\x94\\x93\\x94\\x8c\\x02f8\\x94\\x89\\x88\\x87\\x94R\\x94(K\\x03\\x8c\\x01<\\x94NNNJ\\xff\\xff\\xff\\xffJ\\xff\\xff\\xff\\xffK\\x00t\\x94b\\x89C0j:W\\xd1\\x07\\xc6\\xa0\\xbf\\xf7\\xee\\xb8\\xa4\\xfc\\xd9\\xe4?\\x00\\x00\\x00@\\xe1z\\x94?\\xa8 coy\\xeb\\xa2?\\x9eLU\\xa0\\x12\\xaf\\xe9?|\\x9f0\\xef\\x11\\xd2\\xd0?\\x94t\\x94b\\x8c\\x07env_cls\\x94\\x8c8metaworld.envs.mujoco.sawyer_xyz.v2.sawyer_pick_place_v2\\x94\\x8c\\x14SawyerPickPlaceEnvV2\\x94\\x93\\x94\\x8c\\x14partially_observable\\x94\\x88u.'),\n",
       " Task(env_name='pick-place-v2', data=b\"\\x80\\x04\\x95=\\x01\\x00\\x00\\x00\\x00\\x00\\x00}\\x94(\\x8c\\x08rand_vec\\x94\\x8c\\x15numpy.core.multiarray\\x94\\x8c\\x0c_reconstruct\\x94\\x93\\x94\\x8c\\x05numpy\\x94\\x8c\\x07ndarray\\x94\\x93\\x94K\\x00\\x85\\x94C\\x01b\\x94\\x87\\x94R\\x94(K\\x01K\\x06\\x85\\x94h\\x05\\x8c\\x05dtype\\x94\\x93\\x94\\x8c\\x02f8\\x94\\x89\\x88\\x87\\x94R\\x94(K\\x03\\x8c\\x01<\\x94NNNJ\\xff\\xff\\xff\\xffJ\\xff\\xff\\xff\\xffK\\x00t\\x94b\\x89C0 \\x1b\\xe3\\x88\\x10\\x16\\x80?\\xc9\\xa1\\x8fCXx\\xe5?\\x00\\x00\\x00@\\xe1z\\x94?\\xf4\\xde\\x89v\\xb74\\x9a\\xbf\\x9b\\xf3R\\xb9'\\x85\\xea?|\\xd0\\xd2\\xb9\\xb1\\xe1\\xcc?\\x94t\\x94b\\x8c\\x07env_cls\\x94\\x8c8metaworld.envs.mujoco.sawyer_xyz.v2.sawyer_pick_place_v2\\x94\\x8c\\x14SawyerPickPlaceEnvV2\\x94\\x93\\x94\\x8c\\x14partially_observable\\x94\\x88u.\"),\n",
       " Task(env_name='pick-place-v2', data=b'\\x80\\x04\\x95=\\x01\\x00\\x00\\x00\\x00\\x00\\x00}\\x94(\\x8c\\x08rand_vec\\x94\\x8c\\x15numpy.core.multiarray\\x94\\x8c\\x0c_reconstruct\\x94\\x93\\x94\\x8c\\x05numpy\\x94\\x8c\\x07ndarray\\x94\\x93\\x94K\\x00\\x85\\x94C\\x01b\\x94\\x87\\x94R\\x94(K\\x01K\\x06\\x85\\x94h\\x05\\x8c\\x05dtype\\x94\\x93\\x94\\x8c\\x02f8\\x94\\x89\\x88\\x87\\x94R\\x94(K\\x03\\x8c\\x01<\\x94NNNJ\\xff\\xff\\xff\\xffJ\\xff\\xff\\xff\\xffK\\x00t\\x94b\\x89C0@1\\x10\\xd4\\x03\\xed\\x89?:m\"\\x7f\\x85\\x82\\xe4?\\x00\\x00\\x00@\\xe1z\\x94?\\t\\xc7^>\\x15\\xea\\xb5\\xbf\\xb7\\x0b\\x98\\t\\xc4\\xab\\xeb?\\xfe\\xb3~n\\xfe\\xc4\\xd1?\\x94t\\x94b\\x8c\\x07env_cls\\x94\\x8c8metaworld.envs.mujoco.sawyer_xyz.v2.sawyer_pick_place_v2\\x94\\x8c\\x14SawyerPickPlaceEnvV2\\x94\\x93\\x94\\x8c\\x14partially_observable\\x94\\x88u.'),\n",
       " Task(env_name='pick-place-v2', data=b'\\x80\\x04\\x95=\\x01\\x00\\x00\\x00\\x00\\x00\\x00}\\x94(\\x8c\\x08rand_vec\\x94\\x8c\\x15numpy.core.multiarray\\x94\\x8c\\x0c_reconstruct\\x94\\x93\\x94\\x8c\\x05numpy\\x94\\x8c\\x07ndarray\\x94\\x93\\x94K\\x00\\x85\\x94C\\x01b\\x94\\x87\\x94R\\x94(K\\x01K\\x06\\x85\\x94h\\x05\\x8c\\x05dtype\\x94\\x93\\x94\\x8c\\x02f8\\x94\\x89\\x88\\x87\\x94R\\x94(K\\x03\\x8c\\x01<\\x94NNNJ\\xff\\xff\\xff\\xffJ\\xff\\xff\\xff\\xffK\\x00t\\x94b\\x89C0P\\x9f\\xc8)\\x11\\x1c\\x99?\\xdc\\xf7\\xc4\\xe4{>\\xe3?\\x00\\x00\\x00@\\xe1z\\x94?X\\x8cu\\xff\\xc0\\x8d\\x97\\xbf\\xd7\\xa6\\x0f}^6\\xea?\\xa8\\x15d\\x7f\\xb1V\\xd2?\\x94t\\x94b\\x8c\\x07env_cls\\x94\\x8c8metaworld.envs.mujoco.sawyer_xyz.v2.sawyer_pick_place_v2\\x94\\x8c\\x14SawyerPickPlaceEnvV2\\x94\\x93\\x94\\x8c\\x14partially_observable\\x94\\x88u.'),\n",
       " Task(env_name='pick-place-v2', data=b'\\x80\\x04\\x95=\\x01\\x00\\x00\\x00\\x00\\x00\\x00}\\x94(\\x8c\\x08rand_vec\\x94\\x8c\\x15numpy.core.multiarray\\x94\\x8c\\x0c_reconstruct\\x94\\x93\\x94\\x8c\\x05numpy\\x94\\x8c\\x07ndarray\\x94\\x93\\x94K\\x00\\x85\\x94C\\x01b\\x94\\x87\\x94R\\x94(K\\x01K\\x06\\x85\\x94h\\x05\\x8c\\x05dtype\\x94\\x93\\x94\\x8c\\x02f8\\x94\\x89\\x88\\x87\\x94R\\x94(K\\x03\\x8c\\x01<\\x94NNNJ\\xff\\xff\\xff\\xffJ\\xff\\xff\\xff\\xffK\\x00t\\x94b\\x89C0 p\\x0bU\\x95\\xd0i\\xbf\\xe2n\\xa5\\xac\\x8d\\xb0\\xe3?\\x00\\x00\\x00@\\xe1z\\x94?x\\xcazt\\xd5\\x03\\xaa\\xbfSx\\xc7\\x82\\xca\\xbc\\xe9?\\xf0\\xea\\\\\\x00o\\x9c\\xa9?\\x94t\\x94b\\x8c\\x07env_cls\\x94\\x8c8metaworld.envs.mujoco.sawyer_xyz.v2.sawyer_pick_place_v2\\x94\\x8c\\x14SawyerPickPlaceEnvV2\\x94\\x93\\x94\\x8c\\x14partially_observable\\x94\\x88u.'),\n",
       " Task(env_name='pick-place-v2', data=b'\\x80\\x04\\x95=\\x01\\x00\\x00\\x00\\x00\\x00\\x00}\\x94(\\x8c\\x08rand_vec\\x94\\x8c\\x15numpy.core.multiarray\\x94\\x8c\\x0c_reconstruct\\x94\\x93\\x94\\x8c\\x05numpy\\x94\\x8c\\x07ndarray\\x94\\x93\\x94K\\x00\\x85\\x94C\\x01b\\x94\\x87\\x94R\\x94(K\\x01K\\x06\\x85\\x94h\\x05\\x8c\\x05dtype\\x94\\x93\\x94\\x8c\\x02f8\\x94\\x89\\x88\\x87\\x94R\\x94(K\\x03\\x8c\\x01<\\x94NNNJ\\xff\\xff\\xff\\xffJ\\xff\\xff\\xff\\xffK\\x00t\\x94b\\x89C0\\xf6\\xbb\\x14U\\xa4s\\xb3?\\xad\\x0f\\x025\\xf3\\x12\\xe4?\\x00\\x00\\x00@\\xe1z\\x94?\\xf0[\\x1fi\\xf4\\x8c\\xb6?\\xe0ni\\x8d1R\\xeb?\\xea\\xef\\x8a\\x0c\\xf0K\\xc4?\\x94t\\x94b\\x8c\\x07env_cls\\x94\\x8c8metaworld.envs.mujoco.sawyer_xyz.v2.sawyer_pick_place_v2\\x94\\x8c\\x14SawyerPickPlaceEnvV2\\x94\\x93\\x94\\x8c\\x14partially_observable\\x94\\x88u.'),\n",
       " Task(env_name='pick-place-v2', data=b'\\x80\\x04\\x95=\\x01\\x00\\x00\\x00\\x00\\x00\\x00}\\x94(\\x8c\\x08rand_vec\\x94\\x8c\\x15numpy.core.multiarray\\x94\\x8c\\x0c_reconstruct\\x94\\x93\\x94\\x8c\\x05numpy\\x94\\x8c\\x07ndarray\\x94\\x93\\x94K\\x00\\x85\\x94C\\x01b\\x94\\x87\\x94R\\x94(K\\x01K\\x06\\x85\\x94h\\x05\\x8c\\x05dtype\\x94\\x93\\x94\\x8c\\x02f8\\x94\\x89\\x88\\x87\\x94R\\x94(K\\x03\\x8c\\x01<\\x94NNNJ\\xff\\xff\\xff\\xffJ\\xff\\xff\\xff\\xffK\\x00t\\x94b\\x89C0\\xe04\\xfe\\xcb\\x90\\x1b\\xb0\\xbf\\xec\\xd0\\xc9\\x91\\x04\\n\\xe4?\\x00\\x00\\x00@\\xe1z\\x94?\\x98\\xb9Z\\xc5!\\x06\\x91\\xbf\\x05\\x87\\xf7\\xbdh,\\xea?\\xf8S\\xc5q\\xbb\\xc2\\xac?\\x94t\\x94b\\x8c\\x07env_cls\\x94\\x8c8metaworld.envs.mujoco.sawyer_xyz.v2.sawyer_pick_place_v2\\x94\\x8c\\x14SawyerPickPlaceEnvV2\\x94\\x93\\x94\\x8c\\x14partially_observable\\x94\\x88u.'),\n",
       " Task(env_name='pick-place-v2', data=b'\\x80\\x04\\x95=\\x01\\x00\\x00\\x00\\x00\\x00\\x00}\\x94(\\x8c\\x08rand_vec\\x94\\x8c\\x15numpy.core.multiarray\\x94\\x8c\\x0c_reconstruct\\x94\\x93\\x94\\x8c\\x05numpy\\x94\\x8c\\x07ndarray\\x94\\x93\\x94K\\x00\\x85\\x94C\\x01b\\x94\\x87\\x94R\\x94(K\\x01K\\x06\\x85\\x94h\\x05\\x8c\\x05dtype\\x94\\x93\\x94\\x8c\\x02f8\\x94\\x89\\x88\\x87\\x94R\\x94(K\\x03\\x8c\\x01<\\x94NNNJ\\xff\\xff\\xff\\xffJ\\xff\\xff\\xff\\xffK\\x00t\\x94b\\x89C0,\\xc3\\xd0\\xb2\\xa4\\x99\\x9e\\xbf\\x82#q9d\\xaa\\xe4?\\x00\\x00\\x00@\\xe1z\\x94?\\xbf\\xd9\\xbbA\\xd5<\\xad\\xbf:\\xde8\\x94(\\x8a\\xeb?\\xd0\\xd8\\x84\\xb9\\x90\\xde\\xd2?\\x94t\\x94b\\x8c\\x07env_cls\\x94\\x8c8metaworld.envs.mujoco.sawyer_xyz.v2.sawyer_pick_place_v2\\x94\\x8c\\x14SawyerPickPlaceEnvV2\\x94\\x93\\x94\\x8c\\x14partially_observable\\x94\\x88u.'),\n",
       " Task(env_name='pick-place-v2', data=b'\\x80\\x04\\x95=\\x01\\x00\\x00\\x00\\x00\\x00\\x00}\\x94(\\x8c\\x08rand_vec\\x94\\x8c\\x15numpy.core.multiarray\\x94\\x8c\\x0c_reconstruct\\x94\\x93\\x94\\x8c\\x05numpy\\x94\\x8c\\x07ndarray\\x94\\x93\\x94K\\x00\\x85\\x94C\\x01b\\x94\\x87\\x94R\\x94(K\\x01K\\x06\\x85\\x94h\\x05\\x8c\\x05dtype\\x94\\x93\\x94\\x8c\\x02f8\\x94\\x89\\x88\\x87\\x94R\\x94(K\\x03\\x8c\\x01<\\x94NNNJ\\xff\\xff\\xff\\xffJ\\xff\\xff\\xff\\xffK\\x00t\\x94b\\x89C0\\xd8\\xfaO\\x06\\xce\\xa4\\x93?DO\\xdb\\xa5\\x1fD\\xe5?\\x00\\x00\\x00@\\xe1z\\x94?\\xf0\\x845\\xe4WC\\x92?h\\xb8\\x13x\\x9a\\xe9\\xeb?\\xd3\\x8b\\xe4\\x8e\\xe8,\\xc1?\\x94t\\x94b\\x8c\\x07env_cls\\x94\\x8c8metaworld.envs.mujoco.sawyer_xyz.v2.sawyer_pick_place_v2\\x94\\x8c\\x14SawyerPickPlaceEnvV2\\x94\\x93\\x94\\x8c\\x14partially_observable\\x94\\x88u.'),\n",
       " Task(env_name='pick-place-v2', data=b'\\x80\\x04\\x95=\\x01\\x00\\x00\\x00\\x00\\x00\\x00}\\x94(\\x8c\\x08rand_vec\\x94\\x8c\\x15numpy.core.multiarray\\x94\\x8c\\x0c_reconstruct\\x94\\x93\\x94\\x8c\\x05numpy\\x94\\x8c\\x07ndarray\\x94\\x93\\x94K\\x00\\x85\\x94C\\x01b\\x94\\x87\\x94R\\x94(K\\x01K\\x06\\x85\\x94h\\x05\\x8c\\x05dtype\\x94\\x93\\x94\\x8c\\x02f8\\x94\\x89\\x88\\x87\\x94R\\x94(K\\x03\\x8c\\x01<\\x94NNNJ\\xff\\xff\\xff\\xffJ\\xff\\xff\\xff\\xffK\\x00t\\x94b\\x89C0De\\xbf\\x80\\xca\\xa4\\xb7?\\xa1\\xbd\\xbdVX\\x0b\\xe5?\\x00\\x00\\x00@\\xe1z\\x94?\\xe9}f\\xb5d\\x15\\xb6\\xbfaA\\xff\\xcf.\\xe6\\xeb?\\x144Y\\x07\\xe3\\x87\\xd2?\\x94t\\x94b\\x8c\\x07env_cls\\x94\\x8c8metaworld.envs.mujoco.sawyer_xyz.v2.sawyer_pick_place_v2\\x94\\x8c\\x14SawyerPickPlaceEnvV2\\x94\\x93\\x94\\x8c\\x14partially_observable\\x94\\x88u.'),\n",
       " Task(env_name='pick-place-v2', data=b'\\x80\\x04\\x95=\\x01\\x00\\x00\\x00\\x00\\x00\\x00}\\x94(\\x8c\\x08rand_vec\\x94\\x8c\\x15numpy.core.multiarray\\x94\\x8c\\x0c_reconstruct\\x94\\x93\\x94\\x8c\\x05numpy\\x94\\x8c\\x07ndarray\\x94\\x93\\x94K\\x00\\x85\\x94C\\x01b\\x94\\x87\\x94R\\x94(K\\x01K\\x06\\x85\\x94h\\x05\\x8c\\x05dtype\\x94\\x93\\x94\\x8c\\x02f8\\x94\\x89\\x88\\x87\\x94R\\x94(K\\x03\\x8c\\x01<\\x94NNNJ\\xff\\xff\\xff\\xffJ\\xff\\xff\\xff\\xffK\\x00t\\x94b\\x89C0z\\x95\\x12\\xf8%\\xb6\\xb6?\\x16\\\\h\\xd2\\x0by\\xe3?\\x00\\x00\\x00@\\xe1z\\x94?\\xac\\xa4]\\xcf .\\x9d\\xbf\\x08\\xec8\\xef\\x8c\\xc0\\xec?\\x04\\x1f)$x#\\xbd?\\x94t\\x94b\\x8c\\x07env_cls\\x94\\x8c8metaworld.envs.mujoco.sawyer_xyz.v2.sawyer_pick_place_v2\\x94\\x8c\\x14SawyerPickPlaceEnvV2\\x94\\x93\\x94\\x8c\\x14partially_observable\\x94\\x88u.'),\n",
       " Task(env_name='pick-place-v2', data=b'\\x80\\x04\\x95=\\x01\\x00\\x00\\x00\\x00\\x00\\x00}\\x94(\\x8c\\x08rand_vec\\x94\\x8c\\x15numpy.core.multiarray\\x94\\x8c\\x0c_reconstruct\\x94\\x93\\x94\\x8c\\x05numpy\\x94\\x8c\\x07ndarray\\x94\\x93\\x94K\\x00\\x85\\x94C\\x01b\\x94\\x87\\x94R\\x94(K\\x01K\\x06\\x85\\x94h\\x05\\x8c\\x05dtype\\x94\\x93\\x94\\x8c\\x02f8\\x94\\x89\\x88\\x87\\x94R\\x94(K\\x03\\x8c\\x01<\\x94NNNJ\\xff\\xff\\xff\\xffJ\\xff\\xff\\xff\\xffK\\x00t\\x94b\\x89C0\\x89u\\xfb\\xb5\\xa86\\xaa\\xbf&\\x91\\xed\\x8e`\\x19\\xe5?\\x00\\x00\\x00@\\xe1z\\x94?\\x12\\xd5\\xbe\\xcc\\xaar\\xa8\\xbf\\xcc\\xb8\\x0e\\x8e\\x86j\\xec?|I\\xf6\\x12\\n/\\xce?\\x94t\\x94b\\x8c\\x07env_cls\\x94\\x8c8metaworld.envs.mujoco.sawyer_xyz.v2.sawyer_pick_place_v2\\x94\\x8c\\x14SawyerPickPlaceEnvV2\\x94\\x93\\x94\\x8c\\x14partially_observable\\x94\\x88u.'),\n",
       " Task(env_name='pick-place-v2', data=b'\\x80\\x04\\x95=\\x01\\x00\\x00\\x00\\x00\\x00\\x00}\\x94(\\x8c\\x08rand_vec\\x94\\x8c\\x15numpy.core.multiarray\\x94\\x8c\\x0c_reconstruct\\x94\\x93\\x94\\x8c\\x05numpy\\x94\\x8c\\x07ndarray\\x94\\x93\\x94K\\x00\\x85\\x94C\\x01b\\x94\\x87\\x94R\\x94(K\\x01K\\x06\\x85\\x94h\\x05\\x8c\\x05dtype\\x94\\x93\\x94\\x8c\\x02f8\\x94\\x89\\x88\\x87\\x94R\\x94(K\\x03\\x8c\\x01<\\x94NNNJ\\xff\\xff\\xff\\xffJ\\xff\\xff\\xff\\xffK\\x00t\\x94b\\x89C0dz\\xa5\\xfe0\\x9a\\xa8?\\x14\\x00\\xc4\\xe9\\\\\\x8c\\xe4?\\x00\\x00\\x00@\\xe1z\\x94?\\xf1\\xe7+{\\xc3\\x0e\\xb4\\xbfw&e\\xd2\\xe7\\xa0\\xea?L\\xda\\xdfu\\xf3\\xb8\\xc4?\\x94t\\x94b\\x8c\\x07env_cls\\x94\\x8c8metaworld.envs.mujoco.sawyer_xyz.v2.sawyer_pick_place_v2\\x94\\x8c\\x14SawyerPickPlaceEnvV2\\x94\\x93\\x94\\x8c\\x14partially_observable\\x94\\x88u.'),\n",
       " Task(env_name='pick-place-v2', data=b'\\x80\\x04\\x95=\\x01\\x00\\x00\\x00\\x00\\x00\\x00}\\x94(\\x8c\\x08rand_vec\\x94\\x8c\\x15numpy.core.multiarray\\x94\\x8c\\x0c_reconstruct\\x94\\x93\\x94\\x8c\\x05numpy\\x94\\x8c\\x07ndarray\\x94\\x93\\x94K\\x00\\x85\\x94C\\x01b\\x94\\x87\\x94R\\x94(K\\x01K\\x06\\x85\\x94h\\x05\\x8c\\x05dtype\\x94\\x93\\x94\\x8c\\x02f8\\x94\\x89\\x88\\x87\\x94R\\x94(K\\x03\\x8c\\x01<\\x94NNNJ\\xff\\xff\\xff\\xffJ\\xff\\xff\\xff\\xffK\\x00t\\x94b\\x89C0\\xb0S\\x88\\x91J\\xbe\\x99\\xbf\\xecO\\xc1\\xe7\\xb0H\\xe4?\\x00\\x00\\x00@\\xe1z\\x94?\\x10\\x13\\xd2CB\\x10\\x8c\\xbfB\\xa4&\\xean\\x19\\xea?Np\"=7\\x9a\\xcb?\\x94t\\x94b\\x8c\\x07env_cls\\x94\\x8c8metaworld.envs.mujoco.sawyer_xyz.v2.sawyer_pick_place_v2\\x94\\x8c\\x14SawyerPickPlaceEnvV2\\x94\\x93\\x94\\x8c\\x14partially_observable\\x94\\x88u.'),\n",
       " Task(env_name='pick-place-v2', data=b\"\\x80\\x04\\x95=\\x01\\x00\\x00\\x00\\x00\\x00\\x00}\\x94(\\x8c\\x08rand_vec\\x94\\x8c\\x15numpy.core.multiarray\\x94\\x8c\\x0c_reconstruct\\x94\\x93\\x94\\x8c\\x05numpy\\x94\\x8c\\x07ndarray\\x94\\x93\\x94K\\x00\\x85\\x94C\\x01b\\x94\\x87\\x94R\\x94(K\\x01K\\x06\\x85\\x94h\\x05\\x8c\\x05dtype\\x94\\x93\\x94\\x8c\\x02f8\\x94\\x89\\x88\\x87\\x94R\\x94(K\\x03\\x8c\\x01<\\x94NNNJ\\xff\\xff\\xff\\xffJ\\xff\\xff\\xff\\xffK\\x00t\\x94b\\x89C0\\x1c\\xd1-U3\\x12\\x96\\xbf\\xefD\\x7f\\x13'\\x05\\xe5?\\x00\\x00\\x00@\\xe1z\\x94?,u63D\\xaf\\xb8?\\xa6\\xdb\\xebR\\xd2\\x84\\xec?\\x81|+i\\x81\\xef\\xcf?\\x94t\\x94b\\x8c\\x07env_cls\\x94\\x8c8metaworld.envs.mujoco.sawyer_xyz.v2.sawyer_pick_place_v2\\x94\\x8c\\x14SawyerPickPlaceEnvV2\\x94\\x93\\x94\\x8c\\x14partially_observable\\x94\\x88u.\"),\n",
       " Task(env_name='pick-place-v2', data=b'\\x80\\x04\\x95=\\x01\\x00\\x00\\x00\\x00\\x00\\x00}\\x94(\\x8c\\x08rand_vec\\x94\\x8c\\x15numpy.core.multiarray\\x94\\x8c\\x0c_reconstruct\\x94\\x93\\x94\\x8c\\x05numpy\\x94\\x8c\\x07ndarray\\x94\\x93\\x94K\\x00\\x85\\x94C\\x01b\\x94\\x87\\x94R\\x94(K\\x01K\\x06\\x85\\x94h\\x05\\x8c\\x05dtype\\x94\\x93\\x94\\x8c\\x02f8\\x94\\x89\\x88\\x87\\x94R\\x94(K\\x03\\x8c\\x01<\\x94NNNJ\\xff\\xff\\xff\\xffJ\\xff\\xff\\xff\\xffK\\x00t\\x94b\\x89C0\\xe0\\xf9k\\x19\\x9a\\x8a\\x9c\\xbf\\xeb\\xf9\\x01\\xe8@G\\xe4?\\x00\\x00\\x00@\\xe1z\\x94?\\xb0\\x03\\xcf/N;\\xa0?\\xa2\\xf9k\\x8d\\x12\\xe0\\xeb?\\xec,)K\\xec]\\xb7?\\x94t\\x94b\\x8c\\x07env_cls\\x94\\x8c8metaworld.envs.mujoco.sawyer_xyz.v2.sawyer_pick_place_v2\\x94\\x8c\\x14SawyerPickPlaceEnvV2\\x94\\x93\\x94\\x8c\\x14partially_observable\\x94\\x88u.'),\n",
       " Task(env_name='pick-place-v2', data=b'\\x80\\x04\\x95=\\x01\\x00\\x00\\x00\\x00\\x00\\x00}\\x94(\\x8c\\x08rand_vec\\x94\\x8c\\x15numpy.core.multiarray\\x94\\x8c\\x0c_reconstruct\\x94\\x93\\x94\\x8c\\x05numpy\\x94\\x8c\\x07ndarray\\x94\\x93\\x94K\\x00\\x85\\x94C\\x01b\\x94\\x87\\x94R\\x94(K\\x01K\\x06\\x85\\x94h\\x05\\x8c\\x05dtype\\x94\\x93\\x94\\x8c\\x02f8\\x94\\x89\\x88\\x87\\x94R\\x94(K\\x03\\x8c\\x01<\\x94NNNJ\\xff\\xff\\xff\\xffJ\\xff\\xff\\xff\\xffK\\x00t\\x94b\\x89C0\\xb0A\\xb1aG\\xc4\\x92?Y\\xfd#\\x96Ze\\xe3?\\x00\\x00\\x00@\\xe1z\\x94?\\xc8i\\xaf\\xc1\\x7f\\xa1\\x94\\xbf+\\x84\\xc5\\xfe\\x03\\xbe\\xeb?\\xc0\\x8a\\xf7\\x92\\xeax\\xc1?\\x94t\\x94b\\x8c\\x07env_cls\\x94\\x8c8metaworld.envs.mujoco.sawyer_xyz.v2.sawyer_pick_place_v2\\x94\\x8c\\x14SawyerPickPlaceEnvV2\\x94\\x93\\x94\\x8c\\x14partially_observable\\x94\\x88u.'),\n",
       " Task(env_name='pick-place-v2', data=b'\\x80\\x04\\x95=\\x01\\x00\\x00\\x00\\x00\\x00\\x00}\\x94(\\x8c\\x08rand_vec\\x94\\x8c\\x15numpy.core.multiarray\\x94\\x8c\\x0c_reconstruct\\x94\\x93\\x94\\x8c\\x05numpy\\x94\\x8c\\x07ndarray\\x94\\x93\\x94K\\x00\\x85\\x94C\\x01b\\x94\\x87\\x94R\\x94(K\\x01K\\x06\\x85\\x94h\\x05\\x8c\\x05dtype\\x94\\x93\\x94\\x8c\\x02f8\\x94\\x89\\x88\\x87\\x94R\\x94(K\\x03\\x8c\\x01<\\x94NNNJ\\xff\\xff\\xff\\xffJ\\xff\\xff\\xff\\xffK\\x00t\\x94b\\x89C0 \\xc8\\x15\\xf9o\\xc0\\x8f?A\\xc6-\\xe7\\xf5\\x8a\\xe4?\\x00\\x00\\x00@\\xe1z\\x94?\\x9c\\xdcf\\xa6\\xa7\\x90\\xb7?\\xd6\\xc5\\xb2\\xcf\\xe4\\xd3\\xe9?\\xb28Z\\x9e\\xa0\\x8b\\xc6?\\x94t\\x94b\\x8c\\x07env_cls\\x94\\x8c8metaworld.envs.mujoco.sawyer_xyz.v2.sawyer_pick_place_v2\\x94\\x8c\\x14SawyerPickPlaceEnvV2\\x94\\x93\\x94\\x8c\\x14partially_observable\\x94\\x88u.'),\n",
       " Task(env_name='pick-place-v2', data=b'\\x80\\x04\\x95=\\x01\\x00\\x00\\x00\\x00\\x00\\x00}\\x94(\\x8c\\x08rand_vec\\x94\\x8c\\x15numpy.core.multiarray\\x94\\x8c\\x0c_reconstruct\\x94\\x93\\x94\\x8c\\x05numpy\\x94\\x8c\\x07ndarray\\x94\\x93\\x94K\\x00\\x85\\x94C\\x01b\\x94\\x87\\x94R\\x94(K\\x01K\\x06\\x85\\x94h\\x05\\x8c\\x05dtype\\x94\\x93\\x94\\x8c\\x02f8\\x94\\x89\\x88\\x87\\x94R\\x94(K\\x03\\x8c\\x01<\\x94NNNJ\\xff\\xff\\xff\\xffJ\\xff\\xff\\xff\\xffK\\x00t\\x94b\\x89C0\\xb2\\x88\\x9e\\x16,\\xa1\\xb0\\xbfg\\x0b\\x13\\xc2\\xe0R\\xe3?\\x00\\x00\\x00@\\xe1z\\x94?\\xe6\\x0eS\\xf8\\xcdD\\xb6?\\xa4RH2\\x19\\x13\\xea?\\x86\\x02Z\\xadxO\\xc8?\\x94t\\x94b\\x8c\\x07env_cls\\x94\\x8c8metaworld.envs.mujoco.sawyer_xyz.v2.sawyer_pick_place_v2\\x94\\x8c\\x14SawyerPickPlaceEnvV2\\x94\\x93\\x94\\x8c\\x14partially_observable\\x94\\x88u.'),\n",
       " Task(env_name='pick-place-v2', data=b'\\x80\\x04\\x95=\\x01\\x00\\x00\\x00\\x00\\x00\\x00}\\x94(\\x8c\\x08rand_vec\\x94\\x8c\\x15numpy.core.multiarray\\x94\\x8c\\x0c_reconstruct\\x94\\x93\\x94\\x8c\\x05numpy\\x94\\x8c\\x07ndarray\\x94\\x93\\x94K\\x00\\x85\\x94C\\x01b\\x94\\x87\\x94R\\x94(K\\x01K\\x06\\x85\\x94h\\x05\\x8c\\x05dtype\\x94\\x93\\x94\\x8c\\x02f8\\x94\\x89\\x88\\x87\\x94R\\x94(K\\x03\\x8c\\x01<\\x94NNNJ\\xff\\xff\\xff\\xffJ\\xff\\xff\\xff\\xffK\\x00t\\x94b\\x89C0\\xf4\\x8a)<\\xf3\\xbd\\xa5?\\x11oJG|\\xc9\\xe4?\\x00\\x00\\x00@\\xe1z\\x94?\\x00q)i9\\x0bb\\xbf\\xfc\\xdc&#\\xf6B\\xeb?>N\\x8fz\\xf8P\\xb4?\\x94t\\x94b\\x8c\\x07env_cls\\x94\\x8c8metaworld.envs.mujoco.sawyer_xyz.v2.sawyer_pick_place_v2\\x94\\x8c\\x14SawyerPickPlaceEnvV2\\x94\\x93\\x94\\x8c\\x14partially_observable\\x94\\x88u.'),\n",
       " Task(env_name='pick-place-v2', data=b'\\x80\\x04\\x95=\\x01\\x00\\x00\\x00\\x00\\x00\\x00}\\x94(\\x8c\\x08rand_vec\\x94\\x8c\\x15numpy.core.multiarray\\x94\\x8c\\x0c_reconstruct\\x94\\x93\\x94\\x8c\\x05numpy\\x94\\x8c\\x07ndarray\\x94\\x93\\x94K\\x00\\x85\\x94C\\x01b\\x94\\x87\\x94R\\x94(K\\x01K\\x06\\x85\\x94h\\x05\\x8c\\x05dtype\\x94\\x93\\x94\\x8c\\x02f8\\x94\\x89\\x88\\x87\\x94R\\x94(K\\x03\\x8c\\x01<\\x94NNNJ\\xff\\xff\\xff\\xffJ\\xff\\xff\\xff\\xffK\\x00t\\x94b\\x89C0/1\\x8e\\x1c\\x17\\x1c\\xaf\\xbf\\x95\\xdd\\x82\\x1f\\x16Y\\xe6?\\x00\\x00\\x00@\\xe1z\\x94??\\x1b\\xcfM\\xff\\x88\\xab\\xbf\\xd7\\x04\\x81\\xc8\\xc0L\\xec?\\x08\\r\\xa3r+*\\xd3?\\x94t\\x94b\\x8c\\x07env_cls\\x94\\x8c8metaworld.envs.mujoco.sawyer_xyz.v2.sawyer_pick_place_v2\\x94\\x8c\\x14SawyerPickPlaceEnvV2\\x94\\x93\\x94\\x8c\\x14partially_observable\\x94\\x88u.'),\n",
       " Task(env_name='pick-place-v2', data=b'\\x80\\x04\\x95=\\x01\\x00\\x00\\x00\\x00\\x00\\x00}\\x94(\\x8c\\x08rand_vec\\x94\\x8c\\x15numpy.core.multiarray\\x94\\x8c\\x0c_reconstruct\\x94\\x93\\x94\\x8c\\x05numpy\\x94\\x8c\\x07ndarray\\x94\\x93\\x94K\\x00\\x85\\x94C\\x01b\\x94\\x87\\x94R\\x94(K\\x01K\\x06\\x85\\x94h\\x05\\x8c\\x05dtype\\x94\\x93\\x94\\x8c\\x02f8\\x94\\x89\\x88\\x87\\x94R\\x94(K\\x03\\x8c\\x01<\\x94NNNJ\\xff\\xff\\xff\\xffJ\\xff\\xff\\xff\\xffK\\x00t\\x94b\\x89C0\\x19\\xc5\\x05\\x04\\xd4.\\xb9\\xbf2.\\xfaE\\x86\\x03\\xe6?\\x00\\x00\\x00@\\xe1z\\x94?.(:\\x1d\\xdb\\x93\\xb3\\xbf\\x15s\\x9a\\x89\\xce\\xef\\xea?\\x15\\x84\\xca\\xa6\\xbe\\x83\\xb4?\\x94t\\x94b\\x8c\\x07env_cls\\x94\\x8c8metaworld.envs.mujoco.sawyer_xyz.v2.sawyer_pick_place_v2\\x94\\x8c\\x14SawyerPickPlaceEnvV2\\x94\\x93\\x94\\x8c\\x14partially_observable\\x94\\x88u.'),\n",
       " Task(env_name='pick-place-v2', data=b\"\\x80\\x04\\x95=\\x01\\x00\\x00\\x00\\x00\\x00\\x00}\\x94(\\x8c\\x08rand_vec\\x94\\x8c\\x15numpy.core.multiarray\\x94\\x8c\\x0c_reconstruct\\x94\\x93\\x94\\x8c\\x05numpy\\x94\\x8c\\x07ndarray\\x94\\x93\\x94K\\x00\\x85\\x94C\\x01b\\x94\\x87\\x94R\\x94(K\\x01K\\x06\\x85\\x94h\\x05\\x8c\\x05dtype\\x94\\x93\\x94\\x8c\\x02f8\\x94\\x89\\x88\\x87\\x94R\\x94(K\\x03\\x8c\\x01<\\x94NNNJ\\xff\\xff\\xff\\xffJ\\xff\\xff\\xff\\xffK\\x00t\\x94b\\x89C0\\xa8\\xf5'\\xb5\\xd9E\\xac\\xbf\\x1e?\\xb2\\xbc\\xc2a\\xe6?\\x00\\x00\\x00@\\xe1z\\x94?T\\x15\\xe0!Z\\xd1\\xae?gi\\x06\\xb1\\xa3q\\xeb?b\\x85\\xdb\\xab~E\\xc0?\\x94t\\x94b\\x8c\\x07env_cls\\x94\\x8c8metaworld.envs.mujoco.sawyer_xyz.v2.sawyer_pick_place_v2\\x94\\x8c\\x14SawyerPickPlaceEnvV2\\x94\\x93\\x94\\x8c\\x14partially_observable\\x94\\x88u.\"),\n",
       " Task(env_name='pick-place-v2', data=b'\\x80\\x04\\x95=\\x01\\x00\\x00\\x00\\x00\\x00\\x00}\\x94(\\x8c\\x08rand_vec\\x94\\x8c\\x15numpy.core.multiarray\\x94\\x8c\\x0c_reconstruct\\x94\\x93\\x94\\x8c\\x05numpy\\x94\\x8c\\x07ndarray\\x94\\x93\\x94K\\x00\\x85\\x94C\\x01b\\x94\\x87\\x94R\\x94(K\\x01K\\x06\\x85\\x94h\\x05\\x8c\\x05dtype\\x94\\x93\\x94\\x8c\\x02f8\\x94\\x89\\x88\\x87\\x94R\\x94(K\\x03\\x8c\\x01<\\x94NNNJ\\xff\\xff\\xff\\xffJ\\xff\\xff\\xff\\xffK\\x00t\\x94b\\x89C0\\x94M\\xa5\\x17\\xc0\\xb1\\xa1\\xbf\\xf4\\t\\xfd\\x8f\\xaf\\xb0\\xe5?\\x00\\x00\\x00@\\xe1z\\x94?\\xe8\\xb4l<\\xc5\\xef\\x97\\xbf\\x07<\\x0b\\xc5&\\x0c\\xec?n\\xee&\\xe1\\xf4\\x85\\xc3?\\x94t\\x94b\\x8c\\x07env_cls\\x94\\x8c8metaworld.envs.mujoco.sawyer_xyz.v2.sawyer_pick_place_v2\\x94\\x8c\\x14SawyerPickPlaceEnvV2\\x94\\x93\\x94\\x8c\\x14partially_observable\\x94\\x88u.'),\n",
       " Task(env_name='pick-place-v2', data=b'\\x80\\x04\\x95=\\x01\\x00\\x00\\x00\\x00\\x00\\x00}\\x94(\\x8c\\x08rand_vec\\x94\\x8c\\x15numpy.core.multiarray\\x94\\x8c\\x0c_reconstruct\\x94\\x93\\x94\\x8c\\x05numpy\\x94\\x8c\\x07ndarray\\x94\\x93\\x94K\\x00\\x85\\x94C\\x01b\\x94\\x87\\x94R\\x94(K\\x01K\\x06\\x85\\x94h\\x05\\x8c\\x05dtype\\x94\\x93\\x94\\x8c\\x02f8\\x94\\x89\\x88\\x87\\x94R\\x94(K\\x03\\x8c\\x01<\\x94NNNJ\\xff\\xff\\xff\\xffJ\\xff\\xff\\xff\\xffK\\x00t\\x94b\\x89C0L\\xb8@\\x04\\xa4\\xa4\\xa7\\xbf\\xc5\\xd3:\\t\\xa4d\\xe3?\\x00\\x00\\x00@\\xe1z\\x94?\\x80\\xffV\\xea\\x04p\\x9b?\\xf5A\\xa4\\xeben\\xea?\\xb7\\xce\\xb8\\xff\\x904\\xb2?\\x94t\\x94b\\x8c\\x07env_cls\\x94\\x8c8metaworld.envs.mujoco.sawyer_xyz.v2.sawyer_pick_place_v2\\x94\\x8c\\x14SawyerPickPlaceEnvV2\\x94\\x93\\x94\\x8c\\x14partially_observable\\x94\\x88u.'),\n",
       " Task(env_name='pick-place-v2', data=b\"\\x80\\x04\\x95=\\x01\\x00\\x00\\x00\\x00\\x00\\x00}\\x94(\\x8c\\x08rand_vec\\x94\\x8c\\x15numpy.core.multiarray\\x94\\x8c\\x0c_reconstruct\\x94\\x93\\x94\\x8c\\x05numpy\\x94\\x8c\\x07ndarray\\x94\\x93\\x94K\\x00\\x85\\x94C\\x01b\\x94\\x87\\x94R\\x94(K\\x01K\\x06\\x85\\x94h\\x05\\x8c\\x05dtype\\x94\\x93\\x94\\x8c\\x02f8\\x94\\x89\\x88\\x87\\x94R\\x94(K\\x03\\x8c\\x01<\\x94NNNJ\\xff\\xff\\xff\\xffJ\\xff\\xff\\xff\\xffK\\x00t\\x94b\\x89C0\\xf0\\xf2\\xf0\\xb0p4q?\\x88\\xbf\\xf6\\xf3\\xc1w\\xe3?\\x00\\x00\\x00@\\xe1z\\x94?\\x86d\\x83lJt\\xa9\\xbfs\\xb8\\xa2\\xe7'\\x03\\xeb?\\x87\\x92\\xb7\\xd84\\xf4\\xc1?\\x94t\\x94b\\x8c\\x07env_cls\\x94\\x8c8metaworld.envs.mujoco.sawyer_xyz.v2.sawyer_pick_place_v2\\x94\\x8c\\x14SawyerPickPlaceEnvV2\\x94\\x93\\x94\\x8c\\x14partially_observable\\x94\\x88u.\"),\n",
       " Task(env_name='pick-place-v2', data=b'\\x80\\x04\\x95=\\x01\\x00\\x00\\x00\\x00\\x00\\x00}\\x94(\\x8c\\x08rand_vec\\x94\\x8c\\x15numpy.core.multiarray\\x94\\x8c\\x0c_reconstruct\\x94\\x93\\x94\\x8c\\x05numpy\\x94\\x8c\\x07ndarray\\x94\\x93\\x94K\\x00\\x85\\x94C\\x01b\\x94\\x87\\x94R\\x94(K\\x01K\\x06\\x85\\x94h\\x05\\x8c\\x05dtype\\x94\\x93\\x94\\x8c\\x02f8\\x94\\x89\\x88\\x87\\x94R\\x94(K\\x03\\x8c\\x01<\\x94NNNJ\\xff\\xff\\xff\\xffJ\\xff\\xff\\xff\\xffK\\x00t\\x94b\\x89C0\\xc8\\xd2\\xda\\xfan[\\xa8?\\x12S\\x9c\\x13S\\xae\\xe4?\\x00\\x00\\x00@\\xe1z\\x94?\\x95h\\x02m\\xd8H\\xb5\\xbf\\xc5\\xe1\\x08\\x86\\x803\\xea?\\x1e\\\\{\\xa4\\n?\\xc2?\\x94t\\x94b\\x8c\\x07env_cls\\x94\\x8c8metaworld.envs.mujoco.sawyer_xyz.v2.sawyer_pick_place_v2\\x94\\x8c\\x14SawyerPickPlaceEnvV2\\x94\\x93\\x94\\x8c\\x14partially_observable\\x94\\x88u.'),\n",
       " Task(env_name='pick-place-v2', data=b'\\x80\\x04\\x95=\\x01\\x00\\x00\\x00\\x00\\x00\\x00}\\x94(\\x8c\\x08rand_vec\\x94\\x8c\\x15numpy.core.multiarray\\x94\\x8c\\x0c_reconstruct\\x94\\x93\\x94\\x8c\\x05numpy\\x94\\x8c\\x07ndarray\\x94\\x93\\x94K\\x00\\x85\\x94C\\x01b\\x94\\x87\\x94R\\x94(K\\x01K\\x06\\x85\\x94h\\x05\\x8c\\x05dtype\\x94\\x93\\x94\\x8c\\x02f8\\x94\\x89\\x88\\x87\\x94R\\x94(K\\x03\\x8c\\x01<\\x94NNNJ\\xff\\xff\\xff\\xffJ\\xff\\xff\\xff\\xffK\\x00t\\x94b\\x89C0\\xd0\\xee\\x8fF\\xc2\\xf2\\x8a?/I\\x07\\xf4`\\x12\\xe6?\\x00\\x00\\x00@\\xe1z\\x94?\\xc1,4di\\xfc\\xaa\\xbfD\\x17\\xba\\xb7d\\xa7\\xeb?\\xf6\\x1d(\\x92\\x1e\\xd2\\xd2?\\x94t\\x94b\\x8c\\x07env_cls\\x94\\x8c8metaworld.envs.mujoco.sawyer_xyz.v2.sawyer_pick_place_v2\\x94\\x8c\\x14SawyerPickPlaceEnvV2\\x94\\x93\\x94\\x8c\\x14partially_observable\\x94\\x88u.'),\n",
       " Task(env_name='pick-place-v2', data=b'\\x80\\x04\\x95=\\x01\\x00\\x00\\x00\\x00\\x00\\x00}\\x94(\\x8c\\x08rand_vec\\x94\\x8c\\x15numpy.core.multiarray\\x94\\x8c\\x0c_reconstruct\\x94\\x93\\x94\\x8c\\x05numpy\\x94\\x8c\\x07ndarray\\x94\\x93\\x94K\\x00\\x85\\x94C\\x01b\\x94\\x87\\x94R\\x94(K\\x01K\\x06\\x85\\x94h\\x05\\x8c\\x05dtype\\x94\\x93\\x94\\x8c\\x02f8\\x94\\x89\\x88\\x87\\x94R\\x94(K\\x03\\x8c\\x01<\\x94NNNJ\\xff\\xff\\xff\\xffJ\\xff\\xff\\xff\\xffK\\x00t\\x94b\\x89C0*\\xad\\x1fi\\xa6;\\xb8\\xbf>s\\xf5\\x83\\x90p\\xe3?\\x00\\x00\\x00@\\xe1z\\x94?\\xd1r\\x1aVZ\\x01\\xb6\\xbfT+\\xe6P\\xf9\\xa7\\xec?\\xbc\\x89tr{\\xa2\\xba?\\x94t\\x94b\\x8c\\x07env_cls\\x94\\x8c8metaworld.envs.mujoco.sawyer_xyz.v2.sawyer_pick_place_v2\\x94\\x8c\\x14SawyerPickPlaceEnvV2\\x94\\x93\\x94\\x8c\\x14partially_observable\\x94\\x88u.'),\n",
       " Task(env_name='pick-place-v2', data=b'\\x80\\x04\\x95=\\x01\\x00\\x00\\x00\\x00\\x00\\x00}\\x94(\\x8c\\x08rand_vec\\x94\\x8c\\x15numpy.core.multiarray\\x94\\x8c\\x0c_reconstruct\\x94\\x93\\x94\\x8c\\x05numpy\\x94\\x8c\\x07ndarray\\x94\\x93\\x94K\\x00\\x85\\x94C\\x01b\\x94\\x87\\x94R\\x94(K\\x01K\\x06\\x85\\x94h\\x05\\x8c\\x05dtype\\x94\\x93\\x94\\x8c\\x02f8\\x94\\x89\\x88\\x87\\x94R\\x94(K\\x03\\x8c\\x01<\\x94NNNJ\\xff\\xff\\xff\\xffJ\\xff\\xff\\xff\\xffK\\x00t\\x94b\\x89C0\\x8f\\xe6\\xbb\\x82\\xcbz\\xb5\\xbfR\\x01\\xbe\\x9b\\xbe\\x84\\xe5?\\x00\\x00\\x00@\\xe1z\\x94?V\\xe8A\\xfa\\x08\\x83\\xae\\xbf\\x16Y(o6l\\xea?G\\x03\\x19\\xe2,\\xdb\\xb8?\\x94t\\x94b\\x8c\\x07env_cls\\x94\\x8c8metaworld.envs.mujoco.sawyer_xyz.v2.sawyer_pick_place_v2\\x94\\x8c\\x14SawyerPickPlaceEnvV2\\x94\\x93\\x94\\x8c\\x14partially_observable\\x94\\x88u.'),\n",
       " Task(env_name='pick-place-v2', data=b'\\x80\\x04\\x95=\\x01\\x00\\x00\\x00\\x00\\x00\\x00}\\x94(\\x8c\\x08rand_vec\\x94\\x8c\\x15numpy.core.multiarray\\x94\\x8c\\x0c_reconstruct\\x94\\x93\\x94\\x8c\\x05numpy\\x94\\x8c\\x07ndarray\\x94\\x93\\x94K\\x00\\x85\\x94C\\x01b\\x94\\x87\\x94R\\x94(K\\x01K\\x06\\x85\\x94h\\x05\\x8c\\x05dtype\\x94\\x93\\x94\\x8c\\x02f8\\x94\\x89\\x88\\x87\\x94R\\x94(K\\x03\\x8c\\x01<\\x94NNNJ\\xff\\xff\\xff\\xffJ\\xff\\xff\\xff\\xffK\\x00t\\x94b\\x89C0\\xc0t\\xea\\x1a\\x1a\\x85\\xa7?e\\x95\\xa2\\xc3ZQ\\xe5?\\x00\\x00\\x00@\\xe1z\\x94?92xV|>\\xb3\\xbf\\xfe:\\x98b\\xcf\\xc7\\xeb?H@\\x1b\\xdfAe\\xc1?\\x94t\\x94b\\x8c\\x07env_cls\\x94\\x8c8metaworld.envs.mujoco.sawyer_xyz.v2.sawyer_pick_place_v2\\x94\\x8c\\x14SawyerPickPlaceEnvV2\\x94\\x93\\x94\\x8c\\x14partially_observable\\x94\\x88u.'),\n",
       " Task(env_name='pick-place-v2', data=b'\\x80\\x04\\x95=\\x01\\x00\\x00\\x00\\x00\\x00\\x00}\\x94(\\x8c\\x08rand_vec\\x94\\x8c\\x15numpy.core.multiarray\\x94\\x8c\\x0c_reconstruct\\x94\\x93\\x94\\x8c\\x05numpy\\x94\\x8c\\x07ndarray\\x94\\x93\\x94K\\x00\\x85\\x94C\\x01b\\x94\\x87\\x94R\\x94(K\\x01K\\x06\\x85\\x94h\\x05\\x8c\\x05dtype\\x94\\x93\\x94\\x8c\\x02f8\\x94\\x89\\x88\\x87\\x94R\\x94(K\\x03\\x8c\\x01<\\x94NNNJ\\xff\\xff\\xff\\xffJ\\xff\\xff\\xff\\xffK\\x00t\\x94b\\x89C0\\x88V\\xe2F\\x93\\x92\\x9c?\\x98\\xe5\\xea%\\xb7\\x98\\xe4?\\x00\\x00\\x00@\\xe1z\\x94?\\xe5\\xcc\\xac\\x18\\t\\xc0\\xa9\\xbf-\\xc8z\\xcc0[\\xec?\\xd93\\xea\\xba\\x1fH\\xc7?\\x94t\\x94b\\x8c\\x07env_cls\\x94\\x8c8metaworld.envs.mujoco.sawyer_xyz.v2.sawyer_pick_place_v2\\x94\\x8c\\x14SawyerPickPlaceEnvV2\\x94\\x93\\x94\\x8c\\x14partially_observable\\x94\\x88u.'),\n",
       " Task(env_name='pick-place-v2', data=b'\\x80\\x04\\x95=\\x01\\x00\\x00\\x00\\x00\\x00\\x00}\\x94(\\x8c\\x08rand_vec\\x94\\x8c\\x15numpy.core.multiarray\\x94\\x8c\\x0c_reconstruct\\x94\\x93\\x94\\x8c\\x05numpy\\x94\\x8c\\x07ndarray\\x94\\x93\\x94K\\x00\\x85\\x94C\\x01b\\x94\\x87\\x94R\\x94(K\\x01K\\x06\\x85\\x94h\\x05\\x8c\\x05dtype\\x94\\x93\\x94\\x8c\\x02f8\\x94\\x89\\x88\\x87\\x94R\\x94(K\\x03\\x8c\\x01<\\x94NNNJ\\xff\\xff\\xff\\xffJ\\xff\\xff\\xff\\xffK\\x00t\\x94b\\x89C0\\xe0\\xba\\x925\\xf8\\x8f\\xa0?q\\x11\\xf9\\x9b\\xeai\\xe3?\\x00\\x00\\x00@\\xe1z\\x94?\\xe4\\xb5\\xb7\\xeck\\x89\\xa3\\xbf\\xbb\\xca\\xab\\xf5\\xec\\xb4\\xec?\\x85n\\xd53nV\\xd2?\\x94t\\x94b\\x8c\\x07env_cls\\x94\\x8c8metaworld.envs.mujoco.sawyer_xyz.v2.sawyer_pick_place_v2\\x94\\x8c\\x14SawyerPickPlaceEnvV2\\x94\\x93\\x94\\x8c\\x14partially_observable\\x94\\x88u.'),\n",
       " Task(env_name='pick-place-v2', data=b\"\\x80\\x04\\x95=\\x01\\x00\\x00\\x00\\x00\\x00\\x00}\\x94(\\x8c\\x08rand_vec\\x94\\x8c\\x15numpy.core.multiarray\\x94\\x8c\\x0c_reconstruct\\x94\\x93\\x94\\x8c\\x05numpy\\x94\\x8c\\x07ndarray\\x94\\x93\\x94K\\x00\\x85\\x94C\\x01b\\x94\\x87\\x94R\\x94(K\\x01K\\x06\\x85\\x94h\\x05\\x8c\\x05dtype\\x94\\x93\\x94\\x8c\\x02f8\\x94\\x89\\x88\\x87\\x94R\\x94(K\\x03\\x8c\\x01<\\x94NNNJ\\xff\\xff\\xff\\xffJ\\xff\\xff\\xff\\xffK\\x00t\\x94b\\x89C00K\\xa5\\xe4i\\xa4\\xa7?J\\x1b\\xa1\\xa8\\xbf\\x97\\xe3?\\x00\\x00\\x00@\\xe1z\\x94?S\\x1d.\\x83l'\\xb3\\xbf\\x0e\\x96\\xe3\\xa2\\xf1\\x1a\\xec?\\x07\\x99C\\xe1\\x96\\xbb\\xcf?\\x94t\\x94b\\x8c\\x07env_cls\\x94\\x8c8metaworld.envs.mujoco.sawyer_xyz.v2.sawyer_pick_place_v2\\x94\\x8c\\x14SawyerPickPlaceEnvV2\\x94\\x93\\x94\\x8c\\x14partially_observable\\x94\\x88u.\"),\n",
       " Task(env_name='pick-place-v2', data=b'\\x80\\x04\\x95=\\x01\\x00\\x00\\x00\\x00\\x00\\x00}\\x94(\\x8c\\x08rand_vec\\x94\\x8c\\x15numpy.core.multiarray\\x94\\x8c\\x0c_reconstruct\\x94\\x93\\x94\\x8c\\x05numpy\\x94\\x8c\\x07ndarray\\x94\\x93\\x94K\\x00\\x85\\x94C\\x01b\\x94\\x87\\x94R\\x94(K\\x01K\\x06\\x85\\x94h\\x05\\x8c\\x05dtype\\x94\\x93\\x94\\x8c\\x02f8\\x94\\x89\\x88\\x87\\x94R\\x94(K\\x03\\x8c\\x01<\\x94NNNJ\\xff\\xff\\xff\\xffJ\\xff\\xff\\xff\\xffK\\x00t\\x94b\\x89C0p\\xd2`\\xb7\\x04E\\x9f?kn%K3X\\xe4?\\x00\\x00\\x00@\\xe1z\\x94?\\xe8\\xb7\\x80\\x18\\xa3\\xa8\\xa7\\xbfhV\\x8b\\x188\\xbe\\xeb?D\\x90\\xc5\\x86\\xf1\\xf3\\xaa?\\x94t\\x94b\\x8c\\x07env_cls\\x94\\x8c8metaworld.envs.mujoco.sawyer_xyz.v2.sawyer_pick_place_v2\\x94\\x8c\\x14SawyerPickPlaceEnvV2\\x94\\x93\\x94\\x8c\\x14partially_observable\\x94\\x88u.'),\n",
       " Task(env_name='pick-place-v2', data=b'\\x80\\x04\\x95=\\x01\\x00\\x00\\x00\\x00\\x00\\x00}\\x94(\\x8c\\x08rand_vec\\x94\\x8c\\x15numpy.core.multiarray\\x94\\x8c\\x0c_reconstruct\\x94\\x93\\x94\\x8c\\x05numpy\\x94\\x8c\\x07ndarray\\x94\\x93\\x94K\\x00\\x85\\x94C\\x01b\\x94\\x87\\x94R\\x94(K\\x01K\\x06\\x85\\x94h\\x05\\x8c\\x05dtype\\x94\\x93\\x94\\x8c\\x02f8\\x94\\x89\\x88\\x87\\x94R\\x94(K\\x03\\x8c\\x01<\\x94NNNJ\\xff\\xff\\xff\\xffJ\\xff\\xff\\xff\\xffK\\x00t\\x94b\\x89C0\\xb0+K\\x9a\\xdb\\x06|?\\xbb8\\x9c\\x00\\x1d9\\xe4?\\x00\\x00\\x00@\\xe1z\\x94?\\xc0G>s\\xbalV?\\\\\\xbaI\\xbd\\x01\\xa4\\xeb?&\\x8fx!@+\\xd2?\\x94t\\x94b\\x8c\\x07env_cls\\x94\\x8c8metaworld.envs.mujoco.sawyer_xyz.v2.sawyer_pick_place_v2\\x94\\x8c\\x14SawyerPickPlaceEnvV2\\x94\\x93\\x94\\x8c\\x14partially_observable\\x94\\x88u.'),\n",
       " Task(env_name='pick-place-v2', data=b'\\x80\\x04\\x95=\\x01\\x00\\x00\\x00\\x00\\x00\\x00}\\x94(\\x8c\\x08rand_vec\\x94\\x8c\\x15numpy.core.multiarray\\x94\\x8c\\x0c_reconstruct\\x94\\x93\\x94\\x8c\\x05numpy\\x94\\x8c\\x07ndarray\\x94\\x93\\x94K\\x00\\x85\\x94C\\x01b\\x94\\x87\\x94R\\x94(K\\x01K\\x06\\x85\\x94h\\x05\\x8c\\x05dtype\\x94\\x93\\x94\\x8c\\x02f8\\x94\\x89\\x88\\x87\\x94R\\x94(K\\x03\\x8c\\x01<\\x94NNNJ\\xff\\xff\\xff\\xffJ\\xff\\xff\\xff\\xffK\\x00t\\x94b\\x89C0l=\\xc2\\tl\\x19\\xab?\\x85skM\\xd2\\x91\\xe4?\\x00\\x00\\x00@\\xe1z\\x94?(\\x98D,\\x99n\\xb4?\\x97\\x1c\\xdb#\\xc0\\x93\\xec?s\\xb8\\xb2\\x96\\x90\\xb3\\xcf?\\x94t\\x94b\\x8c\\x07env_cls\\x94\\x8c8metaworld.envs.mujoco.sawyer_xyz.v2.sawyer_pick_place_v2\\x94\\x8c\\x14SawyerPickPlaceEnvV2\\x94\\x93\\x94\\x8c\\x14partially_observable\\x94\\x88u.'),\n",
       " Task(env_name='pick-place-v2', data=b'\\x80\\x04\\x95=\\x01\\x00\\x00\\x00\\x00\\x00\\x00}\\x94(\\x8c\\x08rand_vec\\x94\\x8c\\x15numpy.core.multiarray\\x94\\x8c\\x0c_reconstruct\\x94\\x93\\x94\\x8c\\x05numpy\\x94\\x8c\\x07ndarray\\x94\\x93\\x94K\\x00\\x85\\x94C\\x01b\\x94\\x87\\x94R\\x94(K\\x01K\\x06\\x85\\x94h\\x05\\x8c\\x05dtype\\x94\\x93\\x94\\x8c\\x02f8\\x94\\x89\\x88\\x87\\x94R\\x94(K\\x03\\x8c\\x01<\\x94NNNJ\\xff\\xff\\xff\\xffJ\\xff\\xff\\xff\\xffK\\x00t\\x94b\\x89C08\\xf3\\xc8\\xee\\xad\\x15\\x8e?I\\x02\\x8e\\x02\\xc4\\xe0\\xe3?\\x00\\x00\\x00@\\xe1z\\x94?\\xeat\\x8a\\xd8\\x9b)\\xb1? \\xd4\\n\\xc4\\xa5\\xfc\\xeb?\\xe4\\x94\\x85\\xc0\\x95\\xf3\\xb8?\\x94t\\x94b\\x8c\\x07env_cls\\x94\\x8c8metaworld.envs.mujoco.sawyer_xyz.v2.sawyer_pick_place_v2\\x94\\x8c\\x14SawyerPickPlaceEnvV2\\x94\\x93\\x94\\x8c\\x14partially_observable\\x94\\x88u.'),\n",
       " Task(env_name='pick-place-v2', data=b'\\x80\\x04\\x95=\\x01\\x00\\x00\\x00\\x00\\x00\\x00}\\x94(\\x8c\\x08rand_vec\\x94\\x8c\\x15numpy.core.multiarray\\x94\\x8c\\x0c_reconstruct\\x94\\x93\\x94\\x8c\\x05numpy\\x94\\x8c\\x07ndarray\\x94\\x93\\x94K\\x00\\x85\\x94C\\x01b\\x94\\x87\\x94R\\x94(K\\x01K\\x06\\x85\\x94h\\x05\\x8c\\x05dtype\\x94\\x93\\x94\\x8c\\x02f8\\x94\\x89\\x88\\x87\\x94R\\x94(K\\x03\\x8c\\x01<\\x94NNNJ\\xff\\xff\\xff\\xffJ\\xff\\xff\\xff\\xffK\\x00t\\x94b\\x89C0\\xe0t\\t\\xabh\\x02|? #\\x94w\\x1an\\xe3?\\x00\\x00\\x00@\\xe1z\\x94?\\xc2\\xfft\\xb22k\\xa2\\xbf\\xfb\\x8fq&\\xc6<\\xea?\\x1e\\x1b[\\xd8\\x0e\\xf7\\xce?\\x94t\\x94b\\x8c\\x07env_cls\\x94\\x8c8metaworld.envs.mujoco.sawyer_xyz.v2.sawyer_pick_place_v2\\x94\\x8c\\x14SawyerPickPlaceEnvV2\\x94\\x93\\x94\\x8c\\x14partially_observable\\x94\\x88u.'),\n",
       " Task(env_name='pick-place-v2', data=b'\\x80\\x04\\x95=\\x01\\x00\\x00\\x00\\x00\\x00\\x00}\\x94(\\x8c\\x08rand_vec\\x94\\x8c\\x15numpy.core.multiarray\\x94\\x8c\\x0c_reconstruct\\x94\\x93\\x94\\x8c\\x05numpy\\x94\\x8c\\x07ndarray\\x94\\x93\\x94K\\x00\\x85\\x94C\\x01b\\x94\\x87\\x94R\\x94(K\\x01K\\x06\\x85\\x94h\\x05\\x8c\\x05dtype\\x94\\x93\\x94\\x8c\\x02f8\\x94\\x89\\x88\\x87\\x94R\\x94(K\\x03\\x8c\\x01<\\x94NNNJ\\xff\\xff\\xff\\xffJ\\xff\\xff\\xff\\xffK\\x00t\\x94b\\x89C0\\x80|\\xbb0Ye\\x9a?\\x88%G\\x86Z*\\xe5?\\x00\\x00\\x00@\\xe1z\\x94?\\x00\\xf9f\\x8c\\xdd>\\xa7?\\x04\\xdb\\xa7\\xe3i\\xae\\xeb?0\\xf7w\\x9c\\x8d9\\xd2?\\x94t\\x94b\\x8c\\x07env_cls\\x94\\x8c8metaworld.envs.mujoco.sawyer_xyz.v2.sawyer_pick_place_v2\\x94\\x8c\\x14SawyerPickPlaceEnvV2\\x94\\x93\\x94\\x8c\\x14partially_observable\\x94\\x88u.')]"
      ]
     },
     "execution_count": 24,
     "metadata": {},
     "output_type": "execute_result"
    }
   ],
   "source": [
    "ml1.train_tasks"
   ]
  },
  {
   "cell_type": "code",
   "execution_count": 19,
   "metadata": {},
   "outputs": [],
   "source": [
    "ml1_env.set_benchmark_task(1)"
   ]
  },
  {
   "cell_type": "code",
   "execution_count": 21,
   "metadata": {},
   "outputs": [],
   "source": [
    "ml1_env.set_task()"
   ]
  },
  {
   "cell_type": "code",
   "execution_count": 22,
   "metadata": {},
   "outputs": [
    {
     "data": {
      "text/plain": [
       "array([ 0.00615235,  0.6001898 ,  0.19430117,  1.        , -0.06411003,\n",
       "        0.64345405,  0.02      ,  0.        ,  0.        ,  0.        ,\n",
       "        1.        ,  0.        ,  0.        ,  0.        ,  0.        ,\n",
       "        0.        ,  0.        ,  0.        ,  0.00615235,  0.6001898 ,\n",
       "        0.19430117,  1.        , -0.06411003,  0.64345405,  0.02      ,\n",
       "        0.        ,  0.        ,  0.        ,  1.        ,  0.        ,\n",
       "        0.        ,  0.        ,  0.        ,  0.        ,  0.        ,\n",
       "        0.        ,  0.        ,  0.        ,  0.        ])"
      ]
     },
     "execution_count": 22,
     "metadata": {},
     "output_type": "execute_result"
    }
   ],
   "source": [
    "ml1_env.reset()"
   ]
  },
  {
   "cell_type": "code",
   "execution_count": 41,
   "metadata": {},
   "outputs": [],
   "source": [
    "seed = 73\n",
    "rank_offset = 1\n",
    "episodes_per_task=2\n",
    "add_done_info=True\n",
    "kwargs = {}\n",
    "num_processes = 30\n",
    "env_name = 'ML10-v2'\n",
    "envs = [make_metaworld_env(env_id=env_name, \n",
    "                    task_id = i,\n",
    "                    seed=seed, rank=rank_offset + i,\n",
    "                     episodes_per_task=episodes_per_task,\n",
    "                     add_done_info=add_done_info,\n",
    "                     **kwargs)\n",
    "            for i in range(num_processes)]"
   ]
  },
  {
   "cell_type": "code",
   "execution_count": 46,
   "metadata": {},
   "outputs": [
    {
     "data": {
      "text/plain": [
       "6"
      ]
     },
     "execution_count": 46,
     "metadata": {},
     "output_type": "execute_result"
    }
   ],
   "source": [
    "26 %10"
   ]
  },
  {
   "cell_type": "code",
   "execution_count": 42,
   "metadata": {},
   "outputs": [
    {
     "name": "stdout",
     "output_type": "stream",
     "text": [
      "0 reach-v2 Task(env_name='reach-v2', data=b'\\x80\\x04\\x954\\x01\\x00\\x00\\x00\\x00\\x00\\x00}\\x94(\\x8c\\x08rand_vec\\x94\\x8c\\x15numpy.core.multiarray\\x94\\x8c\\x0c_reconstruct\\x94\\x93\\x94\\x8c\\x05numpy\\x94\\x8c\\x07ndarray\\x94\\x93\\x94K\\x00\\x85\\x94C\\x01b\\x94\\x87\\x94R\\x94(K\\x01K\\x06\\x85\\x94h\\x05\\x8c\\x05dtype\\x94\\x93\\x94\\x8c\\x02f8\\x94\\x89\\x88\\x87\\x94R\\x94(K\\x03\\x8c\\x01<\\x94NNNJ\\xff\\xff\\xff\\xffJ\\xff\\xff\\xff\\xffK\\x00t\\x94b\\x89C0h\\xbf\\x02\\x8d/\\x13\\xae?\\x04n\\xe8\\x95\\x1e\\x9f\\xe4?\\x00\\x00\\x00@\\xe1z\\x94?$\\xfa\\xb6o\\xb5\\x9d\\xb4?\\x87f\\r_\\xc9\\xa9\\xec?\\t\\x88\\x00\\xca,\\xf0\\xca?\\x94t\\x94b\\x8c\\x07env_cls\\x94\\x8c3metaworld.envs.mujoco.sawyer_xyz.v2.sawyer_reach_v2\\x94\\x8c\\x10SawyerReachEnvV2\\x94\\x93\\x94\\x8c\\x14partially_observable\\x94\\x88u.') \n",
      "\n",
      "1 push-v2 Task(env_name='push-v2', data=b'\\x80\\x04\\x952\\x01\\x00\\x00\\x00\\x00\\x00\\x00}\\x94(\\x8c\\x08rand_vec\\x94\\x8c\\x15numpy.core.multiarray\\x94\\x8c\\x0c_reconstruct\\x94\\x93\\x94\\x8c\\x05numpy\\x94\\x8c\\x07ndarray\\x94\\x93\\x94K\\x00\\x85\\x94C\\x01b\\x94\\x87\\x94R\\x94(K\\x01K\\x06\\x85\\x94h\\x05\\x8c\\x05dtype\\x94\\x93\\x94\\x8c\\x02f8\\x94\\x89\\x88\\x87\\x94R\\x94(K\\x03\\x8c\\x01<\\x94NNNJ\\xff\\xff\\xff\\xffJ\\xff\\xff\\xff\\xffK\\x00t\\x94b\\x89C0]\\xc0G\\xa0\\x13Q\\xac\\xbf\\xf51H\\x07\\xd5\\xbb\\xe4?\\x00\\x00\\x00@\\xe1z\\x94?<\\xfc$\\xa4\\xf8\\xd4\\x94\\xbf\\xd1\\x936\\xb5\\xd7N\\xec?=J\\xe0\\x14u]\\x8b?\\x94t\\x94b\\x8c\\x07env_cls\\x94\\x8c2metaworld.envs.mujoco.sawyer_xyz.v2.sawyer_push_v2\\x94\\x8c\\x0fSawyerPushEnvV2\\x94\\x93\\x94\\x8c\\x14partially_observable\\x94\\x88u.') \n",
      "\n",
      "2 pick-place-v2 Task(env_name='pick-place-v2', data=b'\\x80\\x04\\x95=\\x01\\x00\\x00\\x00\\x00\\x00\\x00}\\x94(\\x8c\\x08rand_vec\\x94\\x8c\\x15numpy.core.multiarray\\x94\\x8c\\x0c_reconstruct\\x94\\x93\\x94\\x8c\\x05numpy\\x94\\x8c\\x07ndarray\\x94\\x93\\x94K\\x00\\x85\\x94C\\x01b\\x94\\x87\\x94R\\x94(K\\x01K\\x06\\x85\\x94h\\x05\\x8c\\x05dtype\\x94\\x93\\x94\\x8c\\x02f8\\x94\\x89\\x88\\x87\\x94R\\x94(K\\x03\\x8c\\x01<\\x94NNNJ\\xff\\xff\\xff\\xffJ\\xff\\xff\\xff\\xffK\\x00t\\x94b\\x89C0\\x00\\xdd\\\\\\xa9\\xb4\\xb2\\xa2\\xbf\\r/\\xd9\\x1aC\\x04\\xe5?\\x00\\x00\\x00@\\xe1z\\x94?\\x10\\\\U]\\xca?\\xb4?=%\\xa0\\xed\\x96s\\xeb?gg\\xfaf\\xbf\\x14\\xbb?\\x94t\\x94b\\x8c\\x07env_cls\\x94\\x8c8metaworld.envs.mujoco.sawyer_xyz.v2.sawyer_pick_place_v2\\x94\\x8c\\x14SawyerPickPlaceEnvV2\\x94\\x93\\x94\\x8c\\x14partially_observable\\x94\\x88u.') \n",
      "\n",
      "3 door-open-v2 Task(env_name='door-open-v2', data=b'\\x80\\x04\\x95\\x1a\\x01\\x00\\x00\\x00\\x00\\x00\\x00}\\x94(\\x8c\\x08rand_vec\\x94\\x8c\\x15numpy.core.multiarray\\x94\\x8c\\x0c_reconstruct\\x94\\x93\\x94\\x8c\\x05numpy\\x94\\x8c\\x07ndarray\\x94\\x93\\x94K\\x00\\x85\\x94C\\x01b\\x94\\x87\\x94R\\x94(K\\x01K\\x03\\x85\\x94h\\x05\\x8c\\x05dtype\\x94\\x93\\x94\\x8c\\x02f8\\x94\\x89\\x88\\x87\\x94R\\x94(K\\x03\\x8c\\x01<\\x94NNNJ\\xff\\xff\\xff\\xffJ\\xff\\xff\\xff\\xffK\\x00t\\x94b\\x89C\\x18\\xeb\\xf3VM\\x93\\xa8\\x99?\\xc7\\xb8\\x13\\xc4\\x0c\\xbc\\xeb?\\x00\\x00\\x00@33\\xc3?\\x94t\\x94b\\x8c\\x07env_cls\\x94\\x8c2metaworld.envs.mujoco.sawyer_xyz.v2.sawyer_door_v2\\x94\\x8c\\x0fSawyerDoorEnvV2\\x94\\x93\\x94\\x8c\\x14partially_observable\\x94\\x88u.') \n",
      "\n",
      "4 drawer-close-v2 Task(env_name='drawer-close-v2', data=b'\\x80\\x04\\x95)\\x01\\x00\\x00\\x00\\x00\\x00\\x00}\\x94(\\x8c\\x08rand_vec\\x94\\x8c\\x15numpy.core.multiarray\\x94\\x8c\\x0c_reconstruct\\x94\\x93\\x94\\x8c\\x05numpy\\x94\\x8c\\x07ndarray\\x94\\x93\\x94K\\x00\\x85\\x94C\\x01b\\x94\\x87\\x94R\\x94(K\\x01K\\x03\\x85\\x94h\\x05\\x8c\\x05dtype\\x94\\x93\\x94\\x8c\\x02f8\\x94\\x89\\x88\\x87\\x94R\\x94(K\\x03\\x8c\\x01<\\x94NNNJ\\xff\\xff\\xff\\xffJ\\xff\\xff\\xff\\xffK\\x00t\\x94b\\x89C\\x18X\\xd9I$\\x8a\\xc4\\x89?\\x00\\x00\\x00\\xc0\\xcc\\xcc\\xec?\\x00\\x00\\x00\\x00\\x00\\x00\\x00\\x00\\x94t\\x94b\\x8c\\x07env_cls\\x94\\x8c:metaworld.envs.mujoco.sawyer_xyz.v2.sawyer_drawer_close_v2\\x94\\x8c\\x16SawyerDrawerCloseEnvV2\\x94\\x93\\x94\\x8c\\x14partially_observable\\x94\\x88u.') \n",
      "\n",
      "5 button-press-topdown-v2 Task(env_name='button-press-topdown-v2', data=b'\\x80\\x04\\x958\\x01\\x00\\x00\\x00\\x00\\x00\\x00}\\x94(\\x8c\\x08rand_vec\\x94\\x8c\\x15numpy.core.multiarray\\x94\\x8c\\x0c_reconstruct\\x94\\x93\\x94\\x8c\\x05numpy\\x94\\x8c\\x07ndarray\\x94\\x93\\x94K\\x00\\x85\\x94C\\x01b\\x94\\x87\\x94R\\x94(K\\x01K\\x03\\x85\\x94h\\x05\\x8c\\x05dtype\\x94\\x93\\x94\\x8c\\x02f8\\x94\\x89\\x88\\x87\\x94R\\x94(K\\x03\\x8c\\x01<\\x94NNNJ\\xff\\xff\\xff\\xffJ\\xff\\xff\\xff\\xffK\\x00t\\x94b\\x89C\\x18\\xc0\\xb9\\xe0EA\\xef\\xad\\xbf\\xd3HxE\\xfb\\xfa\\xe9?\\x00\\x00\\x00\\xe0\\xa3p\\xbd?\\x94t\\x94b\\x8c\\x07env_cls\\x94\\x8cBmetaworld.envs.mujoco.sawyer_xyz.v2.sawyer_button_press_topdown_v2\\x94\\x8c\\x1dSawyerButtonPressTopdownEnvV2\\x94\\x93\\x94\\x8c\\x14partially_observable\\x94\\x88u.') \n",
      "\n",
      "6 peg-insert-side-v2 Task(env_name='peg-insert-side-v2', data=b'\\x80\\x04\\x95L\\x01\\x00\\x00\\x00\\x00\\x00\\x00}\\x94(\\x8c\\x08rand_vec\\x94\\x8c\\x15numpy.core.multiarray\\x94\\x8c\\x0c_reconstruct\\x94\\x93\\x94\\x8c\\x05numpy\\x94\\x8c\\x07ndarray\\x94\\x93\\x94K\\x00\\x85\\x94C\\x01b\\x94\\x87\\x94R\\x94(K\\x01K\\x06\\x85\\x94h\\x05\\x8c\\x05dtype\\x94\\x93\\x94\\x8c\\x02f8\\x94\\x89\\x88\\x87\\x94R\\x94(K\\x03\\x8c\\x01<\\x94NNNJ\\xff\\xff\\xff\\xffJ\\xff\\xff\\xff\\xffK\\x00t\\x94b\\x89C02\\xd2{\\xce\\xdc\\x13~?H\\xa4\\xf9C\\x9by\\xe4?\\x00\\x00\\x00@\\xe1z\\x94?W\\xa2g_\\xfdT\\xd3\\xbf^\\xdb\\x17\\xdaa\\x16\\xdb?6LY\\xe5=\\xd0E?\\x94t\\x94b\\x8c\\x07env_cls\\x94\\x8c@metaworld.envs.mujoco.sawyer_xyz.v2.sawyer_peg_insertion_side_v2\\x94\\x8c\\x1bSawyerPegInsertionSideEnvV2\\x94\\x93\\x94\\x8c\\x14partially_observable\\x94\\x88u.') \n",
      "\n",
      "7 window-open-v2 Task(env_name='window-open-v2', data=b\"\\x80\\x04\\x95'\\x01\\x00\\x00\\x00\\x00\\x00\\x00}\\x94(\\x8c\\x08rand_vec\\x94\\x8c\\x15numpy.core.multiarray\\x94\\x8c\\x0c_reconstruct\\x94\\x93\\x94\\x8c\\x05numpy\\x94\\x8c\\x07ndarray\\x94\\x93\\x94K\\x00\\x85\\x94C\\x01b\\x94\\x87\\x94R\\x94(K\\x01K\\x03\\x85\\x94h\\x05\\x8c\\x05dtype\\x94\\x93\\x94\\x8c\\x02f8\\x94\\x89\\x88\\x87\\x94R\\x94(K\\x03\\x8c\\x01<\\x94NNNJ\\xff\\xff\\xff\\xffJ\\xff\\xff\\xff\\xffK\\x00t\\x94b\\x89C\\x18\\xbb\\xe5\\x08\\xe6$\\x02\\xaf\\xbf\\xe8\\xd3\\xfd8\\xa4)\\xea?\\x00\\x00\\x00@\\xe1z\\xc4?\\x94t\\x94b\\x8c\\x07env_cls\\x94\\x8c9metaworld.envs.mujoco.sawyer_xyz.v2.sawyer_window_open_v2\\x94\\x8c\\x15SawyerWindowOpenEnvV2\\x94\\x93\\x94\\x8c\\x14partially_observable\\x94\\x88u.\") \n",
      "\n",
      "8 sweep-v2 Task(env_name='sweep-v2', data=b'\\x80\\x04\\x95\\x1c\\x01\\x00\\x00\\x00\\x00\\x00\\x00}\\x94(\\x8c\\x08rand_vec\\x94\\x8c\\x15numpy.core.multiarray\\x94\\x8c\\x0c_reconstruct\\x94\\x93\\x94\\x8c\\x05numpy\\x94\\x8c\\x07ndarray\\x94\\x93\\x94K\\x00\\x85\\x94C\\x01b\\x94\\x87\\x94R\\x94(K\\x01K\\x03\\x85\\x94h\\x05\\x8c\\x05dtype\\x94\\x93\\x94\\x8c\\x02f8\\x94\\x89\\x88\\x87\\x94R\\x94(K\\x03\\x8c\\x01<\\x94NNNJ\\xff\\xff\\xff\\xffJ\\xff\\xff\\xff\\xffK\\x00t\\x94b\\x89C\\x18\\xbc\\xb0\\xdb\\x83\\xaf\\xa7\\xa2\\xbf8^\\xcc\\xaa\\x0fP\\xe6?\\x00\\x00\\x00@\\xe1z\\x94?\\x94t\\x94b\\x8c\\x07env_cls\\x94\\x8c3metaworld.envs.mujoco.sawyer_xyz.v2.sawyer_sweep_v2\\x94\\x8c\\x10SawyerSweepEnvV2\\x94\\x93\\x94\\x8c\\x14partially_observable\\x94\\x88u.') \n",
      "\n",
      "9 basketball-v2 Task(env_name='basketball-v2', data=b'\\x80\\x04\\x95>\\x01\\x00\\x00\\x00\\x00\\x00\\x00}\\x94(\\x8c\\x08rand_vec\\x94\\x8c\\x15numpy.core.multiarray\\x94\\x8c\\x0c_reconstruct\\x94\\x93\\x94\\x8c\\x05numpy\\x94\\x8c\\x07ndarray\\x94\\x93\\x94K\\x00\\x85\\x94C\\x01b\\x94\\x87\\x94R\\x94(K\\x01K\\x06\\x85\\x94h\\x05\\x8c\\x05dtype\\x94\\x93\\x94\\x8c\\x02f8\\x94\\x89\\x88\\x87\\x94R\\x94(K\\x03\\x8c\\x01<\\x94NNNJ\\xff\\xff\\xff\\xffJ\\xff\\xff\\xff\\xffK\\x00t\\x94b\\x89C0q\\x0f\\xda\\xc2\\xa7!\\xb1\\xbfk\\x9f\\x1a\\x00\\xb8\\x04\\xe4?P\"^\\x8e\\xef\\xcc\\x9e?H\\xccs\\xde6\\x85\\x97?\\x7f\\x1d\\x1as\\xa9\\x85\\xec?\\x00\\x00\\x00\\x00\\x00\\x00\\x00\\x00\\x94t\\x94b\\x8c\\x07env_cls\\x94\\x8c8metaworld.envs.mujoco.sawyer_xyz.v2.sawyer_basketball_v2\\x94\\x8c\\x15SawyerBasketballEnvV2\\x94\\x93\\x94\\x8c\\x14partially_observable\\x94\\x88u.') \n",
      "\n",
      "10 reach-v2 Task(env_name='reach-v2', data=b'\\x80\\x04\\x954\\x01\\x00\\x00\\x00\\x00\\x00\\x00}\\x94(\\x8c\\x08rand_vec\\x94\\x8c\\x15numpy.core.multiarray\\x94\\x8c\\x0c_reconstruct\\x94\\x93\\x94\\x8c\\x05numpy\\x94\\x8c\\x07ndarray\\x94\\x93\\x94K\\x00\\x85\\x94C\\x01b\\x94\\x87\\x94R\\x94(K\\x01K\\x06\\x85\\x94h\\x05\\x8c\\x05dtype\\x94\\x93\\x94\\x8c\\x02f8\\x94\\x89\\x88\\x87\\x94R\\x94(K\\x03\\x8c\\x01<\\x94NNNJ\\xff\\xff\\xff\\xffJ\\xff\\xff\\xff\\xffK\\x00t\\x94b\\x89C0L\\x1f\\xd2\\xc98\\xcc\\x91?\\xb6u\\x17m\\x93\\xd6\\xe3?\\x00\\x00\\x00@\\xe1z\\x94?\\xab\\xe5SF|\\xe3\\xb7\\xbfkr\\xf2jf\\x0c\\xeb?`\\x13\\xf8\\xf5\\xd4\\x90\\xba?\\x94t\\x94b\\x8c\\x07env_cls\\x94\\x8c3metaworld.envs.mujoco.sawyer_xyz.v2.sawyer_reach_v2\\x94\\x8c\\x10SawyerReachEnvV2\\x94\\x93\\x94\\x8c\\x14partially_observable\\x94\\x88u.') \n",
      "\n",
      "11 push-v2 Task(env_name='push-v2', data=b'\\x80\\x04\\x952\\x01\\x00\\x00\\x00\\x00\\x00\\x00}\\x94(\\x8c\\x08rand_vec\\x94\\x8c\\x15numpy.core.multiarray\\x94\\x8c\\x0c_reconstruct\\x94\\x93\\x94\\x8c\\x05numpy\\x94\\x8c\\x07ndarray\\x94\\x93\\x94K\\x00\\x85\\x94C\\x01b\\x94\\x87\\x94R\\x94(K\\x01K\\x06\\x85\\x94h\\x05\\x8c\\x05dtype\\x94\\x93\\x94\\x8c\\x02f8\\x94\\x89\\x88\\x87\\x94R\\x94(K\\x03\\x8c\\x01<\\x94NNNJ\\xff\\xff\\xff\\xffJ\\xff\\xff\\xff\\xffK\\x00t\\x94b\\x89C0\\xdd\\x06%`\\x83\\xeb\\xab\\xbf\\xeb\\xd3\\xbcG\\x8b\\xf9\\xe3?\\x00\\x00\\x00@\\xe1z\\x94?\\x94,\\x9aH\\x86\\xe2\\xaf?\\xd8r\"\\xac\\xd2\\x11\\xea?\\xc5\\xe6\\x87\\x7fn%\\x85?\\x94t\\x94b\\x8c\\x07env_cls\\x94\\x8c2metaworld.envs.mujoco.sawyer_xyz.v2.sawyer_push_v2\\x94\\x8c\\x0fSawyerPushEnvV2\\x94\\x93\\x94\\x8c\\x14partially_observable\\x94\\x88u.') \n",
      "\n",
      "12 pick-place-v2 Task(env_name='pick-place-v2', data=b'\\x80\\x04\\x95=\\x01\\x00\\x00\\x00\\x00\\x00\\x00}\\x94(\\x8c\\x08rand_vec\\x94\\x8c\\x15numpy.core.multiarray\\x94\\x8c\\x0c_reconstruct\\x94\\x93\\x94\\x8c\\x05numpy\\x94\\x8c\\x07ndarray\\x94\\x93\\x94K\\x00\\x85\\x94C\\x01b\\x94\\x87\\x94R\\x94(K\\x01K\\x06\\x85\\x94h\\x05\\x8c\\x05dtype\\x94\\x93\\x94\\x8c\\x02f8\\x94\\x89\\x88\\x87\\x94R\\x94(K\\x03\\x8c\\x01<\\x94NNNJ\\xff\\xff\\xff\\xffJ\\xff\\xff\\xff\\xffK\\x00t\\x94b\\x89C08\\xa8\\xa1C\\xaat\\x9b?\\xe5!f&N\\xa8\\xe3?\\x00\\x00\\x00@\\xe1z\\x94?d\\x17\\x14\\xcf\\x0cH\\xb6\\xbf\\x1c]\\xfb\\xcbx\\x9b\\xe9?\\x04+\\xe6m\\x8fU\\xc2?\\x94t\\x94b\\x8c\\x07env_cls\\x94\\x8c8metaworld.envs.mujoco.sawyer_xyz.v2.sawyer_pick_place_v2\\x94\\x8c\\x14SawyerPickPlaceEnvV2\\x94\\x93\\x94\\x8c\\x14partially_observable\\x94\\x88u.') \n",
      "\n",
      "13 door-open-v2 Task(env_name='door-open-v2', data=b'\\x80\\x04\\x95\\x1a\\x01\\x00\\x00\\x00\\x00\\x00\\x00}\\x94(\\x8c\\x08rand_vec\\x94\\x8c\\x15numpy.core.multiarray\\x94\\x8c\\x0c_reconstruct\\x94\\x93\\x94\\x8c\\x05numpy\\x94\\x8c\\x07ndarray\\x94\\x93\\x94K\\x00\\x85\\x94C\\x01b\\x94\\x87\\x94R\\x94(K\\x01K\\x03\\x85\\x94h\\x05\\x8c\\x05dtype\\x94\\x93\\x94\\x8c\\x02f8\\x94\\x89\\x88\\x87\\x94R\\x94(K\\x03\\x8c\\x01<\\x94NNNJ\\xff\\xff\\xff\\xffJ\\xff\\xff\\xff\\xffK\\x00t\\x94b\\x89C\\x18\\x1c-\\x86(\\x9a\\xbd\\x85?\\x97\\xc5\\\\\\xbc\\xe5o\\xeb?\\x00\\x00\\x00@33\\xc3?\\x94t\\x94b\\x8c\\x07env_cls\\x94\\x8c2metaworld.envs.mujoco.sawyer_xyz.v2.sawyer_door_v2\\x94\\x8c\\x0fSawyerDoorEnvV2\\x94\\x93\\x94\\x8c\\x14partially_observable\\x94\\x88u.') \n",
      "\n",
      "14 drawer-close-v2 Task(env_name='drawer-close-v2', data=b'\\x80\\x04\\x95)\\x01\\x00\\x00\\x00\\x00\\x00\\x00}\\x94(\\x8c\\x08rand_vec\\x94\\x8c\\x15numpy.core.multiarray\\x94\\x8c\\x0c_reconstruct\\x94\\x93\\x94\\x8c\\x05numpy\\x94\\x8c\\x07ndarray\\x94\\x93\\x94K\\x00\\x85\\x94C\\x01b\\x94\\x87\\x94R\\x94(K\\x01K\\x03\\x85\\x94h\\x05\\x8c\\x05dtype\\x94\\x93\\x94\\x8c\\x02f8\\x94\\x89\\x88\\x87\\x94R\\x94(K\\x03\\x8c\\x01<\\x94NNNJ\\xff\\xff\\xff\\xffJ\\xff\\xff\\xff\\xffK\\x00t\\x94b\\x89C\\x18r-@\\xf9Y\\xe9\\xb2\\xbf\\x00\\x00\\x00\\xc0\\xcc\\xcc\\xec?\\x00\\x00\\x00\\x00\\x00\\x00\\x00\\x00\\x94t\\x94b\\x8c\\x07env_cls\\x94\\x8c:metaworld.envs.mujoco.sawyer_xyz.v2.sawyer_drawer_close_v2\\x94\\x8c\\x16SawyerDrawerCloseEnvV2\\x94\\x93\\x94\\x8c\\x14partially_observable\\x94\\x88u.') \n",
      "\n",
      "15 button-press-topdown-v2 Task(env_name='button-press-topdown-v2', data=b'\\x80\\x04\\x958\\x01\\x00\\x00\\x00\\x00\\x00\\x00}\\x94(\\x8c\\x08rand_vec\\x94\\x8c\\x15numpy.core.multiarray\\x94\\x8c\\x0c_reconstruct\\x94\\x93\\x94\\x8c\\x05numpy\\x94\\x8c\\x07ndarray\\x94\\x93\\x94K\\x00\\x85\\x94C\\x01b\\x94\\x87\\x94R\\x94(K\\x01K\\x03\\x85\\x94h\\x05\\x8c\\x05dtype\\x94\\x93\\x94\\x8c\\x02f8\\x94\\x89\\x88\\x87\\x94R\\x94(K\\x03\\x8c\\x01<\\x94NNNJ\\xff\\xff\\xff\\xffJ\\xff\\xff\\xff\\xffK\\x00t\\x94b\\x89C\\x18\\xc8\\x1c\\xd1u~\\x83\\xac?Pt\\x1d\\\\\\xe6\\x84\\xec?\\x00\\x00\\x00\\xe0\\xa3p\\xbd?\\x94t\\x94b\\x8c\\x07env_cls\\x94\\x8cBmetaworld.envs.mujoco.sawyer_xyz.v2.sawyer_button_press_topdown_v2\\x94\\x8c\\x1dSawyerButtonPressTopdownEnvV2\\x94\\x93\\x94\\x8c\\x14partially_observable\\x94\\x88u.') \n",
      "\n",
      "16 peg-insert-side-v2 Task(env_name='peg-insert-side-v2', data=b\"\\x80\\x04\\x95L\\x01\\x00\\x00\\x00\\x00\\x00\\x00}\\x94(\\x8c\\x08rand_vec\\x94\\x8c\\x15numpy.core.multiarray\\x94\\x8c\\x0c_reconstruct\\x94\\x93\\x94\\x8c\\x05numpy\\x94\\x8c\\x07ndarray\\x94\\x93\\x94K\\x00\\x85\\x94C\\x01b\\x94\\x87\\x94R\\x94(K\\x01K\\x06\\x85\\x94h\\x05\\x8c\\x05dtype\\x94\\x93\\x94\\x8c\\x02f8\\x94\\x89\\x88\\x87\\x94R\\x94(K\\x03\\x8c\\x01<\\x94NNNJ\\xff\\xff\\xff\\xffJ\\xff\\xff\\xff\\xffK\\x00t\\x94b\\x89C0\\x12\\xdfg\\xb4\\t$\\x9c?\\xe5\\xea\\xe48\\x86\\x07\\xe4?\\x00\\x00\\x00@\\xe1z\\x94?\\x04\\xfcu\\xb0 c\\xd0\\xbf\\x8a\\x9e\\x88'\\xb0\\xda\\xe1?v\\xae\\x86>\\xa25=\\xbf\\x94t\\x94b\\x8c\\x07env_cls\\x94\\x8c@metaworld.envs.mujoco.sawyer_xyz.v2.sawyer_peg_insertion_side_v2\\x94\\x8c\\x1bSawyerPegInsertionSideEnvV2\\x94\\x93\\x94\\x8c\\x14partially_observable\\x94\\x88u.\") \n",
      "\n",
      "17 window-open-v2 Task(env_name='window-open-v2', data=b\"\\x80\\x04\\x95'\\x01\\x00\\x00\\x00\\x00\\x00\\x00}\\x94(\\x8c\\x08rand_vec\\x94\\x8c\\x15numpy.core.multiarray\\x94\\x8c\\x0c_reconstruct\\x94\\x93\\x94\\x8c\\x05numpy\\x94\\x8c\\x07ndarray\\x94\\x93\\x94K\\x00\\x85\\x94C\\x01b\\x94\\x87\\x94R\\x94(K\\x01K\\x03\\x85\\x94h\\x05\\x8c\\x05dtype\\x94\\x93\\x94\\x8c\\x02f8\\x94\\x89\\x88\\x87\\x94R\\x94(K\\x03\\x8c\\x01<\\x94NNNJ\\xff\\xff\\xff\\xffJ\\xff\\xff\\xff\\xffK\\x00t\\x94b\\x89C\\x18\\xb82\\xf6RA\\xca\\xb3\\xbf\\xd7\\x17\\x8e+\\xd5e\\xe8?\\x00\\x00\\x00@\\xe1z\\xc4?\\x94t\\x94b\\x8c\\x07env_cls\\x94\\x8c9metaworld.envs.mujoco.sawyer_xyz.v2.sawyer_window_open_v2\\x94\\x8c\\x15SawyerWindowOpenEnvV2\\x94\\x93\\x94\\x8c\\x14partially_observable\\x94\\x88u.\") \n",
      "\n",
      "18 sweep-v2 Task(env_name='sweep-v2', data=b'\\x80\\x04\\x95\\x1c\\x01\\x00\\x00\\x00\\x00\\x00\\x00}\\x94(\\x8c\\x08rand_vec\\x94\\x8c\\x15numpy.core.multiarray\\x94\\x8c\\x0c_reconstruct\\x94\\x93\\x94\\x8c\\x05numpy\\x94\\x8c\\x07ndarray\\x94\\x93\\x94K\\x00\\x85\\x94C\\x01b\\x94\\x87\\x94R\\x94(K\\x01K\\x03\\x85\\x94h\\x05\\x8c\\x05dtype\\x94\\x93\\x94\\x8c\\x02f8\\x94\\x89\\x88\\x87\\x94R\\x94(K\\x03\\x8c\\x01<\\x94NNNJ\\xff\\xff\\xff\\xffJ\\xff\\xff\\xff\\xffK\\x00t\\x94b\\x89C\\x18\\xd8*\\xd4\\xf8\\x88\\xd6\\x8a\\xbf\\xec\\xed\\x99\\xda\\x17_\\xe6?\\x00\\x00\\x00@\\xe1z\\x94?\\x94t\\x94b\\x8c\\x07env_cls\\x94\\x8c3metaworld.envs.mujoco.sawyer_xyz.v2.sawyer_sweep_v2\\x94\\x8c\\x10SawyerSweepEnvV2\\x94\\x93\\x94\\x8c\\x14partially_observable\\x94\\x88u.') \n",
      "\n",
      "19 basketball-v2 Task(env_name='basketball-v2', data=b'\\x80\\x04\\x95>\\x01\\x00\\x00\\x00\\x00\\x00\\x00}\\x94(\\x8c\\x08rand_vec\\x94\\x8c\\x15numpy.core.multiarray\\x94\\x8c\\x0c_reconstruct\\x94\\x93\\x94\\x8c\\x05numpy\\x94\\x8c\\x07ndarray\\x94\\x93\\x94K\\x00\\x85\\x94C\\x01b\\x94\\x87\\x94R\\x94(K\\x01K\\x06\\x85\\x94h\\x05\\x8c\\x05dtype\\x94\\x93\\x94\\x8c\\x02f8\\x94\\x89\\x88\\x87\\x94R\\x94(K\\x03\\x8c\\x01<\\x94NNNJ\\xff\\xff\\xff\\xffJ\\xff\\xff\\xff\\xffK\\x00t\\x94b\\x89C0\\xf0\\xdc\\r\\\\\\x19\\xe2\\xb5?.9\\x98]\\xaf!\\xe4?\\x94Z3\\xe8\\x88\\xaa\\x9e?\\x8au\\xf5p\\x90b\\xac\\xbf\\xb2!m6x\\x8a\\xeb?\\x00\\x00\\x00\\x00\\x00\\x00\\x00\\x00\\x94t\\x94b\\x8c\\x07env_cls\\x94\\x8c8metaworld.envs.mujoco.sawyer_xyz.v2.sawyer_basketball_v2\\x94\\x8c\\x15SawyerBasketballEnvV2\\x94\\x93\\x94\\x8c\\x14partially_observable\\x94\\x88u.') \n",
      "\n",
      "20 reach-v2 Task(env_name='reach-v2', data=b'\\x80\\x04\\x954\\x01\\x00\\x00\\x00\\x00\\x00\\x00}\\x94(\\x8c\\x08rand_vec\\x94\\x8c\\x15numpy.core.multiarray\\x94\\x8c\\x0c_reconstruct\\x94\\x93\\x94\\x8c\\x05numpy\\x94\\x8c\\x07ndarray\\x94\\x93\\x94K\\x00\\x85\\x94C\\x01b\\x94\\x87\\x94R\\x94(K\\x01K\\x06\\x85\\x94h\\x05\\x8c\\x05dtype\\x94\\x93\\x94\\x8c\\x02f8\\x94\\x89\\x88\\x87\\x94R\\x94(K\\x03\\x8c\\x01<\\x94NNNJ\\xff\\xff\\xff\\xffJ\\xff\\xff\\xff\\xffK\\x00t\\x94b\\x89C0l-M\\x18\\xe8\\xde\\xb0?\\x8e\\x7fn\\x98\\xff\\x97\\xe3?\\x00\\x00\\x00@\\xe1z\\x94?\\xd8s\\xfd\\x03\\x91\\x93\\xaa?{\\xe3\\x8f\\xcd\\xfbq\\xeb?\\xe4\\xf0\\x06\\x14\\x98\\xfe\\xb4?\\x94t\\x94b\\x8c\\x07env_cls\\x94\\x8c3metaworld.envs.mujoco.sawyer_xyz.v2.sawyer_reach_v2\\x94\\x8c\\x10SawyerReachEnvV2\\x94\\x93\\x94\\x8c\\x14partially_observable\\x94\\x88u.') \n",
      "\n",
      "21 push-v2 Task(env_name='push-v2', data=b'\\x80\\x04\\x952\\x01\\x00\\x00\\x00\\x00\\x00\\x00}\\x94(\\x8c\\x08rand_vec\\x94\\x8c\\x15numpy.core.multiarray\\x94\\x8c\\x0c_reconstruct\\x94\\x93\\x94\\x8c\\x05numpy\\x94\\x8c\\x07ndarray\\x94\\x93\\x94K\\x00\\x85\\x94C\\x01b\\x94\\x87\\x94R\\x94(K\\x01K\\x06\\x85\\x94h\\x05\\x8c\\x05dtype\\x94\\x93\\x94\\x8c\\x02f8\\x94\\x89\\x88\\x87\\x94R\\x94(K\\x03\\x8c\\x01<\\x94NNNJ\\xff\\xff\\xff\\xffJ\\xff\\xff\\xff\\xffK\\x00t\\x94b\\x89C0\\xc0\\x18\\xe0\\x9c?\\xd3]?F\\x9e\\xf9\\x92\\x90\\xb4\\xe4?\\x00\\x00\\x00@\\xe1z\\x94?,\\xa0\\x94SJ\\xca\\x9c\\xbf\\x82\\xb7\\xe4^j\\xde\\xeb?/&) \\x8b5\\x8e?\\x94t\\x94b\\x8c\\x07env_cls\\x94\\x8c2metaworld.envs.mujoco.sawyer_xyz.v2.sawyer_push_v2\\x94\\x8c\\x0fSawyerPushEnvV2\\x94\\x93\\x94\\x8c\\x14partially_observable\\x94\\x88u.') \n",
      "\n",
      "22 pick-place-v2 Task(env_name='pick-place-v2', data=b\"\\x80\\x04\\x95=\\x01\\x00\\x00\\x00\\x00\\x00\\x00}\\x94(\\x8c\\x08rand_vec\\x94\\x8c\\x15numpy.core.multiarray\\x94\\x8c\\x0c_reconstruct\\x94\\x93\\x94\\x8c\\x05numpy\\x94\\x8c\\x07ndarray\\x94\\x93\\x94K\\x00\\x85\\x94C\\x01b\\x94\\x87\\x94R\\x94(K\\x01K\\x06\\x85\\x94h\\x05\\x8c\\x05dtype\\x94\\x93\\x94\\x8c\\x02f8\\x94\\x89\\x88\\x87\\x94R\\x94(K\\x03\\x8c\\x01<\\x94NNNJ\\xff\\xff\\xff\\xffJ\\xff\\xff\\xff\\xffK\\x00t\\x94b\\x89C08xe=]\\xbc\\xb3\\xbf&\\xf3F3\\x00]\\xe6?\\x00\\x00\\x00@\\xe1z\\x94?\\xd6\\x0c'\\x0c\\xc5J\\xb2?_2w\\xc8\\xd3\\x9c\\xe9?\\xa1\\xb2\\xd8C\\x9c\\xe3\\xc6?\\x94t\\x94b\\x8c\\x07env_cls\\x94\\x8c8metaworld.envs.mujoco.sawyer_xyz.v2.sawyer_pick_place_v2\\x94\\x8c\\x14SawyerPickPlaceEnvV2\\x94\\x93\\x94\\x8c\\x14partially_observable\\x94\\x88u.\") \n",
      "\n",
      "23 door-open-v2 Task(env_name='door-open-v2', data=b'\\x80\\x04\\x95\\x1a\\x01\\x00\\x00\\x00\\x00\\x00\\x00}\\x94(\\x8c\\x08rand_vec\\x94\\x8c\\x15numpy.core.multiarray\\x94\\x8c\\x0c_reconstruct\\x94\\x93\\x94\\x8c\\x05numpy\\x94\\x8c\\x07ndarray\\x94\\x93\\x94K\\x00\\x85\\x94C\\x01b\\x94\\x87\\x94R\\x94(K\\x01K\\x03\\x85\\x94h\\x05\\x8c\\x05dtype\\x94\\x93\\x94\\x8c\\x02f8\\x94\\x89\\x88\\x87\\x94R\\x94(K\\x03\\x8c\\x01<\\x94NNNJ\\xff\\xff\\xff\\xffJ\\xff\\xff\\xff\\xffK\\x00t\\x94b\\x89C\\x18sB\\xa4_\\x89\\xae\\xb7?\\x86\\xd0\\x8d\\x93\\xf6\\xa2\\xeb?\\x00\\x00\\x00@33\\xc3?\\x94t\\x94b\\x8c\\x07env_cls\\x94\\x8c2metaworld.envs.mujoco.sawyer_xyz.v2.sawyer_door_v2\\x94\\x8c\\x0fSawyerDoorEnvV2\\x94\\x93\\x94\\x8c\\x14partially_observable\\x94\\x88u.') \n",
      "\n",
      "24 drawer-close-v2 Task(env_name='drawer-close-v2', data=b'\\x80\\x04\\x95)\\x01\\x00\\x00\\x00\\x00\\x00\\x00}\\x94(\\x8c\\x08rand_vec\\x94\\x8c\\x15numpy.core.multiarray\\x94\\x8c\\x0c_reconstruct\\x94\\x93\\x94\\x8c\\x05numpy\\x94\\x8c\\x07ndarray\\x94\\x93\\x94K\\x00\\x85\\x94C\\x01b\\x94\\x87\\x94R\\x94(K\\x01K\\x03\\x85\\x94h\\x05\\x8c\\x05dtype\\x94\\x93\\x94\\x8c\\x02f8\\x94\\x89\\x88\\x87\\x94R\\x94(K\\x03\\x8c\\x01<\\x94NNNJ\\xff\\xff\\xff\\xffJ\\xff\\xff\\xff\\xffK\\x00t\\x94b\\x89C\\x180)\\xf7?\\x1d\\xd4~?\\x00\\x00\\x00\\xc0\\xcc\\xcc\\xec?\\x00\\x00\\x00\\x00\\x00\\x00\\x00\\x00\\x94t\\x94b\\x8c\\x07env_cls\\x94\\x8c:metaworld.envs.mujoco.sawyer_xyz.v2.sawyer_drawer_close_v2\\x94\\x8c\\x16SawyerDrawerCloseEnvV2\\x94\\x93\\x94\\x8c\\x14partially_observable\\x94\\x88u.') \n",
      "\n",
      "25 button-press-topdown-v2 Task(env_name='button-press-topdown-v2', data=b\"\\x80\\x04\\x958\\x01\\x00\\x00\\x00\\x00\\x00\\x00}\\x94(\\x8c\\x08rand_vec\\x94\\x8c\\x15numpy.core.multiarray\\x94\\x8c\\x0c_reconstruct\\x94\\x93\\x94\\x8c\\x05numpy\\x94\\x8c\\x07ndarray\\x94\\x93\\x94K\\x00\\x85\\x94C\\x01b\\x94\\x87\\x94R\\x94(K\\x01K\\x03\\x85\\x94h\\x05\\x8c\\x05dtype\\x94\\x93\\x94\\x8c\\x02f8\\x94\\x89\\x88\\x87\\x94R\\x94(K\\x03\\x8c\\x01<\\x94NNNJ\\xff\\xff\\xff\\xffJ\\xff\\xff\\xff\\xffK\\x00t\\x94b\\x89C\\x18 \\x18\\x93\\x1av\\x83\\xa1?\\x19\\xb8\\xe3\\x02\\xa3'\\xea?\\x00\\x00\\x00\\xe0\\xa3p\\xbd?\\x94t\\x94b\\x8c\\x07env_cls\\x94\\x8cBmetaworld.envs.mujoco.sawyer_xyz.v2.sawyer_button_press_topdown_v2\\x94\\x8c\\x1dSawyerButtonPressTopdownEnvV2\\x94\\x93\\x94\\x8c\\x14partially_observable\\x94\\x88u.\") \n",
      "\n",
      "26 peg-insert-side-v2 Task(env_name='peg-insert-side-v2', data=b'\\x80\\x04\\x95L\\x01\\x00\\x00\\x00\\x00\\x00\\x00}\\x94(\\x8c\\x08rand_vec\\x94\\x8c\\x15numpy.core.multiarray\\x94\\x8c\\x0c_reconstruct\\x94\\x93\\x94\\x8c\\x05numpy\\x94\\x8c\\x07ndarray\\x94\\x93\\x94K\\x00\\x85\\x94C\\x01b\\x94\\x87\\x94R\\x94(K\\x01K\\x06\\x85\\x94h\\x05\\x8c\\x05dtype\\x94\\x93\\x94\\x8c\\x02f8\\x94\\x89\\x88\\x87\\x94R\\x94(K\\x03\\x8c\\x01<\\x94NNNJ\\xff\\xff\\xff\\xffJ\\xff\\xff\\xff\\xffK\\x00t\\x94b\\x89C0\\x98\\xb5\\xa4\\xb0\\x16\\xd9\\xc3?TK\\x989\\xe4<\\xe1?\\x00\\x00\\x00@\\xe1z\\x94?S\\xd2\\xe4*kl\\xd3\\xbf\\xcc\\xccC\\x8c\\x03\\x1d\\xde?\\xbb9\\xe3\\x1b$\\x00O\\xbf\\x94t\\x94b\\x8c\\x07env_cls\\x94\\x8c@metaworld.envs.mujoco.sawyer_xyz.v2.sawyer_peg_insertion_side_v2\\x94\\x8c\\x1bSawyerPegInsertionSideEnvV2\\x94\\x93\\x94\\x8c\\x14partially_observable\\x94\\x88u.') \n",
      "\n",
      "27 window-open-v2 Task(env_name='window-open-v2', data=b\"\\x80\\x04\\x95'\\x01\\x00\\x00\\x00\\x00\\x00\\x00}\\x94(\\x8c\\x08rand_vec\\x94\\x8c\\x15numpy.core.multiarray\\x94\\x8c\\x0c_reconstruct\\x94\\x93\\x94\\x8c\\x05numpy\\x94\\x8c\\x07ndarray\\x94\\x93\\x94K\\x00\\x85\\x94C\\x01b\\x94\\x87\\x94R\\x94(K\\x01K\\x03\\x85\\x94h\\x05\\x8c\\x05dtype\\x94\\x93\\x94\\x8c\\x02f8\\x94\\x89\\x88\\x87\\x94R\\x94(K\\x03\\x8c\\x01<\\x94NNNJ\\xff\\xff\\xff\\xffJ\\xff\\xff\\xff\\xffK\\x00t\\x94b\\x89C\\x18\\xe0Eb\\xfc\\x01\\xb7\\x9c?f\\xa4 d\\xadZ\\xe8?\\x00\\x00\\x00@\\xe1z\\xc4?\\x94t\\x94b\\x8c\\x07env_cls\\x94\\x8c9metaworld.envs.mujoco.sawyer_xyz.v2.sawyer_window_open_v2\\x94\\x8c\\x15SawyerWindowOpenEnvV2\\x94\\x93\\x94\\x8c\\x14partially_observable\\x94\\x88u.\") \n",
      "\n",
      "28 sweep-v2 Task(env_name='sweep-v2', data=b'\\x80\\x04\\x95\\x1c\\x01\\x00\\x00\\x00\\x00\\x00\\x00}\\x94(\\x8c\\x08rand_vec\\x94\\x8c\\x15numpy.core.multiarray\\x94\\x8c\\x0c_reconstruct\\x94\\x93\\x94\\x8c\\x05numpy\\x94\\x8c\\x07ndarray\\x94\\x93\\x94K\\x00\\x85\\x94C\\x01b\\x94\\x87\\x94R\\x94(K\\x01K\\x03\\x85\\x94h\\x05\\x8c\\x05dtype\\x94\\x93\\x94\\x8c\\x02f8\\x94\\x89\\x88\\x87\\x94R\\x94(K\\x03\\x8c\\x01<\\x94NNNJ\\xff\\xff\\xff\\xffJ\\xff\\xff\\xff\\xffK\\x00t\\x94b\\x89C\\x181z\\x81\\x15\\x00\\xc3\\xa4\\xbf\\xc1\\xf2\\x0f\\xcc\\xa2\\x95\\xe4?\\x00\\x00\\x00@\\xe1z\\x94?\\x94t\\x94b\\x8c\\x07env_cls\\x94\\x8c3metaworld.envs.mujoco.sawyer_xyz.v2.sawyer_sweep_v2\\x94\\x8c\\x10SawyerSweepEnvV2\\x94\\x93\\x94\\x8c\\x14partially_observable\\x94\\x88u.') \n",
      "\n",
      "29 basketball-v2 Task(env_name='basketball-v2', data=b'\\x80\\x04\\x95>\\x01\\x00\\x00\\x00\\x00\\x00\\x00}\\x94(\\x8c\\x08rand_vec\\x94\\x8c\\x15numpy.core.multiarray\\x94\\x8c\\x0c_reconstruct\\x94\\x93\\x94\\x8c\\x05numpy\\x94\\x8c\\x07ndarray\\x94\\x93\\x94K\\x00\\x85\\x94C\\x01b\\x94\\x87\\x94R\\x94(K\\x01K\\x06\\x85\\x94h\\x05\\x8c\\x05dtype\\x94\\x93\\x94\\x8c\\x02f8\\x94\\x89\\x88\\x87\\x94R\\x94(K\\x03\\x8c\\x01<\\x94NNNJ\\xff\\xff\\xff\\xffJ\\xff\\xff\\xff\\xffK\\x00t\\x94b\\x89C0\\xa0\\xbf\\x8dU\\x90Z\\xae?\\x9e4-\\x06\\xea\\x1e\\xe4?\\x8f\\\\\\xad\\xc8L\\xcf\\x9e?hZ\\xd3\\xa8\\xbb\\x0c\\xa2?[R\\xf4\\xebmB\\xec?\\x00\\x00\\x00\\x00\\x00\\x00\\x00\\x00\\x94t\\x94b\\x8c\\x07env_cls\\x94\\x8c8metaworld.envs.mujoco.sawyer_xyz.v2.sawyer_basketball_v2\\x94\\x8c\\x15SawyerBasketballEnvV2\\x94\\x93\\x94\\x8c\\x14partially_observable\\x94\\x88u.') \n",
      "\n"
     ]
    }
   ],
   "source": [
    "for i in range(num_processes):\n",
    "    env = envs[i]()\n",
    "    env.reset()\n",
    "    print(i, env.__getattr__('env_name'), env.__getattr__('task'), '\\n')"
   ]
  },
  {
   "cell_type": "code",
   "execution_count": 5,
   "metadata": {},
   "outputs": [
    {
     "data": {
      "text/plain": [
       "array([0.00615235, 0.6001898 , 0.19430117, 1.        , 0.00486501,\n",
       "       0.61785013, 0.02      , 0.        , 0.        , 0.        ,\n",
       "       1.        , 0.        , 0.        , 0.        , 0.        ,\n",
       "       0.        , 0.        , 0.        , 0.00615235, 0.6001898 ,\n",
       "       0.19430117, 1.        , 0.00486501, 0.61785013, 0.02      ,\n",
       "       0.        , 0.        , 0.        , 1.        , 0.        ,\n",
       "       0.        , 0.        , 0.        , 0.        , 0.        ,\n",
       "       0.        , 0.        , 0.        , 0.        , 0.        ])"
      ]
     },
     "execution_count": 5,
     "metadata": {},
     "output_type": "execute_result"
    }
   ],
   "source": [
    "env = envs[0]()\n",
    "\n",
    "env.reset()"
   ]
  },
  {
   "cell_type": "code",
   "execution_count": 12,
   "metadata": {},
   "outputs": [
    {
     "name": "stdout",
     "output_type": "stream",
     "text": [
      "True False False\n"
     ]
    }
   ],
   "source": [
    "def get_attrs(env):\n",
    "    name = env.__getattr__('env_name')\n",
    "    task = env.__getattr__('task')\n",
    "    cls = env.__getattr__('env_cls')()\n",
    "    return name, task, cls\n",
    "\n",
    "# test reset:\n",
    "# before_reset_name = env.__getattr__('env_name')\n",
    "# before_reset_task = env.__getattr__('task')\n",
    "# before_reset_cls = env.__getattr__('env_cls')()\n",
    "before_reset_name, before_reset_task, before_reset_cls = get_attrs(env)\n",
    "\n",
    "env.reset()\n",
    "\n",
    "after_reset_name, after_reset_task, after_reset_cls = get_attrs(env)\n",
    "\n",
    "print(\n",
    "    before_reset_name == after_reset_name,\n",
    "    before_reset_task == after_reset_task,\n",
    "    before_reset_cls == after_reset_cls\n",
    ")"
   ]
  },
  {
   "cell_type": "code",
   "execution_count": 31,
   "metadata": {},
   "outputs": [
    {
     "name": "stdout",
     "output_type": "stream",
     "text": [
      "True True False\n"
     ]
    }
   ],
   "source": [
    "def get_attrs(env):\n",
    "    name = env.__getattr__('env_name')\n",
    "    task = env.__getattr__('task')\n",
    "    cls = env.__getattr__('env_cls')()\n",
    "    return name, task, cls\n",
    "\n",
    "# test reset:\n",
    "# before_reset_name = env.__getattr__('env_name')\n",
    "# before_reset_task = env.__getattr__('task')\n",
    "# before_reset_cls = env.__getattr__('env_cls')()\n",
    "before_reset_name, before_reset_task, before_reset_cls = get_attrs(env)\n",
    "\n",
    "env.reset_mdp()\n",
    "\n",
    "after_reset_name, after_reset_task, after_reset_cls = get_attrs(env)\n",
    "\n",
    "print(\n",
    "    before_reset_name == after_reset_name,\n",
    "    before_reset_task == after_reset_task,\n",
    "    before_reset_cls == after_reset_cls\n",
    ")"
   ]
  },
  {
   "cell_type": "code",
   "execution_count": 32,
   "metadata": {},
   "outputs": [
    {
     "data": {
      "text/plain": [
       "<metaworld.envs.mujoco.sawyer_xyz.v2.sawyer_reach_v2.SawyerReachEnvV2 at 0x7f6a89ebb760>"
      ]
     },
     "execution_count": 32,
     "metadata": {},
     "output_type": "execute_result"
    }
   ],
   "source": [
    "before_reset_cls"
   ]
  },
  {
   "cell_type": "code",
   "execution_count": 33,
   "metadata": {},
   "outputs": [
    {
     "data": {
      "text/plain": [
       "<metaworld.envs.mujoco.sawyer_xyz.v2.sawyer_reach_v2.SawyerReachEnvV2 at 0x7f6a89f06520>"
      ]
     },
     "execution_count": 33,
     "metadata": {},
     "output_type": "execute_result"
    }
   ],
   "source": [
    "after_reset_cls"
   ]
  },
  {
   "cell_type": "code",
   "execution_count": 19,
   "metadata": {},
   "outputs": [
    {
     "name": "stdout",
     "output_type": "stream",
     "text": [
      "<metaworld.envs.mujoco.sawyer_xyz.v2.sawyer_reach_v2.SawyerReachEnvV2 object at 0x7f6a89e5c400>\n",
      "<metaworld.envs.mujoco.sawyer_xyz.v2.sawyer_reach_v2.SawyerReachEnvV2 object at 0x7f6a89e41dc0>\n"
     ]
    }
   ],
   "source": [
    "print(\n",
    "    repr(after_reset_cls),\n",
    "    repr(before_reset_cls),\n",
    "    sep = '\\n'\n",
    ")"
   ]
  },
  {
   "cell_type": "code",
   "execution_count": 21,
   "metadata": {},
   "outputs": [
    {
     "data": {
      "text/plain": [
       "False"
      ]
     },
     "execution_count": 21,
     "metadata": {},
     "output_type": "execute_result"
    }
   ],
   "source": [
    "after_reset_task[1]==before_reset_task[1]"
   ]
  },
  {
   "cell_type": "code",
   "execution_count": 35,
   "metadata": {},
   "outputs": [
    {
     "data": {
      "text/plain": [
       "array([-0.1,  0.8,  0.2])"
      ]
     },
     "execution_count": 35,
     "metadata": {},
     "output_type": "execute_result"
    }
   ],
   "source": [
    "after_reset_cls.goal"
   ]
  },
  {
   "cell_type": "code",
   "execution_count": 36,
   "metadata": {},
   "outputs": [
    {
     "data": {
      "text/plain": [
       "array([-0.1,  0.8,  0.2])"
      ]
     },
     "execution_count": 36,
     "metadata": {},
     "output_type": "execute_result"
    }
   ],
   "source": [
    "before_reset_cls.goal"
   ]
  },
  {
   "cell_type": "code",
   "execution_count": 34,
   "metadata": {},
   "outputs": [
    {
     "name": "stdout",
     "output_type": "stream",
     "text": [
      "{'obj_init_angle': 0.3, 'obj_init_pos': array([0.  , 0.6 , 0.02]), 'hand_init_pos': array([0. , 0.6, 0.2])} {'obj_init_angle': 0.3, 'obj_init_pos': array([0.  , 0.6 , 0.02]), 'hand_init_pos': array([0. , 0.6, 0.2])}\n"
     ]
    }
   ],
   "source": [
    "print(\n",
    "    after_reset_cls.init_config,\n",
    "    before_reset_cls.init_config\n",
    ")"
   ]
  },
  {
   "cell_type": "code",
   "execution_count": 23,
   "metadata": {},
   "outputs": [
    {
     "data": {
      "text/plain": [
       "False"
      ]
     },
     "execution_count": 23,
     "metadata": {},
     "output_type": "execute_result"
    }
   ],
   "source": [
    "before_reset_task.data==after_reset_task."
   ]
  },
  {
   "cell_type": "code",
   "execution_count": 67,
   "metadata": {},
   "outputs": [
    {
     "data": {
      "text/plain": [
       "[<matplotlib.lines.Line2D at 0x7f6a824e2730>]"
      ]
     },
     "execution_count": 67,
     "metadata": {},
     "output_type": "execute_result"
    },
    {
     "data": {
      "image/png": "[encoded data removed]",
      "text/plain": [
       "<Figure size 640x480 with 1 Axes>"
      ]
     },
     "metadata": {},
     "output_type": "display_data"
    }
   ],
   "source": [
    "import matplotlib.pyplot as plt\n",
    "import numpy as np\n",
    "x = np.array([\n",
    "        91, 133, 182, 171, 255, 623, 145, 167, 224, 161, 140,290, 171, 232, 177, 718, 273, 254, 271, \n",
    "        619, 599, 144, 646, 232, 597, 657, 654, 585, 591, 611, 596, 660, 590, 653, 603, 600, 649, 605, 583,\n",
    "        645, 652, 637, 655, 660, 143, 132, 611, 658,645, 789, 642, 637, 596, \n",
    "        573, 640, 571, 573, 588, 600, 583, 595, 669, 639\n",
    "        ])\n",
    "rel_x = (x - np.mean(x)) / np.std(x)\n",
    "plt.plot(\n",
    "    rel_x\n",
    ")"
   ]
  },
  {
   "cell_type": "code",
   "execution_count": 68,
   "metadata": {},
   "outputs": [
    {
     "data": {
      "text/plain": [
       "[<matplotlib.lines.Line2D at 0x7f6a824675e0>]"
      ]
     },
     "execution_count": 68,
     "metadata": {},
     "output_type": "execute_result"
    },
    {
     "data": {
      "image/png": "[encoded data removed]",
      "text/plain": [
       "<Figure size 640x480 with 1 Axes>"
      ]
     },
     "metadata": {},
     "output_type": "display_data"
    }
   ],
   "source": [
    "x = np.array([\n",
    "        137, 140, 702, 735, 388, 120, 265, 386, 859, 1516, 712, 503, 312, 372, 478, 227, 1401, 396, \n",
    "        919, 303, 278, 933, 534, 1402, 790,640, 369, 622, 374, 618,275, 999, 600, 170, 677, 1153, 665,\n",
    "        153, 668, 707, 446, 639, 864, 496, 840, 407, 1219, 143, 578, 420, 213, 111, 213, 460\n",
    "        ])\n",
    "rel_x = (x - np.mean(x)) / np.std(x)\n",
    "plt.plot(\n",
    "    rel_x\n",
    ")"
   ]
  },
  {
   "cell_type": "code",
   "execution_count": 8,
   "metadata": {},
   "outputs": [
    {
     "data": {
      "text/plain": [
       "<metaworld.envs.mujoco.sawyer_xyz.v2.sawyer_reach_v2.SawyerReachEnvV2 at 0x7f6a8a243580>"
      ]
     },
     "execution_count": 8,
     "metadata": {},
     "output_type": "execute_result"
    }
   ],
   "source": [
    "env.__getattr__('env_cls')()"
   ]
  },
  {
   "cell_type": "code",
   "execution_count": null,
   "metadata": {},
   "outputs": [],
   "source": [
    "import gym\n",
    "import random\n",
    "\n",
    "from environments.env_utils.vec_env.dummy_vec_env import DummyVecEnv\n",
    "from environments.env_utils.vec_env.subproc_vec_env import SubprocVecEnv\n",
    "from environments.env_utils.vec_env.vec_normalize import VecNormalize\n",
    "from environments.wrappers import TimeLimitMask, VariBadWrapper\n",
    "\n",
    "\n",
    "def make_env(env_id, seed, rank, episodes_per_task, tasks, add_done_info, **kwargs):\n",
    "    def _thunk():\n",
    "\n",
    "        env = gym.make(env_id, **kwargs)\n",
    "        if tasks is not None:\n",
    "            env.unwrapped.reset_task = lambda x: env.unwrapped.set_task(random.choice(tasks))\n",
    "        if seed is not None:\n",
    "            env.seed(seed + rank)\n",
    "        if str(env.__class__.__name__).find('TimeLimit') >= 0:\n",
    "            env = TimeLimitMask(env)\n",
    "        env = VariBadWrapper(env=env, episodes_per_task=episodes_per_task, add_done_info=add_done_info)\n",
    "        return env\n",
    "\n",
    "    return _thunk\n",
    "\n",
    "def make_metaworld_env(env_id, task_id, seed, rank, episodes_per_task,add_done_info, **kwargs):\n",
    "    def _thunk():\n",
    "        env = gym.make(env_id, **kwargs)\n",
    "        env.set_benchmark_task(task_id)\n",
    "        if seed is not None:\n",
    "            env.seed(seed + rank)\n",
    "        if str(env.__class__.__name__).find('TimeLimit') >= 0:\n",
    "            env = TimeLimitMask(env)\n",
    "        env = VariBadWrapper(env=env, episodes_per_task=episodes_per_task, add_done_info=add_done_info)\n",
    "        return env\n",
    "\n",
    "    return _thunk\n",
    "\n",
    "def make_vec_envs(env_name, seed, num_processes, gamma,\n",
    "                  device, episodes_per_task,\n",
    "                  normalise_rew, ret_rms, tasks,\n",
    "                  rank_offset=0,\n",
    "                  add_done_info=None,\n",
    "                  **kwargs):\n",
    "    \"\"\"\n",
    "    :param ret_rms: running return and std for rewards\n",
    "    \"\"\"\n",
    "    ## hacky work around\n",
    "    if 'ML10' in env_name:\n",
    "            envs = [make_metaworld_env(env_id=env_name, \n",
    "                    task_id = i,\n",
    "                    seed=seed, rank=rank_offset + i,\n",
    "                     episodes_per_task=episodes_per_task,\n",
    "                     add_done_info=add_done_info,\n",
    "                     **kwargs)\n",
    "            for i in range(num_processes)]\n",
    "    else:\n",
    "        envs = [make_env(env_id=env_name, seed=seed, rank=rank_offset + i,\n",
    "                        episodes_per_task=episodes_per_task,\n",
    "                        tasks=tasks,\n",
    "                        add_done_info=add_done_info,\n",
    "                        **kwargs)\n",
    "                for i in range(num_processes)]\n",
    "\n",
    "    if len(envs) > 1:\n",
    "        envs = SubprocVecEnv(envs)\n",
    "    else:\n",
    "        envs = DummyVecEnv(envs)\n",
    "\n",
    "    if len(envs.observation_space.shape) == 1:\n",
    "        if gamma is None:\n",
    "            envs = VecNormalize(envs, normalise_rew=normalise_rew, ret_rms=ret_rms)\n",
    "        else:\n",
    "            envs = VecNormalize(envs, normalise_rew=normalise_rew, ret_rms=ret_rms, gamma=gamma)\n",
    "\n",
    "    envs = VecPyTorch(envs, device)\n",
    "\n",
    "    return envs"
   ]
  },
  {
   "cell_type": "code",
   "execution_count": 58,
   "metadata": {},
   "outputs": [
    {
     "data": {
      "text/plain": [
       "2"
      ]
     },
     "execution_count": 58,
     "metadata": {},
     "output_type": "execute_result"
    }
   ],
   "source": [
    "102 % len(task_names)"
   ]
  },
  {
   "cell_type": "code",
   "execution_count": null,
   "metadata": {},
   "outputs": [],
   "source": [
    "\n",
    "class TestML10Env(gym.Env):\n",
    "\n",
    "    def __init__(self):\n",
    "        # initialise blank env\n",
    "        self.benchmark = metaworld.ML10()\n",
    "        self.task_names = list(self.benchmark.train_classes.keys())\n",
    "\n",
    "        # set a random task from the benchmark\n",
    "        self.set_task()\n",
    "\n",
    "        # requires self.set_task()\n",
    "        self.observation_space = self.env.observation_space\n",
    "        self.action_space = self.env.action_space\n",
    "\n",
    "        # metaworld max steps - hardcoded\n",
    "        self._max_episode_steps = 500\n",
    "\n",
    "    def set_benchmark_task(self, task_id):\n",
    "        self.env_name = self.task_names[task_id]\n",
    "        self.env_cls = self.benchmark.train_classes[self.env_name]\n",
    "        self.env = self.env_cls()\n",
    "\n",
    "    def step(self, action):\n",
    "        obs, reward, terminated, truncated, info = self.env.step(action)\n",
    "        done = terminated or truncated\n",
    "        info['task'] = self.task\n",
    "        return obs, reward, done, info\n",
    "    \n",
    "    def reset(self):\n",
    "        obs, _ = self.env.reset()\n",
    "        return obs\n",
    "    \n",
    "    def get_task(self):\n",
    "        return self.env_name, self.env_cls\n",
    "    \n",
    "    ## reset_task is automatically created in make_env using set_task\n",
    "    def set_task(self, task = None):\n",
    "        if task is None:\n",
    "            task = random.choice(\n",
    "                [task for task in self.benchmark.train_tasks if task.env_name==self.env_name]\n",
    "                )\n",
    "\n",
    "        self.task = task\n",
    "        self.env.set_task(self.task)\n",
    "\n",
    "    # duplicated for varibad temporarily\n",
    "    def reset_task(self, task = None):\n",
    "        if task is None:\n",
    "            task = random.choice(\n",
    "                [task for task in self.benchmark.train_tasks if task.env_name==self.env_name]\n",
    "                )\n",
    "\n",
    "        self.task = task\n",
    "        self.env.set_task(self.task)"
   ]
  },
  {
   "cell_type": "code",
   "execution_count": 3,
   "metadata": {},
   "outputs": [],
   "source": [
    "ml10 = metaworld.ML10()"
   ]
  },
  {
   "cell_type": "code",
   "execution_count": 50,
   "metadata": {},
   "outputs": [
    {
     "name": "stdout",
     "output_type": "stream",
     "text": [
      "['reach-v2', 'push-v2', 'pick-place-v2', 'door-open-v2', 'drawer-close-v2', 'button-press-topdown-v2', 'peg-insert-side-v2', 'window-open-v2', 'sweep-v2', 'basketball-v2']\n",
      "pick-place-v2\n",
      "<class 'metaworld.envs.mujoco.sawyer_xyz.v2.sawyer_pick_place_v2.SawyerPickPlaceEnvV2'>\n",
      "Task(env_name='pick-place-v2', data=b'\\x80\\x04\\x95=\\x01\\x00\\x00\\x00\\x00\\x00\\x00}\\x94(\\x8c\\x08rand_vec\\x94\\x8c\\x15numpy.core.multiarray\\x94\\x8c\\x0c_reconstruct\\x94\\x93\\x94\\x8c\\x05numpy\\x94\\x8c\\x07ndarray\\x94\\x93\\x94K\\x00\\x85\\x94C\\x01b\\x94\\x87\\x94R\\x94(K\\x01K\\x06\\x85\\x94h\\x05\\x8c\\x05dtype\\x94\\x93\\x94\\x8c\\x02f8\\x94\\x89\\x88\\x87\\x94R\\x94(K\\x03\\x8c\\x01<\\x94NNNJ\\xff\\xff\\xff\\xffJ\\xff\\xff\\xff\\xffK\\x00t\\x94b\\x89C0z9\\xbb\\x91\\x07\\xfc\\xb5?\\x8a\\xf1\\xbd\\xf0b\\x19\\xe6?\\x00\\x00\\x00@\\xe1z\\x94?;ll\\x0cPn\\xa4\\xbf\\xda,*\\xb0\\x9e\\x7f\\xea?N\\x1f[\\xc9\\xdd\\xfa\\xd1?\\x94t\\x94b\\x8c\\x07env_cls\\x94\\x8c8metaworld.envs.mujoco.sawyer_xyz.v2.sawyer_pick_place_v2\\x94\\x8c\\x14SawyerPickPlaceEnvV2\\x94\\x93\\x94\\x8c\\x14partially_observable\\x94\\x88u.')\n"
     ]
    }
   ],
   "source": [
    "import random\n",
    "task_id = 2\n",
    "task_names = list(ml10.train_classes.keys())\n",
    "# env_name, env_cls = \n",
    "env_name = task_names[task_id]\n",
    "env_cls = ml10.train_classes[env_name]\n",
    "task = random.choice([task for task in ml10.train_tasks if task.env_name==env_name])\n",
    "print(task_names, env_name, env_cls, task, sep = '\\n')\n"
   ]
  },
  {
   "cell_type": "code",
   "execution_count": 20,
   "metadata": {},
   "outputs": [
    {
     "data": {
      "text/plain": [
       "True"
      ]
     },
     "execution_count": 20,
     "metadata": {},
     "output_type": "execute_result"
    }
   ],
   "source": [
    "'ML10' in 'CustomML10-v2'"
   ]
  },
  {
   "cell_type": "code",
   "execution_count": 4,
   "metadata": {},
   "outputs": [],
   "source": [
    "ml10_env = gym.make('ML10-v2')"
   ]
  },
  {
   "cell_type": "code",
   "execution_count": 12,
   "metadata": {},
   "outputs": [],
   "source": [
    "# env = gym.make('ML10-v2')\n",
    "varibad_env = make_env('ML10-v2', 1, 1, 2, tasks = None, add_done_info =True)"
   ]
  },
  {
   "cell_type": "code",
   "execution_count": 13,
   "metadata": {},
   "outputs": [],
   "source": [
    "vbad_ml10 = varibad_env()"
   ]
  },
  {
   "cell_type": "code",
   "execution_count": 14,
   "metadata": {},
   "outputs": [
    {
     "data": {
      "text/plain": [
       "True"
      ]
     },
     "execution_count": 14,
     "metadata": {},
     "output_type": "execute_result"
    }
   ],
   "source": [
    "vbad_ml10.done_mdp"
   ]
  },
  {
   "cell_type": "code",
   "execution_count": 15,
   "metadata": {},
   "outputs": [
    {
     "data": {
      "text/plain": [
       "array([ 0.00615235,  0.6001898 ,  0.19430117,  1.        , -0.03745555,\n",
       "        0.68238707,  0.01987216,  0.        ,  0.        ,  0.        ,\n",
       "        1.        ,  0.        ,  0.        ,  0.        ,  0.        ,\n",
       "        0.        ,  0.        ,  0.        ,  0.00615235,  0.6001898 ,\n",
       "        0.19430117,  1.        , -0.03745555,  0.68238707,  0.01987216,\n",
       "        0.        ,  0.        ,  0.        ,  1.        ,  0.        ,\n",
       "        0.        ,  0.        ,  0.        ,  0.        ,  0.        ,\n",
       "        0.        ,  0.        ,  0.        ,  0.        ,  0.        ])"
      ]
     },
     "execution_count": 15,
     "metadata": {},
     "output_type": "execute_result"
    }
   ],
   "source": [
    "vbad_ml10.reset_mdp()\n"
   ]
  },
  {
   "cell_type": "code",
   "execution_count": 16,
   "metadata": {},
   "outputs": [
    {
     "data": {
      "text/plain": [
       "Box(40,)"
      ]
     },
     "execution_count": 16,
     "metadata": {},
     "output_type": "execute_result"
    }
   ],
   "source": [
    "vbad_ml10.observation_space\n"
   ]
  },
  {
   "cell_type": "code",
   "execution_count": 17,
   "metadata": {},
   "outputs": [
    {
     "data": {
      "text/plain": [
       "2"
      ]
     },
     "execution_count": 17,
     "metadata": {},
     "output_type": "execute_result"
    }
   ],
   "source": [
    "vbad_ml10.episodes_per_task"
   ]
  }
 ],
 "metadata": {
  "kernelspec": {
   "display_name": "varibad",
   "language": "python",
   "name": "python3"
  },
  "language_info": {
   "codemirror_mode": {
    "name": "ipython",
    "version": 3
   },
   "file_extension": ".py",
   "mimetype": "text/x-python",
   "name": "python",
   "nbconvert_exporter": "python",
   "pygments_lexer": "ipython3",
   "version": "3.9.18"
  }
 },
 "nbformat": 4,
 "nbformat_minor": 2
}
