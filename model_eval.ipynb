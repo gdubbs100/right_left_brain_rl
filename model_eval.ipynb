{
 "cells": [
  {
   "cell_type": "code",
   "execution_count": 133,
   "metadata": {},
   "outputs": [],
   "source": [
    "import metaworld\n",
    "import random\n",
    "import torch\n",
    "import torch.nn as nn\n",
    "import torch.nn.functional as F\n",
    "import matplotlib.pyplot as plt\n",
    "import numpy as np\n",
    "\n",
    "# from models import encoder, policy"
   ]
  },
  {
   "cell_type": "code",
   "execution_count": 10,
   "metadata": {},
   "outputs": [],
   "source": [
    "RUN_FOLDER = './logs/logs_ML10-v2/rl2_73__25:10_21:13:08'\n",
    "policy_net = torch.load(RUN_FOLDER + '/models/policy.pt')\n",
    "encoder_net = torch.load(RUN_FOLDER + '/models/encoder.pt')"
   ]
  },
  {
   "cell_type": "code",
   "execution_count": 15,
   "metadata": {},
   "outputs": [],
   "source": [
    "ml1 = metaworld.ML1('pick-place-v2')\n",
    "env = ml1.train_classes['pick-place-v2']()\n",
    "task = random.choice(ml1.train_tasks)\n",
    "env.set_task(task)"
   ]
  },
  {
   "cell_type": "code",
   "execution_count": 62,
   "metadata": {},
   "outputs": [],
   "source": [
    "\n",
    "ml10 = metaworld.ML10() # Construct the benchmark, sampling tasks\n",
    "\n",
    "training_envs = dict()\n",
    "for name, env_cls in ml10.train_classes.items():\n",
    "  env = env_cls()\n",
    "  task = random.choice([task for task in ml10.train_tasks\n",
    "                        if task.env_name == name])\n",
    "  env.set_task(task)\n",
    "  training_envs[name] = env"
   ]
  },
  {
   "cell_type": "code",
   "execution_count": 198,
   "metadata": {},
   "outputs": [
    {
     "name": "stdout",
     "output_type": "stream",
     "text": [
      "SUCCESS!! drawer-close-v2\n",
      "SUCCESS!! drawer-close-v2\n",
      "SUCCESS!! drawer-close-v2\n",
      "SUCCESS!! drawer-close-v2\n",
      "SUCCESS!! drawer-close-v2\n",
      "SUCCESS!! drawer-close-v2\n",
      "SUCCESS!! drawer-close-v2\n",
      "SUCCESS!! drawer-close-v2\n",
      "SUCCESS!! drawer-close-v2\n",
      "SUCCESS!! window-open-v2\n",
      "SUCCESS!! window-open-v2\n",
      "SUCCESS!! window-open-v2\n",
      "SUCCESS!! window-open-v2\n",
      "SUCCESS!! window-open-v2\n",
      "SUCCESS!! window-open-v2\n"
     ]
    }
   ],
   "source": [
    "NUM_EPISODES = 10\n",
    "environments = training_envs # testing_envs\n",
    "episode_log = {env_name:{'episode_len': [],'episode_reward': [], 'successes':[]} for env_name in environments.keys()}\n",
    "\n",
    "device = torch.device(\"cuda:0\" if torch.cuda.is_available() else \"cpu\")\n",
    "\n",
    "for env_name, env in environments.items():\n",
    "\n",
    "    for episode in range(NUM_EPISODES):\n",
    "        obs, _ = env.reset()\n",
    "        # reset encoder to prior\n",
    "        latent_sample, latent_mean, latent_logvar, hidden_state = encoder_net.prior(1)\n",
    "        done = False\n",
    "\n",
    "        episode_reward = 0\n",
    "        episode_steps = 0\n",
    "        success = 0\n",
    "\n",
    "        while not done:\n",
    "        # reset\n",
    "            # get latent for policy\n",
    "            latent_sample = F.relu(latent_sample)\n",
    "            latent_mean = F.relu(latent_mean)\n",
    "            latent_logvar = F.relu(latent_logvar)\n",
    "            latent = torch.cat((latent_mean, latent_logvar), dim=-1).reshape(1, -1)\n",
    "\n",
    "            # if latent.shape[0] == 1:\n",
    "            #     latent = latent.squeeze(0)\n",
    "            # latent\n",
    "\n",
    "            _, act = policy_net.act(obs, latent, None, None)\n",
    "            # print(act)\n",
    "            action = act.cpu().detach().numpy()[0]\n",
    "            # print(action)\n",
    "            next_obs, reward, terminated, truncated, info = env.step(action)\n",
    "            obs = next_obs\n",
    "            done = terminated or truncated\n",
    "            episode_reward += reward\n",
    "            episode_steps += 1\n",
    "            success += info['success']\n",
    "\n",
    "\n",
    "            ### TODO: can you accumulate the history of past rewards, actions and states \n",
    "            ### check how this was done in the evaluate script\n",
    "            latent_sample, latent_mean, latent_logvar, hidden_state = encoder_net(\n",
    "                actions = act.float(),\n",
    "                states = torch.from_numpy(np.append(next_obs, 0)).float()[None,].to(device),\n",
    "                rewards = torch.from_numpy(np.array(reward)).float()[None,None,].to(device),\n",
    "                hidden_state=hidden_state,\n",
    "                return_prior=False\n",
    "            )\n",
    "\n",
    "            if info['success'] > 0:\n",
    "                print(f'SUCCESS!! {env_name}')\n",
    "                done = True\n",
    "        \n",
    "        # record results\n",
    "        episode_log[env_name]['episode_reward'].append(episode_reward)\n",
    "        episode_log[env_name]['episode_len'].append(episode_steps)\n",
    "        episode_log[env_name]['successes'].append(success)\n",
    "\n"
   ]
  },
  {
   "cell_type": "code",
   "execution_count": 199,
   "metadata": {},
   "outputs": [
    {
     "data": {
      "text/html": [
       "<div>\n",
       "<style scoped>\n",
       "    .dataframe tbody tr th:only-of-type {\n",
       "        vertical-align: middle;\n",
       "    }\n",
       "\n",
       "    .dataframe tbody tr th {\n",
       "        vertical-align: top;\n",
       "    }\n",
       "\n",
       "    .dataframe thead th {\n",
       "        text-align: right;\n",
       "    }\n",
       "</style>\n",
       "<table border=\"1\" class=\"dataframe\">\n",
       "  <thead>\n",
       "    <tr style=\"text-align: right;\">\n",
       "      <th></th>\n",
       "      <th>reach-v2</th>\n",
       "      <th>push-v2</th>\n",
       "      <th>pick-place-v2</th>\n",
       "      <th>door-open-v2</th>\n",
       "      <th>drawer-close-v2</th>\n",
       "      <th>button-press-topdown-v2</th>\n",
       "      <th>peg-insert-side-v2</th>\n",
       "      <th>window-open-v2</th>\n",
       "      <th>sweep-v2</th>\n",
       "      <th>basketball-v2</th>\n",
       "    </tr>\n",
       "  </thead>\n",
       "  <tbody>\n",
       "    <tr>\n",
       "      <th>episode_len</th>\n",
       "      <td>[500, 500, 500, 500, 500, 500, 500, 500, 500, ...</td>\n",
       "      <td>[500, 500, 500, 500, 500, 500, 500, 500, 500, ...</td>\n",
       "      <td>[500, 500, 500, 500, 500, 500, 500, 500, 500, ...</td>\n",
       "      <td>[500, 500, 500, 500, 500, 500, 500, 500, 500, ...</td>\n",
       "      <td>[25, 28, 23, 28, 24, 41, 22, 32, 500, 471]</td>\n",
       "      <td>[500, 500, 500, 500, 500, 500, 500, 500, 500, ...</td>\n",
       "      <td>[500, 500, 500, 500, 500, 500, 500, 500, 500, ...</td>\n",
       "      <td>[113, 500, 134, 177, 132, 146, 137, 500, 500, ...</td>\n",
       "      <td>[500, 500, 500, 500, 500, 500, 500, 500, 500, ...</td>\n",
       "      <td>[500, 500, 500, 500, 500, 500, 500, 500, 500, ...</td>\n",
       "    </tr>\n",
       "    <tr>\n",
       "      <th>episode_reward</th>\n",
       "      <td>[1800.9663491901988, 1665.6774443873426, 1496....</td>\n",
       "      <td>[7.548240903225013, 7.448631923875689, 8.54242...</td>\n",
       "      <td>[1.9993370223738811, 1.9191299130974364, 1.807...</td>\n",
       "      <td>[1101.679507796949, 392.3065731962873, 1096.26...</td>\n",
       "      <td>[14.510906408344862, 12.583863574683038, 11.11...</td>\n",
       "      <td>[1018.216874871643, 1055.1797362026566, 678.01...</td>\n",
       "      <td>[2.481631295551131, 2.5364862750388637, 2.4528...</td>\n",
       "      <td>[260.46466626705273, 297.8774126415376, 150.34...</td>\n",
       "      <td>[13.169987453434333, 13.258762981374076, 13.35...</td>\n",
       "      <td>[2.0402135498638887, 1.9735492871846563, 2.049...</td>\n",
       "    </tr>\n",
       "    <tr>\n",
       "      <th>successes</th>\n",
       "      <td>[0.0, 0.0, 0.0, 0.0, 0.0, 0.0, 0.0, 0.0, 0.0, ...</td>\n",
       "      <td>[0.0, 0.0, 0.0, 0.0, 0.0, 0.0, 0.0, 0.0, 0.0, ...</td>\n",
       "      <td>[0.0, 0.0, 0.0, 0.0, 0.0, 0.0, 0.0, 0.0, 0.0, ...</td>\n",
       "      <td>[0.0, 0.0, 0.0, 0.0, 0.0, 0.0, 0.0, 0.0, 0.0, ...</td>\n",
       "      <td>[1.0, 1.0, 1.0, 1.0, 1.0, 1.0, 1.0, 1.0, 0.0, ...</td>\n",
       "      <td>[0.0, 0.0, 0.0, 0.0, 0.0, 0.0, 0.0, 0.0, 0.0, ...</td>\n",
       "      <td>[0.0, 0.0, 0.0, 0.0, 0.0, 0.0, 0.0, 0.0, 0.0, ...</td>\n",
       "      <td>[1.0, 0.0, 1.0, 1.0, 1.0, 1.0, 1.0, 0.0, 0.0, ...</td>\n",
       "      <td>[0.0, 0.0, 0.0, 0.0, 0.0, 0.0, 0.0, 0.0, 0.0, ...</td>\n",
       "      <td>[0.0, 0.0, 0.0, 0.0, 0.0, 0.0, 0.0, 0.0, 0.0, ...</td>\n",
       "    </tr>\n",
       "  </tbody>\n",
       "</table>\n",
       "</div>"
      ],
      "text/plain": [
       "                                                         reach-v2  \\\n",
       "episode_len     [500, 500, 500, 500, 500, 500, 500, 500, 500, ...   \n",
       "episode_reward  [1800.9663491901988, 1665.6774443873426, 1496....   \n",
       "successes       [0.0, 0.0, 0.0, 0.0, 0.0, 0.0, 0.0, 0.0, 0.0, ...   \n",
       "\n",
       "                                                          push-v2  \\\n",
       "episode_len     [500, 500, 500, 500, 500, 500, 500, 500, 500, ...   \n",
       "episode_reward  [7.548240903225013, 7.448631923875689, 8.54242...   \n",
       "successes       [0.0, 0.0, 0.0, 0.0, 0.0, 0.0, 0.0, 0.0, 0.0, ...   \n",
       "\n",
       "                                                    pick-place-v2  \\\n",
       "episode_len     [500, 500, 500, 500, 500, 500, 500, 500, 500, ...   \n",
       "episode_reward  [1.9993370223738811, 1.9191299130974364, 1.807...   \n",
       "successes       [0.0, 0.0, 0.0, 0.0, 0.0, 0.0, 0.0, 0.0, 0.0, ...   \n",
       "\n",
       "                                                     door-open-v2  \\\n",
       "episode_len     [500, 500, 500, 500, 500, 500, 500, 500, 500, ...   \n",
       "episode_reward  [1101.679507796949, 392.3065731962873, 1096.26...   \n",
       "successes       [0.0, 0.0, 0.0, 0.0, 0.0, 0.0, 0.0, 0.0, 0.0, ...   \n",
       "\n",
       "                                                  drawer-close-v2  \\\n",
       "episode_len            [25, 28, 23, 28, 24, 41, 22, 32, 500, 471]   \n",
       "episode_reward  [14.510906408344862, 12.583863574683038, 11.11...   \n",
       "successes       [1.0, 1.0, 1.0, 1.0, 1.0, 1.0, 1.0, 1.0, 0.0, ...   \n",
       "\n",
       "                                          button-press-topdown-v2  \\\n",
       "episode_len     [500, 500, 500, 500, 500, 500, 500, 500, 500, ...   \n",
       "episode_reward  [1018.216874871643, 1055.1797362026566, 678.01...   \n",
       "successes       [0.0, 0.0, 0.0, 0.0, 0.0, 0.0, 0.0, 0.0, 0.0, ...   \n",
       "\n",
       "                                               peg-insert-side-v2  \\\n",
       "episode_len     [500, 500, 500, 500, 500, 500, 500, 500, 500, ...   \n",
       "episode_reward  [2.481631295551131, 2.5364862750388637, 2.4528...   \n",
       "successes       [0.0, 0.0, 0.0, 0.0, 0.0, 0.0, 0.0, 0.0, 0.0, ...   \n",
       "\n",
       "                                                   window-open-v2  \\\n",
       "episode_len     [113, 500, 134, 177, 132, 146, 137, 500, 500, ...   \n",
       "episode_reward  [260.46466626705273, 297.8774126415376, 150.34...   \n",
       "successes       [1.0, 0.0, 1.0, 1.0, 1.0, 1.0, 1.0, 0.0, 0.0, ...   \n",
       "\n",
       "                                                         sweep-v2  \\\n",
       "episode_len     [500, 500, 500, 500, 500, 500, 500, 500, 500, ...   \n",
       "episode_reward  [13.169987453434333, 13.258762981374076, 13.35...   \n",
       "successes       [0.0, 0.0, 0.0, 0.0, 0.0, 0.0, 0.0, 0.0, 0.0, ...   \n",
       "\n",
       "                                                    basketball-v2  \n",
       "episode_len     [500, 500, 500, 500, 500, 500, 500, 500, 500, ...  \n",
       "episode_reward  [2.0402135498638887, 1.9735492871846563, 2.049...  \n",
       "successes       [0.0, 0.0, 0.0, 0.0, 0.0, 0.0, 0.0, 0.0, 0.0, ...  "
      ]
     },
     "execution_count": 199,
     "metadata": {},
     "output_type": "execute_result"
    }
   ],
   "source": [
    "import pandas as pd\n",
    "df = pd.DataFrame(episode_log)\n",
    "df"
   ]
  },
  {
   "cell_type": "code",
   "execution_count": 82,
   "metadata": {},
   "outputs": [
    {
     "data": {
      "text/plain": [
       "'episode_reward'"
      ]
     },
     "execution_count": 82,
     "metadata": {},
     "output_type": "execute_result"
    }
   ],
   "source": [
    "df.index[1]"
   ]
  },
  {
   "cell_type": "code",
   "execution_count": 84,
   "metadata": {},
   "outputs": [
    {
     "data": {
      "text/plain": [
       "[('reach-v2', [500, 500, 500, 500, 500, 500, 500, 500, 500, 500]),\n",
       " ('push-v2', [500, 500, 500, 500, 500, 500, 500, 500, 500, 500]),\n",
       " ('pick-place-v2', [500, 500, 500, 500, 500, 500, 500, 500, 500, 500]),\n",
       " ('door-open-v2', [500, 500, 500, 500, 500, 500, 500, 500, 500, 500]),\n",
       " ('drawer-close-v2', [500, 500, 28, 51, 27, 49, 500, 500, 500, 500]),\n",
       " ('button-press-topdown-v2',\n",
       "  [500, 500, 500, 500, 500, 500, 500, 500, 500, 500]),\n",
       " ('peg-insert-side-v2', [500, 500, 500, 500, 500, 500, 500, 500, 500, 500]),\n",
       " ('window-open-v2', [500, 500, 500, 500, 500, 500, 500, 500, 500, 500]),\n",
       " ('sweep-v2', [500, 500, 500, 500, 500, 500, 500, 500, 500, 500]),\n",
       " ('basketball-v2', [500, 500, 500, 500, 500, 500, 500, 500, 500, 500])]"
      ]
     },
     "execution_count": 84,
     "metadata": {},
     "output_type": "execute_result"
    }
   ],
   "source": [
    "list(zip(df.columns, df.iloc[0]))"
   ]
  },
  {
   "cell_type": "code",
   "execution_count": 89,
   "metadata": {},
   "outputs": [
    {
     "data": {
      "text/plain": [
       "'episode_rewardepisode_rewardepisode_rewardepisode_rewardepisode_rewardepisode_rewardepisode_rewardepisode_rewardepisode_rewardepisode_reward'"
      ]
     },
     "execution_count": 89,
     "metadata": {},
     "output_type": "execute_result"
    }
   ],
   "source": [
    "df.index[1]*10"
   ]
  },
  {
   "cell_type": "code",
   "execution_count": 200,
   "metadata": {},
   "outputs": [],
   "source": [
    "\n",
    "unpacked = pd.concat(\n",
    "    [pd.DataFrame(dict(zip(df.columns,  df.iloc[i])), index=[df.index[i] for _ in range(df.shape[1])]) for i in range(len(df))]\n",
    ").reset_index().melt(id_vars='index')"
   ]
  },
  {
   "cell_type": "code",
   "execution_count": 204,
   "metadata": {},
   "outputs": [
    {
     "data": {
      "text/plain": [
       "<Axes: xlabel='value', ylabel='Count'>"
      ]
     },
     "execution_count": 204,
     "metadata": {},
     "output_type": "execute_result"
    },
    {
     "data": {
      "image/png": "[encoded data removed]",
      "text/plain": [
       "<Figure size 640x480 with 1 Axes>"
      ]
     },
     "metadata": {},
     "output_type": "display_data"
    }
   ],
   "source": [
    "import seaborn as sns\n",
    "\n",
    "sns.histplot(\n",
    "    data = unpacked.query('index==\"episode_reward\"'),\n",
    "    x = 'value',\n",
    "    # y = 'iter',\n",
    "    hue='variable',\n",
    "    alpha = 0.63,\n",
    "    bins = 50\n",
    ")"
   ]
  },
  {
   "cell_type": "code",
   "execution_count": 207,
   "metadata": {},
   "outputs": [
    {
     "data": {
      "text/html": [
       "<div>\n",
       "<style scoped>\n",
       "    .dataframe tbody tr th:only-of-type {\n",
       "        vertical-align: middle;\n",
       "    }\n",
       "\n",
       "    .dataframe tbody tr th {\n",
       "        vertical-align: top;\n",
       "    }\n",
       "\n",
       "    .dataframe thead th {\n",
       "        text-align: right;\n",
       "    }\n",
       "</style>\n",
       "<table border=\"1\" class=\"dataframe\">\n",
       "  <thead>\n",
       "    <tr style=\"text-align: right;\">\n",
       "      <th></th>\n",
       "      <th>index</th>\n",
       "      <th>variable</th>\n",
       "      <th>value</th>\n",
       "    </tr>\n",
       "  </thead>\n",
       "  <tbody>\n",
       "    <tr>\n",
       "      <th>10</th>\n",
       "      <td>episode_reward</td>\n",
       "      <td>reach-v2</td>\n",
       "      <td>1800.966349</td>\n",
       "    </tr>\n",
       "    <tr>\n",
       "      <th>11</th>\n",
       "      <td>episode_reward</td>\n",
       "      <td>reach-v2</td>\n",
       "      <td>1665.677444</td>\n",
       "    </tr>\n",
       "    <tr>\n",
       "      <th>12</th>\n",
       "      <td>episode_reward</td>\n",
       "      <td>reach-v2</td>\n",
       "      <td>1496.570743</td>\n",
       "    </tr>\n",
       "    <tr>\n",
       "      <th>13</th>\n",
       "      <td>episode_reward</td>\n",
       "      <td>reach-v2</td>\n",
       "      <td>1214.961464</td>\n",
       "    </tr>\n",
       "    <tr>\n",
       "      <th>14</th>\n",
       "      <td>episode_reward</td>\n",
       "      <td>reach-v2</td>\n",
       "      <td>2000.677301</td>\n",
       "    </tr>\n",
       "    <tr>\n",
       "      <th>...</th>\n",
       "      <td>...</td>\n",
       "      <td>...</td>\n",
       "      <td>...</td>\n",
       "    </tr>\n",
       "    <tr>\n",
       "      <th>285</th>\n",
       "      <td>episode_reward</td>\n",
       "      <td>basketball-v2</td>\n",
       "      <td>2.017340</td>\n",
       "    </tr>\n",
       "    <tr>\n",
       "      <th>286</th>\n",
       "      <td>episode_reward</td>\n",
       "      <td>basketball-v2</td>\n",
       "      <td>2.032561</td>\n",
       "    </tr>\n",
       "    <tr>\n",
       "      <th>287</th>\n",
       "      <td>episode_reward</td>\n",
       "      <td>basketball-v2</td>\n",
       "      <td>2.035991</td>\n",
       "    </tr>\n",
       "    <tr>\n",
       "      <th>288</th>\n",
       "      <td>episode_reward</td>\n",
       "      <td>basketball-v2</td>\n",
       "      <td>2.082787</td>\n",
       "    </tr>\n",
       "    <tr>\n",
       "      <th>289</th>\n",
       "      <td>episode_reward</td>\n",
       "      <td>basketball-v2</td>\n",
       "      <td>1.927234</td>\n",
       "    </tr>\n",
       "  </tbody>\n",
       "</table>\n",
       "<p>100 rows × 3 columns</p>\n",
       "</div>"
      ],
      "text/plain": [
       "              index       variable        value\n",
       "10   episode_reward       reach-v2  1800.966349\n",
       "11   episode_reward       reach-v2  1665.677444\n",
       "12   episode_reward       reach-v2  1496.570743\n",
       "13   episode_reward       reach-v2  1214.961464\n",
       "14   episode_reward       reach-v2  2000.677301\n",
       "..              ...            ...          ...\n",
       "285  episode_reward  basketball-v2     2.017340\n",
       "286  episode_reward  basketball-v2     2.032561\n",
       "287  episode_reward  basketball-v2     2.035991\n",
       "288  episode_reward  basketball-v2     2.082787\n",
       "289  episode_reward  basketball-v2     1.927234\n",
       "\n",
       "[100 rows x 3 columns]"
      ]
     },
     "execution_count": 207,
     "metadata": {},
     "output_type": "execute_result"
    }
   ],
   "source": [
    "unpacked.query('index==\"episode_reward\"')"
   ]
  },
  {
   "cell_type": "code",
   "execution_count": 70,
   "metadata": {},
   "outputs": [
    {
     "data": {
      "text/plain": [
       "[('reach-v2',\n",
       "  [667.1301443128568,\n",
       "   1057.1948481354677,\n",
       "   687.8670528991827,\n",
       "   718.4167685842915,\n",
       "   698.6488927887088,\n",
       "   922.6711523477588,\n",
       "   931.8354395041831,\n",
       "   949.67222461397,\n",
       "   1174.5043263176171,\n",
       "   806.0440956085325],\n",
       "  [0.0, 0.0, 0.0, 0.0, 0.0, 0.0, 0.0, 0.0, 0.0, 0.0]),\n",
       " ('push-v2',\n",
       "  [7.558540359908726,\n",
       "   7.669564252934451,\n",
       "   7.378728367928656,\n",
       "   7.247409933493489,\n",
       "   6.702880100556234,\n",
       "   7.889638923816483,\n",
       "   7.096033507862574,\n",
       "   7.038036443038129,\n",
       "   8.383475629030148,\n",
       "   6.903279933363616],\n",
       "  [0.0, 0.0, 0.0, 0.0, 0.0, 0.0, 0.0, 0.0, 0.0, 0.0]),\n",
       " ('pick-place-v2',\n",
       "  [5.107230758754558,\n",
       "   4.2586001639766975,\n",
       "   5.045404568109512,\n",
       "   4.0105719899433305,\n",
       "   4.161394564161164,\n",
       "   4.665740379139667,\n",
       "   3.9354686901053806,\n",
       "   3.5521182568597713,\n",
       "   4.527171399566086,\n",
       "   4.21783349163485],\n",
       "  [0.0, 0.0, 0.0, 0.0, 0.0, 0.0, 0.0, 0.0, 0.0, 0.0]),\n",
       " ('door-open-v2',\n",
       "  [559.0440222310818,\n",
       "   543.7618671053145,\n",
       "   313.11369404394446,\n",
       "   343.921087197201,\n",
       "   335.12711294906194,\n",
       "   327.45032206136347,\n",
       "   543.211111596857,\n",
       "   529.8622930318079,\n",
       "   558.7640580420456,\n",
       "   522.6477600947537],\n",
       "  [0.0, 0.0, 0.0, 0.0, 0.0, 0.0, 0.0, 0.0, 0.0, 0.0]),\n",
       " ('drawer-close-v2',\n",
       "  [1.5534354621216862,\n",
       "   5.488061247485057,\n",
       "   16.827496189734653,\n",
       "   12.623126525035179,\n",
       "   17.67526259837702,\n",
       "   15.719670463807475,\n",
       "   2.4344860419694028,\n",
       "   4.648788004030744,\n",
       "   4.028739922182283,\n",
       "   0.9134091271236012],\n",
       "  [0.0, 0.0, 1.0, 1.0, 1.0, 1.0, 0.0, 0.0, 0.0, 0.0]),\n",
       " ('button-press-topdown-v2',\n",
       "  [84.21715759891514,\n",
       "   109.07725770908112,\n",
       "   88.7993424628457,\n",
       "   67.37909210135973,\n",
       "   61.826669922544696,\n",
       "   90.32438487932774,\n",
       "   133.85838325015897,\n",
       "   125.13938390214426,\n",
       "   61.45277235394197,\n",
       "   90.04263903693565],\n",
       "  [0.0, 0.0, 0.0, 0.0, 0.0, 0.0, 0.0, 0.0, 0.0, 0.0]),\n",
       " ('peg-insert-side-v2',\n",
       "  [12.404249221571806,\n",
       "   7.05707088467474,\n",
       "   10.370527028348132,\n",
       "   10.505016484964598,\n",
       "   10.05410048290694,\n",
       "   10.127914793372737,\n",
       "   7.316060677601765,\n",
       "   7.891742217376061,\n",
       "   10.702760905030146,\n",
       "   10.323208132110764],\n",
       "  [0.0, 0.0, 0.0, 0.0, 0.0, 0.0, 0.0, 0.0, 0.0, 0.0]),\n",
       " ('window-open-v2',\n",
       "  [194.35266219708475,\n",
       "   192.77091224354731,\n",
       "   180.66889079103933,\n",
       "   189.00418411676864,\n",
       "   192.85558739405653,\n",
       "   194.01553002139931,\n",
       "   196.48416370721586,\n",
       "   202.59663002659426,\n",
       "   186.1462721691053,\n",
       "   192.17023722677337],\n",
       "  [0.0, 0.0, 0.0, 0.0, 0.0, 0.0, 0.0, 0.0, 0.0, 0.0]),\n",
       " ('sweep-v2',\n",
       "  [24.840807303246674,\n",
       "   23.824871805106067,\n",
       "   28.845875571135217,\n",
       "   24.738151225735937,\n",
       "   31.72749980741547,\n",
       "   28.185189434930248,\n",
       "   26.14654087509862,\n",
       "   26.17117719971594,\n",
       "   174.69432651030814,\n",
       "   21.750814029412272],\n",
       "  [0.0, 0.0, 0.0, 0.0, 0.0, 0.0, 0.0, 0.0, 0.0, 0.0]),\n",
       " ('basketball-v2',\n",
       "  [2.7711310302898555,\n",
       "   2.4485515230655754,\n",
       "   2.9393179431383043,\n",
       "   2.4433307349681552,\n",
       "   2.7974053142619106,\n",
       "   6.456955671150669,\n",
       "   3.1570022312826858,\n",
       "   2.670852484984743,\n",
       "   3.047289056773349,\n",
       "   2.5949934119841687],\n",
       "  [0.0, 0.0, 0.0, 0.0, 0.0, 0.0, 0.0, 0.0, 0.0, 0.0])]"
      ]
     },
     "execution_count": 70,
     "metadata": {},
     "output_type": "execute_result"
    }
   ],
   "source": [
    "[(env_name, episode_log[env_name]['episode_reward'], episode_log[env_name]['successes']) for env_name in environments.keys()]"
   ]
  },
  {
   "cell_type": "code",
   "execution_count": 56,
   "metadata": {},
   "outputs": [
    {
     "data": {
      "text/plain": [
       "(array([1., 1., 3., 2., 0., 0., 1., 0., 1., 1.]),\n",
       " array([2.62942637, 2.76197471, 2.89452305, 3.02707138, 3.15961972,\n",
       "        3.29216806, 3.4247164 , 3.55726473, 3.68981307, 3.82236141,\n",
       "        3.95490974]),\n",
       " <BarContainer object of 10 artists>)"
      ]
     },
     "execution_count": 56,
     "metadata": {},
     "output_type": "execute_result"
    },
    {
     "data": {
      "image/png": "[encoded data removed]",
      "text/plain": [
       "<Figure size 640x480 with 1 Axes>"
      ]
     },
     "metadata": {},
     "output_type": "display_data"
    }
   ],
   "source": [
    "plt.hist(episode_log['episode_reward'])"
   ]
  },
  {
   "cell_type": "code",
   "execution_count": 54,
   "metadata": {},
   "outputs": [
    {
     "data": {
      "text/plain": [
       "(array([3., 0., 3., 2., 0., 0., 0., 0., 1., 1.]),\n",
       " array([2.73508128, 2.80469129, 2.8743013 , 2.94391131, 3.01352133,\n",
       "        3.08313134, 3.15274135, 3.22235137, 3.29196138, 3.36157139,\n",
       "        3.43118141]),\n",
       " <BarContainer object of 10 artists>)"
      ]
     },
     "execution_count": 54,
     "metadata": {},
     "output_type": "execute_result"
    },
    {
     "data": {
      "image/png": "[encoded data removed]",
      "text/plain": [
       "<Figure size 640x480 with 1 Axes>"
      ]
     },
     "metadata": {},
     "output_type": "display_data"
    }
   ],
   "source": [
    "\n",
    "plt.hist(episode_log['episode_reward'])"
   ]
  },
  {
   "cell_type": "code",
   "execution_count": 42,
   "metadata": {},
   "outputs": [
    {
     "data": {
      "text/plain": [
       "(array([ 5.85813967e-03,  6.00190770e-01,  1.93838262e-01,  1.00000000e+00,\n",
       "         3.56150095e-03,  6.57002988e-01,  1.99122858e-02,  2.52285572e-04,\n",
       "         2.36441893e-04, -6.92270859e-09,  9.99999940e-01,  0.00000000e+00,\n",
       "         0.00000000e+00,  0.00000000e+00,  0.00000000e+00,  0.00000000e+00,\n",
       "         0.00000000e+00,  0.00000000e+00,  6.15235164e-03,  6.00189803e-01,\n",
       "         1.94301175e-01,  1.00000000e+00,  3.55250956e-03,  6.57012590e-01,\n",
       "         1.99999996e-02,  0.00000000e+00,  0.00000000e+00,  0.00000000e+00,\n",
       "         1.00000000e+00,  0.00000000e+00,  0.00000000e+00,  0.00000000e+00,\n",
       "         0.00000000e+00,  0.00000000e+00,  0.00000000e+00,  0.00000000e+00,\n",
       "         0.00000000e+00,  0.00000000e+00,  0.00000000e+00]),\n",
       " 0.020261069174293874,\n",
       " False,\n",
       " False,\n",
       " {'success': 0.0,\n",
       "  'near_object': 0.0,\n",
       "  'grasp_success': 0.0,\n",
       "  'grasp_reward': 0.022413716205175134,\n",
       "  'in_place_reward': 0.17420998086761091,\n",
       "  'obj_to_target': 0.18219310390530946,\n",
       "  'unscaled_reward': 0.020261069174293874})"
      ]
     },
     "execution_count": 42,
     "metadata": {},
     "output_type": "execute_result"
    }
   ],
   "source": []
  },
  {
   "cell_type": "code",
   "execution_count": 25,
   "metadata": {},
   "outputs": [
    {
     "name": "stdout",
     "output_type": "stream",
     "text": [
      "torch.Size([1, 1, 128]) torch.Size([1, 1, 128]) torch.Size([1, 1, 128]) torch.Size([1, 1, 128])\n"
     ]
    }
   ],
   "source": [
    "print(latent_sample.size(), latent_mean.size(), latent_logvar.size(), hidden_state.size())"
   ]
  },
  {
   "cell_type": "code",
   "execution_count": 22,
   "metadata": {},
   "outputs": [
    {
     "ename": "TypeError",
     "evalue": "forward() missing 1 required positional argument: 'return_prior'",
     "output_type": "error",
     "traceback": [
      "\u001b[0;31m---------------------------------------------------------------------------\u001b[0m",
      "\u001b[0;31mTypeError\u001b[0m                                 Traceback (most recent call last)",
      "\u001b[1;32m/home/grant/working_repos/varibad/model_eval.ipynb Cell 6\u001b[0m line \u001b[0;36m1\n\u001b[0;32m----> <a href='vscode-notebook-cell://ssh-remote%2Bbox.x.agi.io/home/grant/working_repos/varibad/model_eval.ipynb#W5sdnNjb2RlLXJlbW90ZQ%3D%3D?line=0'>1</a>\u001b[0m encoder_net(obs, \u001b[39m0\u001b[39;49m,\u001b[39m0\u001b[39;49m, \u001b[39mFalse\u001b[39;49;00m)\n",
      "File \u001b[0;32m~/.local/lib/python3.9/site-packages/torch/nn/modules/module.py:727\u001b[0m, in \u001b[0;36mModule._call_impl\u001b[0;34m(self, *input, **kwargs)\u001b[0m\n\u001b[1;32m    725\u001b[0m     result \u001b[39m=\u001b[39m \u001b[39mself\u001b[39m\u001b[39m.\u001b[39m_slow_forward(\u001b[39m*\u001b[39m\u001b[39minput\u001b[39m, \u001b[39m*\u001b[39m\u001b[39m*\u001b[39mkwargs)\n\u001b[1;32m    726\u001b[0m \u001b[39melse\u001b[39;00m:\n\u001b[0;32m--> 727\u001b[0m     result \u001b[39m=\u001b[39m \u001b[39mself\u001b[39;49m\u001b[39m.\u001b[39;49mforward(\u001b[39m*\u001b[39;49m\u001b[39minput\u001b[39;49m, \u001b[39m*\u001b[39;49m\u001b[39m*\u001b[39;49mkwargs)\n\u001b[1;32m    728\u001b[0m \u001b[39mfor\u001b[39;00m hook \u001b[39min\u001b[39;00m itertools\u001b[39m.\u001b[39mchain(\n\u001b[1;32m    729\u001b[0m         _global_forward_hooks\u001b[39m.\u001b[39mvalues(),\n\u001b[1;32m    730\u001b[0m         \u001b[39mself\u001b[39m\u001b[39m.\u001b[39m_forward_hooks\u001b[39m.\u001b[39mvalues()):\n\u001b[1;32m    731\u001b[0m     hook_result \u001b[39m=\u001b[39m hook(\u001b[39mself\u001b[39m, \u001b[39minput\u001b[39m, result)\n",
      "\u001b[0;31mTypeError\u001b[0m: forward() missing 1 required positional argument: 'return_prior'"
     ]
    }
   ],
   "source": [
    "encoder_net(\n",
    "    actions = ,\n",
    "    states = obs,\n",
    "    rewards = rew,\n",
    "    hidden_state = ,\n",
    "    return_prior = True #?\n",
    ")"
   ]
  }
 ],
 "metadata": {
  "kernelspec": {
   "display_name": "varibad",
   "language": "python",
   "name": "python3"
  },
  "language_info": {
   "codemirror_mode": {
    "name": "ipython",
    "version": 3
   },
   "file_extension": ".py",
   "mimetype": "text/x-python",
   "name": "python",
   "nbconvert_exporter": "python",
   "pygments_lexer": "ipython3",
   "version": "3.9.18"
  }
 },
 "nbformat": 4,
 "nbformat_minor": 2
}
