{
 "cells": [
  {
   "cell_type": "markdown",
   "metadata": {},
   "source": [
    "Scratch development for continual learning loop\n",
    "\n",
    "What I want to do:\n",
    "- There is a continual learning env that lets an agent learn on a stream of tasks\n",
    "- At specified intervals, we can evaluate the continual learner on _every_ task in the training set\n",
    "\n",
    "Things to consider:\n",
    "- can I use the ML10 environments in this setting? goals are obscured, what does that mean?\n",
    "- how many steps per env do I want? I think CW uses 1 million? check this, also, with PPO is this enough? (CW uses SAC)\n",
    "- randomisation of task goals - CW seems to have randomisation settings for the benchmark. MT and ML have randomised environments. How should we handle these tasks?"
   ]
  },
  {
   "cell_type": "markdown",
   "metadata": {},
   "source": [
    "### Other thoughts\n",
    "Next step is to integrate the continual environment and evaluation loop into a training loop. We want to use the PPO algorithm provided (or something similar), but provide it with arbitrary policy / value networks (i.e. our own).\n",
    "\n",
    "Testing learning in this way might require setting up some command line 'args' stuff - might be easier to match it with PPO\n",
    "But is this the simplest testing method?\n",
    "\n",
    "Should look at policy storage - how can I use that?\n",
    "\n",
    "Also - continue to look at how to get continual environments to work. Continual world has randomization handlers, success counters etc.\n",
    "\n"
   ]
  },
  {
   "cell_type": "code",
   "execution_count": 1,
   "metadata": {},
   "outputs": [],
   "source": [
    "# import sys\n",
    "# sys.path.append('./algorithms/')\n",
    "import gym\n",
    "import numpy as np\n",
    "import torch\n",
    "import torch.nn as nn\n",
    "import torch.nn.functional as F\n",
    "\n",
    "from copy import deepcopy\n",
    "from typing import Any, Dict, List, Tuple\n",
    "\n",
    "device = torch.device(\"cuda:0\" if torch.cuda.is_available() else \"cpu\")"
   ]
  },
  {
   "cell_type": "code",
   "execution_count": 2,
   "metadata": {},
   "outputs": [],
   "source": [
    "from algorithms.custom_ppo import CustomPPO\n",
    "from models.combined_actor_critic import ActorCritic\n",
    "RUN_FOLDER = './rl2_baseline/rl2_double_baseline'\n",
    "policy_net_agent = torch.load(RUN_FOLDER + '/models/policy.pt', map_location=device)\n",
    "encoder_net_agent = torch.load(RUN_FOLDER + '/models/encoder.pt', map_location=device)\n",
    "actor_critic = ActorCritic(policy_net_agent, encoder_net_agent)\n",
    "\n",
    "# agent = CustomPPO(\n",
    "#                  actor_critic=actor_critic,\n",
    "#                  value_loss_coef=1,\n",
    "#                  entropy_coef=1,\n",
    "#                  policy_optimiser='Adam',\n",
    "#                  lr=0.1,\n",
    "#                  clip_param=0.2,\n",
    "#                  ppo_epoch=5,\n",
    "#                  num_mini_batch=5,\n",
    "#                  max_grad_norm = 0.5,\n",
    "#                  eps=None,\n",
    "#                  use_huber_loss=True,\n",
    "#                  use_clipped_value_loss=True,\n",
    "#                  context_window = None\n",
    "#                  )"
   ]
  },
  {
   "cell_type": "code",
   "execution_count": 117,
   "metadata": {},
   "outputs": [],
   "source": [
    "## create envs\n",
    "from environments.custom_env_utils import prepare_parallel_envs, prepare_base_envs\n",
    "from environments.custom_metaworld_benchmark import ML3\n",
    "num_processes=2\n",
    "raw_envs = prepare_base_envs(\n",
    "    ['push-v2'], benchmark=ML3(), task_set='train', randomization='deterministic')\n",
    "    # task_names, benchmark = MT50, task_set = 'train', randomization=\"random_init_fixed20\"\n",
    "envs = prepare_parallel_envs(\n",
    "    envs = raw_envs,\n",
    "    steps_per_env=500,\n",
    "    num_processes=num_processes,\n",
    "    gamma=0.99,\n",
    "    normalise_rew=True,\n",
    "    device=device,\n",
    "    seed = 73\n",
    ")"
   ]
  },
  {
   "cell_type": "code",
   "execution_count": 118,
   "metadata": {},
   "outputs": [],
   "source": [
    "class dummy_agent1:\n",
    "    def __init__(self, actor_critic):\n",
    "        self.actor_critic = actor_critic\n",
    "\n",
    "    def act(self, state, latent, belief, task, deterministic = False):\n",
    "        return self.actor_critic.act(state, latent, belief, task, deterministic)\n",
    "    \n",
    "    def get_value(self, state, latent, belief, task):\n",
    "        return self.actor_critic.get_value(state, latent, belief, task)\n",
    "    \n",
    "    def get_latent(self, action, state, reward, hidden_state, return_prior = False):\n",
    "        _, latent_mean, latent_logvar, hidden_state = self.actor_critic.encoder(action, state, reward, hidden_state, return_prior = return_prior)\n",
    "        latent = torch.cat((latent_mean.clone(), latent_logvar.clone()), dim = -1).squeeze()\n",
    "        ## assume always add non-linearity to latent\n",
    "        # return F.relu(latent[None,:]), hidden_state\n",
    "        return F.relu(latent), hidden_state\n",
    "    \n",
    "    def get_prior(self, num_processes):\n",
    "        _, latent_mean, latent_logvar, hidden_state = self.actor_critic.encoder.prior(num_processes)\n",
    "        latent = torch.cat((latent_mean.clone(), latent_logvar.clone()), dim=-1).squeeze()\n",
    "        ## assume always add non-linearity to latent\n",
    "        return F.relu(latent), hidden_state\n",
    "\n",
    "class dummy_agent2:\n",
    "    def __init__(self, actor_critic):\n",
    "        self.actor_critic = actor_critic\n",
    "\n",
    "    def act(self, state, latent, belief, task, deterministic = False):\n",
    "        return self.actor_critic.act(state, latent, belief, task, deterministic)\n",
    "    \n",
    "    def get_value(self, state, latent, belief, task):\n",
    "        return self.actor_critic.get_value(state, latent, belief, task)\n",
    "    \n",
    "    def get_latent(self, action, state, reward, hidden_state, return_prior = False):\n",
    "        _, latent_mean, latent_logvar, hidden_state = self.actor_critic.encoder(action, state, reward, hidden_state, return_prior = return_prior)\n",
    "        latent = torch.cat((latent_mean.clone(), latent_logvar.clone()), dim = -1)\n",
    "        ## assume always add non-linearity to latent\n",
    "        return F.relu(latent[None,:]), hidden_state\n",
    "    \n",
    "    def get_prior(self, num_processes):\n",
    "        _, latent_mean, latent_logvar, hidden_state = self.actor_critic.encoder.prior(num_processes)\n",
    "        latent = torch.cat((latent_mean.clone(), latent_logvar.clone()), dim=-1)\n",
    "        ## assume always add non-linearity to latent\n",
    "        return F.relu(latent), hidden_state"
   ]
  },
  {
   "cell_type": "code",
   "execution_count": 119,
   "metadata": {},
   "outputs": [
    {
     "name": "stdout",
     "output_type": "stream",
     "text": [
      "torch.Size([2, 40]) torch.Size([2, 1]) [False False] ({'success': 0.0, 'near_object': 0.0, 'grasp_success': 0.0, 'grasp_reward': 0.01785945696830044, 'in_place_reward': 0.16334190586893652, 'obj_to_target': 0.2035419559095121, 'unscaled_reward': 0.03571891393660088, 'seq_idx': 0, 'env_name': 'push-v2', 'env': '<metaworld.envs.mujoco.sawyer_xyz.v2.sawyer_push_v2.SawyerPushEnvV2 object at 0x0000021AE2F8F2B0>'}, {'success': 0.0, 'near_object': 0.0, 'grasp_success': 0.0, 'grasp_reward': 0.01785945696830044, 'in_place_reward': 0.16334190586893652, 'obj_to_target': 0.2035419559095121, 'unscaled_reward': 0.03571891393660088, 'seq_idx': 0, 'env_name': 'push-v2', 'env': '<metaworld.envs.mujoco.sawyer_xyz.v2.sawyer_push_v2.SawyerPushEnvV2 object at 0x0000020DD986F2B0>'}) torch.Size([2, 4])\n"
     ]
    },
    {
     "ename": "ValueError",
     "evalue": "",
     "output_type": "error",
     "traceback": [
      "\u001b[1;31m---------------------------------------------------------------------------\u001b[0m",
      "\u001b[1;31mValueError\u001b[0m                                Traceback (most recent call last)",
      "Cell \u001b[1;32mIn[119], line 33\u001b[0m\n\u001b[0;32m     31\u001b[0m \u001b[38;5;28;01massert\u001b[39;00m \u001b[38;5;28mall\u001b[39m(done) \u001b[38;5;241m==\u001b[39m \u001b[38;5;28many\u001b[39m(done), \u001b[38;5;124m\"\u001b[39m\u001b[38;5;124mMetaworld envs should all end simultaneously\u001b[39m\u001b[38;5;124m\"\u001b[39m\n\u001b[0;32m     32\u001b[0m \u001b[38;5;28mprint\u001b[39m(next_obs\u001b[38;5;241m.\u001b[39msize(), rew_raw\u001b[38;5;241m.\u001b[39msize(), done, info, action\u001b[38;5;241m.\u001b[39msize())\n\u001b[1;32m---> 33\u001b[0m \u001b[38;5;28;01mraise\u001b[39;00m \u001b[38;5;167;01mValueError\u001b[39;00m\n\u001b[0;32m     35\u001b[0m \u001b[38;5;66;03m# create mask for episode ends\u001b[39;00m\n\u001b[0;32m     36\u001b[0m masks_done \u001b[38;5;241m=\u001b[39m torch\u001b[38;5;241m.\u001b[39mFloatTensor([[\u001b[38;5;241m0.0\u001b[39m] \u001b[38;5;28;01mif\u001b[39;00m _done \u001b[38;5;28;01melse\u001b[39;00m [\u001b[38;5;241m1.0\u001b[39m] \u001b[38;5;28;01mfor\u001b[39;00m _done \u001b[38;5;129;01min\u001b[39;00m done])\u001b[38;5;241m.\u001b[39mto(device)\n",
      "\u001b[1;31mValueError\u001b[0m: "
     ]
    }
   ],
   "source": [
    "RUN_FOLDER = './rl2_baseline/rl2_double_baseline'\n",
    "policy_net_agent = torch.load(RUN_FOLDER + '/models/policy.pt', map_location=device)\n",
    "encoder_net_agent = torch.load(RUN_FOLDER + '/models/encoder.pt', map_location=device)\n",
    "actor_critic = ActorCritic(policy_net_agent, encoder_net_agent)\n",
    "agent = dummy_agent1(actor_critic)\n",
    "eps = 0\n",
    "episode_reward=[]\n",
    "episode_norm_reward=[]\n",
    "\n",
    "# steps limit is parameter for whole continual env\n",
    "while envs.get_env_attr('cur_step') < envs.get_env_attr('steps_limit'):\n",
    "\n",
    "    step = 0\n",
    "    obs = envs.reset() # we reset all at once as metaworld is time limited\n",
    "    current_task = envs.get_env_attr(\"cur_seq_idx\")\n",
    "    episode_reward = []\n",
    "    successes = []\n",
    "    gating_values = []\n",
    "    done = [False for _ in range(num_processes)]\n",
    "\n",
    "    with torch.no_grad():\n",
    "\n",
    "        latent, hidden_state = agent.get_prior(num_processes)\n",
    "        # print(latent.size(), hidden_state.size())\n",
    "\n",
    "    while not all(done):\n",
    "        with torch.no_grad():\n",
    "            value, action = agent.act(None, latent, None, None, deterministic=True)\n",
    "\n",
    "        next_obs, (rew_raw, rew_normalised), done, info = envs.step(action.squeeze(0))\n",
    "        assert all(done) == any(done), \"Metaworld envs should all end simultaneously\"\n",
    "        print(next_obs.size(), rew_raw.size(), done, info, action.size())\n",
    "        raise ValueError\n",
    "\n",
    "        # create mask for episode ends\n",
    "        masks_done = torch.FloatTensor([[0.0] if _done else [1.0] for _done in done]).to(device)\n",
    "\n",
    "        ## combine all rewards\n",
    "        episode_reward.append(rew_raw)\n",
    "        episode_norm_reward.append(rew_normalised)\n",
    "        # if we succeed at all then the task is successful\n",
    "        successes.append(torch.tensor([i['success'] for i in info]))\n",
    "\n",
    "        latent, hidden_state = agent.get_latent(\n",
    "            action, next_obs, rew_raw, hidden_state, return_prior = False\n",
    "        )\n",
    "        # _, mu, logvar, hidden_state = (\n",
    "        #     agent\n",
    "        #     .actor_critic\n",
    "        #     .encoder(action, next_obs, rew_raw, hidden_state, return_prior=False)\n",
    "        # )\n",
    "        # latent = F.relu(torch.cat((mu, logvar), dim = -1).squeeze())\n",
    "            \n",
    "\n",
    "        obs = next_obs\n",
    "\n",
    "        step += 1\n",
    "    eps+=1\n",
    "envs.close()"
   ]
  },
  {
   "cell_type": "code",
   "execution_count": 114,
   "metadata": {},
   "outputs": [
    {
     "data": {
      "text/plain": [
       "tensor(0.0368)"
      ]
     },
     "execution_count": 114,
     "metadata": {},
     "output_type": "execute_result"
    }
   ],
   "source": [
    "torch.stack(episode_reward).mean()"
   ]
  },
  {
   "cell_type": "code",
   "execution_count": 115,
   "metadata": {},
   "outputs": [
    {
     "data": {
      "text/plain": [
       "tensor(0.)"
      ]
     },
     "execution_count": 115,
     "metadata": {},
     "output_type": "execute_result"
    }
   ],
   "source": [
    "torch.stack(successes).mean()"
   ]
  },
  {
   "cell_type": "code",
   "execution_count": 25,
   "metadata": {},
   "outputs": [],
   "source": [
    "actions = action.reshape((-1, *action.shape[-2:]))\n",
    "states = obs.reshape((-1, *obs.shape[-2:]))\n",
    "rewards = rew_raw.reshape((-1, *rew_raw.shape[-2:]))\n",
    "if hidden_state is not None:\n",
    "    # if the sequence_len is one, this will add a dimension at dim 0 (otherwise will be the same)\n",
    "    hidden_state = hidden_state.reshape((-1, *hidden_state.shape[-2:]))\n"
   ]
  },
  {
   "cell_type": "code",
   "execution_count": 26,
   "metadata": {},
   "outputs": [
    {
     "data": {
      "text/plain": [
       "torch.Size([1, 5, 4])"
      ]
     },
     "execution_count": 26,
     "metadata": {},
     "output_type": "execute_result"
    }
   ],
   "source": [
    "actions.size()"
   ]
  },
  {
   "cell_type": "code",
   "execution_count": 28,
   "metadata": {},
   "outputs": [
    {
     "data": {
      "text/plain": [
       "torch.Size([1, 5, 40])"
      ]
     },
     "execution_count": 28,
     "metadata": {},
     "output_type": "execute_result"
    }
   ],
   "source": [
    "states.size()"
   ]
  },
  {
   "cell_type": "code",
   "execution_count": 27,
   "metadata": {},
   "outputs": [
    {
     "data": {
      "text/plain": [
       "torch.Size([1, 5, 128])"
      ]
     },
     "execution_count": 27,
     "metadata": {},
     "output_type": "execute_result"
    }
   ],
   "source": [
    "hidden_state.size()"
   ]
  },
  {
   "cell_type": "code",
   "execution_count": 28,
   "metadata": {},
   "outputs": [
    {
     "ename": "NameError",
     "evalue": "name 'rewards' is not defined",
     "output_type": "error",
     "traceback": [
      "\u001b[1;31m---------------------------------------------------------------------------\u001b[0m",
      "\u001b[1;31mNameError\u001b[0m                                 Traceback (most recent call last)",
      "Cell \u001b[1;32mIn[28], line 1\u001b[0m\n\u001b[1;32m----> 1\u001b[0m \u001b[43mrewards\u001b[49m\u001b[38;5;241m.\u001b[39msize()\n",
      "\u001b[1;31mNameError\u001b[0m: name 'rewards' is not defined"
     ]
    }
   ],
   "source": [
    "rewards.size()"
   ]
  },
  {
   "cell_type": "code",
   "execution_count": 105,
   "metadata": {},
   "outputs": [],
   "source": [
    "import random\n",
    "## try creating a base env\n",
    "env_name='pick-place-v2'\n",
    "ml3 = ML3()\n",
    "envs = ml3.test_classes[env_name]()\n",
    "task = random.choice([task for task in ml3.test_tasks if task.env_name==env_name])\n",
    "envs.set_task(task)"
   ]
  },
  {
   "cell_type": "code",
   "execution_count": 135,
   "metadata": {},
   "outputs": [
    {
     "data": {
      "text/plain": [
       "[Task(env_name='pick-place-v2', data=b'\\x80\\x04\\x95=\\x01\\x00\\x00\\x00\\x00\\x00\\x00}\\x94(\\x8c\\x08rand_vec\\x94\\x8c\\x15numpy.core.multiarray\\x94\\x8c\\x0c_reconstruct\\x94\\x93\\x94\\x8c\\x05numpy\\x94\\x8c\\x07ndarray\\x94\\x93\\x94K\\x00\\x85\\x94C\\x01b\\x94\\x87\\x94R\\x94(K\\x01K\\x06\\x85\\x94h\\x05\\x8c\\x05dtype\\x94\\x93\\x94\\x8c\\x02f8\\x94\\x89\\x88\\x87\\x94R\\x94(K\\x03\\x8c\\x01<\\x94NNNJ\\xff\\xff\\xff\\xffJ\\xff\\xff\\xff\\xffK\\x00t\\x94b\\x89C0LG[\\xb76\\x84\\xb9?k\\xd6\\x9c\\xda;\\x93\\xe4?\\x00\\x00\\x00@\\xe1z\\x94?P5v\\xf2\\xcaF\\xa3?\\x0c\\xd9\\x98i+\\xb0\\xe9?\\x92r\\xe0<\\xe6\\xde\\xca?\\x94t\\x94b\\x8c\\x07env_cls\\x94\\x8c8metaworld.envs.mujoco.sawyer_xyz.v2.sawyer_pick_place_v2\\x94\\x8c\\x14SawyerPickPlaceEnvV2\\x94\\x93\\x94\\x8c\\x14partially_observable\\x94\\x89u.'),\n",
       " Task(env_name='pick-place-v2', data=b'\\x80\\x04\\x95=\\x01\\x00\\x00\\x00\\x00\\x00\\x00}\\x94(\\x8c\\x08rand_vec\\x94\\x8c\\x15numpy.core.multiarray\\x94\\x8c\\x0c_reconstruct\\x94\\x93\\x94\\x8c\\x05numpy\\x94\\x8c\\x07ndarray\\x94\\x93\\x94K\\x00\\x85\\x94C\\x01b\\x94\\x87\\x94R\\x94(K\\x01K\\x06\\x85\\x94h\\x05\\x8c\\x05dtype\\x94\\x93\\x94\\x8c\\x02f8\\x94\\x89\\x88\\x87\\x94R\\x94(K\\x03\\x8c\\x01<\\x94NNNJ\\xff\\xff\\xff\\xffJ\\xff\\xff\\xff\\xffK\\x00t\\x94b\\x89C0p\\xaa\\xde\\xce\\xc1\\xb0r?i>s\\xaa\\x8f\\xb9\\xe5?\\x00\\x00\\x00@\\xe1z\\x94?\\xcce\\xf9^DR\\xb9?\\xe4\\xa9\\x1a\\xb6\\xe8\\xe0\\xea?\\x9e\\xc0\\x99\\x93\\xaeo\\xd1?\\x94t\\x94b\\x8c\\x07env_cls\\x94\\x8c8metaworld.envs.mujoco.sawyer_xyz.v2.sawyer_pick_place_v2\\x94\\x8c\\x14SawyerPickPlaceEnvV2\\x94\\x93\\x94\\x8c\\x14partially_observable\\x94\\x89u.'),\n",
       " Task(env_name='pick-place-v2', data=b'\\x80\\x04\\x95=\\x01\\x00\\x00\\x00\\x00\\x00\\x00}\\x94(\\x8c\\x08rand_vec\\x94\\x8c\\x15numpy.core.multiarray\\x94\\x8c\\x0c_reconstruct\\x94\\x93\\x94\\x8c\\x05numpy\\x94\\x8c\\x07ndarray\\x94\\x93\\x94K\\x00\\x85\\x94C\\x01b\\x94\\x87\\x94R\\x94(K\\x01K\\x06\\x85\\x94h\\x05\\x8c\\x05dtype\\x94\\x93\\x94\\x8c\\x02f8\\x94\\x89\\x88\\x87\\x94R\\x94(K\\x03\\x8c\\x01<\\x94NNNJ\\xff\\xff\\xff\\xffJ\\xff\\xff\\xff\\xffK\\x00t\\x94b\\x89C0\\\\@\\xa2\\x11))\\x94\\xbf8Q\\xad\\xc7\\xf9\\x94\\xe3?\\x00\\x00\\x00@\\xe1z\\x94?\\xe5\\xa4\\xfd\\xa0\\x16\\xb6\\xb4\\xbf\\xaam=\\x0e\\xfe\\x17\\xea?\\xc4d\\xdc\\x8bn}\\xd1?\\x94t\\x94b\\x8c\\x07env_cls\\x94\\x8c8metaworld.envs.mujoco.sawyer_xyz.v2.sawyer_pick_place_v2\\x94\\x8c\\x14SawyerPickPlaceEnvV2\\x94\\x93\\x94\\x8c\\x14partially_observable\\x94\\x89u.'),\n",
       " Task(env_name='pick-place-v2', data=b'\\x80\\x04\\x95=\\x01\\x00\\x00\\x00\\x00\\x00\\x00}\\x94(\\x8c\\x08rand_vec\\x94\\x8c\\x15numpy.core.multiarray\\x94\\x8c\\x0c_reconstruct\\x94\\x93\\x94\\x8c\\x05numpy\\x94\\x8c\\x07ndarray\\x94\\x93\\x94K\\x00\\x85\\x94C\\x01b\\x94\\x87\\x94R\\x94(K\\x01K\\x06\\x85\\x94h\\x05\\x8c\\x05dtype\\x94\\x93\\x94\\x8c\\x02f8\\x94\\x89\\x88\\x87\\x94R\\x94(K\\x03\\x8c\\x01<\\x94NNNJ\\xff\\xff\\xff\\xffJ\\xff\\xff\\xff\\xffK\\x00t\\x94b\\x89C0B\\x1ad\\xd9$j\\xb2\\xbf\\xbe\\xaa\\xb3\\x1b\\x11\\xe6\\xe5?\\x00\\x00\\x00@\\xe1z\\x94?\\xd8\\x04\\\\\\x88\\x93\\x9f\\xac?b?\\xf9 \\xb9\\xb9\\xe9?\\x96\\xc2T\\xb5\\xf1\\xb9\\xc6?\\x94t\\x94b\\x8c\\x07env_cls\\x94\\x8c8metaworld.envs.mujoco.sawyer_xyz.v2.sawyer_pick_place_v2\\x94\\x8c\\x14SawyerPickPlaceEnvV2\\x94\\x93\\x94\\x8c\\x14partially_observable\\x94\\x89u.'),\n",
       " Task(env_name='pick-place-v2', data=b'\\x80\\x04\\x95=\\x01\\x00\\x00\\x00\\x00\\x00\\x00}\\x94(\\x8c\\x08rand_vec\\x94\\x8c\\x15numpy.core.multiarray\\x94\\x8c\\x0c_reconstruct\\x94\\x93\\x94\\x8c\\x05numpy\\x94\\x8c\\x07ndarray\\x94\\x93\\x94K\\x00\\x85\\x94C\\x01b\\x94\\x87\\x94R\\x94(K\\x01K\\x06\\x85\\x94h\\x05\\x8c\\x05dtype\\x94\\x93\\x94\\x8c\\x02f8\\x94\\x89\\x88\\x87\\x94R\\x94(K\\x03\\x8c\\x01<\\x94NNNJ\\xff\\xff\\xff\\xffJ\\xff\\xff\\xff\\xffK\\x00t\\x94b\\x89C0\\x00\\x84wfn\\x8f\\xa7?-\\x9e\\x19t\\x89\\xcb\\xe5?\\x00\\x00\\x00@\\xe1z\\x94?\\x88y@)\\xcc\\x95\\x9c?\\xcd\\xf7\\xf1a@\\x8e\\xeb?\\x1a\\xa0W\\x15\\xd5\\xad\\xd0?\\x94t\\x94b\\x8c\\x07env_cls\\x94\\x8c8metaworld.envs.mujoco.sawyer_xyz.v2.sawyer_pick_place_v2\\x94\\x8c\\x14SawyerPickPlaceEnvV2\\x94\\x93\\x94\\x8c\\x14partially_observable\\x94\\x89u.'),\n",
       " Task(env_name='pick-place-v2', data=b'\\x80\\x04\\x95=\\x01\\x00\\x00\\x00\\x00\\x00\\x00}\\x94(\\x8c\\x08rand_vec\\x94\\x8c\\x15numpy.core.multiarray\\x94\\x8c\\x0c_reconstruct\\x94\\x93\\x94\\x8c\\x05numpy\\x94\\x8c\\x07ndarray\\x94\\x93\\x94K\\x00\\x85\\x94C\\x01b\\x94\\x87\\x94R\\x94(K\\x01K\\x06\\x85\\x94h\\x05\\x8c\\x05dtype\\x94\\x93\\x94\\x8c\\x02f8\\x94\\x89\\x88\\x87\\x94R\\x94(K\\x03\\x8c\\x01<\\x94NNNJ\\xff\\xff\\xff\\xffJ\\xff\\xff\\xff\\xffK\\x00t\\x94b\\x89C0,\\xc3tc\\xbae\\x93?1\\x0e\\xed\\xc8\\x10\\xba\\xe5?\\x00\\x00\\x00@\\xe1z\\x94?\\x803Z\\xed\\xc2\\xd2V?\\x12\\x11\\xfbI\\xa2\\xb3\\xea?\\xe3\\x07\\x8d\\xff\\x87\\x0f\\xb5?\\x94t\\x94b\\x8c\\x07env_cls\\x94\\x8c8metaworld.envs.mujoco.sawyer_xyz.v2.sawyer_pick_place_v2\\x94\\x8c\\x14SawyerPickPlaceEnvV2\\x94\\x93\\x94\\x8c\\x14partially_observable\\x94\\x89u.'),\n",
       " Task(env_name='pick-place-v2', data=b'\\x80\\x04\\x95=\\x01\\x00\\x00\\x00\\x00\\x00\\x00}\\x94(\\x8c\\x08rand_vec\\x94\\x8c\\x15numpy.core.multiarray\\x94\\x8c\\x0c_reconstruct\\x94\\x93\\x94\\x8c\\x05numpy\\x94\\x8c\\x07ndarray\\x94\\x93\\x94K\\x00\\x85\\x94C\\x01b\\x94\\x87\\x94R\\x94(K\\x01K\\x06\\x85\\x94h\\x05\\x8c\\x05dtype\\x94\\x93\\x94\\x8c\\x02f8\\x94\\x89\\x88\\x87\\x94R\\x94(K\\x03\\x8c\\x01<\\x94NNNJ\\xff\\xff\\xff\\xffJ\\xff\\xff\\xff\\xffK\\x00t\\x94b\\x89C0\\x884\\xd2\\xb7fw\\x9e?\\x101\\xaf7\\xa1\\xd7\\xe5?\\x00\\x00\\x00@\\xe1z\\x94?\\x19:\\xc8\\x15\\x9ac\\xb5\\xbf\\xf6\\xd1\\x0c^.\\x1f\\xec?.\\xbb\\xdb\\xb5\\x8e\\xeb\\xca?\\x94t\\x94b\\x8c\\x07env_cls\\x94\\x8c8metaworld.envs.mujoco.sawyer_xyz.v2.sawyer_pick_place_v2\\x94\\x8c\\x14SawyerPickPlaceEnvV2\\x94\\x93\\x94\\x8c\\x14partially_observable\\x94\\x89u.'),\n",
       " Task(env_name='pick-place-v2', data=b'\\x80\\x04\\x95=\\x01\\x00\\x00\\x00\\x00\\x00\\x00}\\x94(\\x8c\\x08rand_vec\\x94\\x8c\\x15numpy.core.multiarray\\x94\\x8c\\x0c_reconstruct\\x94\\x93\\x94\\x8c\\x05numpy\\x94\\x8c\\x07ndarray\\x94\\x93\\x94K\\x00\\x85\\x94C\\x01b\\x94\\x87\\x94R\\x94(K\\x01K\\x06\\x85\\x94h\\x05\\x8c\\x05dtype\\x94\\x93\\x94\\x8c\\x02f8\\x94\\x89\\x88\\x87\\x94R\\x94(K\\x03\\x8c\\x01<\\x94NNNJ\\xff\\xff\\xff\\xffJ\\xff\\xff\\xff\\xffK\\x00t\\x94b\\x89C0\\xb4P\\xbe)\\x176\\x9b\\xbf\\x0b _cR\\x86\\xe4?\\x00\\x00\\x00@\\xe1z\\x94?j\\x8b2\\x84\\xdf\\x80\\xb4?(-\\xd2\\xb9Z\\x97\\xea?~\\xf7\\xf9\\xbd\\xcfe\\xab?\\x94t\\x94b\\x8c\\x07env_cls\\x94\\x8c8metaworld.envs.mujoco.sawyer_xyz.v2.sawyer_pick_place_v2\\x94\\x8c\\x14SawyerPickPlaceEnvV2\\x94\\x93\\x94\\x8c\\x14partially_observable\\x94\\x89u.'),\n",
       " Task(env_name='pick-place-v2', data=b'\\x80\\x04\\x95=\\x01\\x00\\x00\\x00\\x00\\x00\\x00}\\x94(\\x8c\\x08rand_vec\\x94\\x8c\\x15numpy.core.multiarray\\x94\\x8c\\x0c_reconstruct\\x94\\x93\\x94\\x8c\\x05numpy\\x94\\x8c\\x07ndarray\\x94\\x93\\x94K\\x00\\x85\\x94C\\x01b\\x94\\x87\\x94R\\x94(K\\x01K\\x06\\x85\\x94h\\x05\\x8c\\x05dtype\\x94\\x93\\x94\\x8c\\x02f8\\x94\\x89\\x88\\x87\\x94R\\x94(K\\x03\\x8c\\x01<\\x94NNNJ\\xff\\xff\\xff\\xffJ\\xff\\xff\\xff\\xffK\\x00t\\x94b\\x89C08\\xed\\xf0\\xef\\x0eX\\x83\\xbf&W\\xcd\\xca\\xady\\xe4?\\x00\\x00\\x00@\\xe1z\\x94?=W\\xa7t\\x1ck\\xb7\\xbfb$,\\x98\\x8b\\xad\\xec?\\xbe\\xa9\\x8b\\xac\\x88\\x7f\\xb7?\\x94t\\x94b\\x8c\\x07env_cls\\x94\\x8c8metaworld.envs.mujoco.sawyer_xyz.v2.sawyer_pick_place_v2\\x94\\x8c\\x14SawyerPickPlaceEnvV2\\x94\\x93\\x94\\x8c\\x14partially_observable\\x94\\x89u.'),\n",
       " Task(env_name='pick-place-v2', data=b'\\x80\\x04\\x95=\\x01\\x00\\x00\\x00\\x00\\x00\\x00}\\x94(\\x8c\\x08rand_vec\\x94\\x8c\\x15numpy.core.multiarray\\x94\\x8c\\x0c_reconstruct\\x94\\x93\\x94\\x8c\\x05numpy\\x94\\x8c\\x07ndarray\\x94\\x93\\x94K\\x00\\x85\\x94C\\x01b\\x94\\x87\\x94R\\x94(K\\x01K\\x06\\x85\\x94h\\x05\\x8c\\x05dtype\\x94\\x93\\x94\\x8c\\x02f8\\x94\\x89\\x88\\x87\\x94R\\x94(K\\x03\\x8c\\x01<\\x94NNNJ\\xff\\xff\\xff\\xffJ\\xff\\xff\\xff\\xffK\\x00t\\x94b\\x89C0\\xc0h\\xa17vs\\x8a\\xbf\\xdb\\xf2\\xa9D\\xe2L\\xe3?\\x00\\x00\\x00@\\xe1z\\x94?$\\x1b[\\x19\\xb3\\xf9\\xa9?\\xdc\\xf7\\x1c1\\x8c\\xd3\\xe9?\\x05!\\x86\\xe0\\x9a\\xe8\\xca?\\x94t\\x94b\\x8c\\x07env_cls\\x94\\x8c8metaworld.envs.mujoco.sawyer_xyz.v2.sawyer_pick_place_v2\\x94\\x8c\\x14SawyerPickPlaceEnvV2\\x94\\x93\\x94\\x8c\\x14partially_observable\\x94\\x89u.'),\n",
       " Task(env_name='pick-place-v2', data=b'\\x80\\x04\\x95=\\x01\\x00\\x00\\x00\\x00\\x00\\x00}\\x94(\\x8c\\x08rand_vec\\x94\\x8c\\x15numpy.core.multiarray\\x94\\x8c\\x0c_reconstruct\\x94\\x93\\x94\\x8c\\x05numpy\\x94\\x8c\\x07ndarray\\x94\\x93\\x94K\\x00\\x85\\x94C\\x01b\\x94\\x87\\x94R\\x94(K\\x01K\\x06\\x85\\x94h\\x05\\x8c\\x05dtype\\x94\\x93\\x94\\x8c\\x02f8\\x94\\x89\\x88\\x87\\x94R\\x94(K\\x03\\x8c\\x01<\\x94NNNJ\\xff\\xff\\xff\\xffJ\\xff\\xff\\xff\\xffK\\x00t\\x94b\\x89C0\\xfcC\\x0f\\xfb\\xd5\\x00\\xad?0\\xbd\\xa3\\xc8\\x9d\\xbb\\xe3?\\x00\\x00\\x00@\\xe1z\\x94?\\xe0\\row;\\xcc~?b\\xe8\\xcbS\\xa5\\x00\\xea?\\xaa!\\x9b\\xc2\\x00\\xe6\\xa9?\\x94t\\x94b\\x8c\\x07env_cls\\x94\\x8c8metaworld.envs.mujoco.sawyer_xyz.v2.sawyer_pick_place_v2\\x94\\x8c\\x14SawyerPickPlaceEnvV2\\x94\\x93\\x94\\x8c\\x14partially_observable\\x94\\x89u.'),\n",
       " Task(env_name='pick-place-v2', data=b'\\x80\\x04\\x95=\\x01\\x00\\x00\\x00\\x00\\x00\\x00}\\x94(\\x8c\\x08rand_vec\\x94\\x8c\\x15numpy.core.multiarray\\x94\\x8c\\x0c_reconstruct\\x94\\x93\\x94\\x8c\\x05numpy\\x94\\x8c\\x07ndarray\\x94\\x93\\x94K\\x00\\x85\\x94C\\x01b\\x94\\x87\\x94R\\x94(K\\x01K\\x06\\x85\\x94h\\x05\\x8c\\x05dtype\\x94\\x93\\x94\\x8c\\x02f8\\x94\\x89\\x88\\x87\\x94R\\x94(K\\x03\\x8c\\x01<\\x94NNNJ\\xff\\xff\\xff\\xffJ\\xff\\xff\\xff\\xffK\\x00t\\x94b\\x89C0\\x00\\x9f\\x1f\\x93P\\x81\\xa7?\\xee\\x82\\x12V\\x89\\xae\\xe3?\\x00\\x00\\x00@\\xe1z\\x94?]\\xd5n\\xe3\\x89]\\xaf\\xbf.\"#\\x07\\xf4h\\xea?\\xa6\\x1b\\xe6b\\xf6\\xd5\\xaa?\\x94t\\x94b\\x8c\\x07env_cls\\x94\\x8c8metaworld.envs.mujoco.sawyer_xyz.v2.sawyer_pick_place_v2\\x94\\x8c\\x14SawyerPickPlaceEnvV2\\x94\\x93\\x94\\x8c\\x14partially_observable\\x94\\x89u.'),\n",
       " Task(env_name='pick-place-v2', data=b'\\x80\\x04\\x95=\\x01\\x00\\x00\\x00\\x00\\x00\\x00}\\x94(\\x8c\\x08rand_vec\\x94\\x8c\\x15numpy.core.multiarray\\x94\\x8c\\x0c_reconstruct\\x94\\x93\\x94\\x8c\\x05numpy\\x94\\x8c\\x07ndarray\\x94\\x93\\x94K\\x00\\x85\\x94C\\x01b\\x94\\x87\\x94R\\x94(K\\x01K\\x06\\x85\\x94h\\x05\\x8c\\x05dtype\\x94\\x93\\x94\\x8c\\x02f8\\x94\\x89\\x88\\x87\\x94R\\x94(K\\x03\\x8c\\x01<\\x94NNNJ\\xff\\xff\\xff\\xffJ\\xff\\xff\\xff\\xffK\\x00t\\x94b\\x89C0\\xe4\\xd4_\\xaf\\xaeV\\xa2\\xbf\\x1ag{\\x0ei\\xcb\\xe4?\\x00\\x00\\x00@\\xe1z\\x94?\\x10B\\x9b\\x19@\\x19\\x8f?\\xbc]=\\x9aTM\\xeb?4{\\xcf\\xfd\\x0f\\xff\\xbf?\\x94t\\x94b\\x8c\\x07env_cls\\x94\\x8c8metaworld.envs.mujoco.sawyer_xyz.v2.sawyer_pick_place_v2\\x94\\x8c\\x14SawyerPickPlaceEnvV2\\x94\\x93\\x94\\x8c\\x14partially_observable\\x94\\x89u.'),\n",
       " Task(env_name='pick-place-v2', data=b'\\x80\\x04\\x95=\\x01\\x00\\x00\\x00\\x00\\x00\\x00}\\x94(\\x8c\\x08rand_vec\\x94\\x8c\\x15numpy.core.multiarray\\x94\\x8c\\x0c_reconstruct\\x94\\x93\\x94\\x8c\\x05numpy\\x94\\x8c\\x07ndarray\\x94\\x93\\x94K\\x00\\x85\\x94C\\x01b\\x94\\x87\\x94R\\x94(K\\x01K\\x06\\x85\\x94h\\x05\\x8c\\x05dtype\\x94\\x93\\x94\\x8c\\x02f8\\x94\\x89\\x88\\x87\\x94R\\x94(K\\x03\\x8c\\x01<\\x94NNNJ\\xff\\xff\\xff\\xffJ\\xff\\xff\\xff\\xffK\\x00t\\x94b\\x89C0\\x90\\xe5\\x86\\xd1?\\xa1\\x9b?\\xef\\x19\\xd3$\\xf6\\xaa\\xe4?\\x00\\x00\\x00@\\xe1z\\x94?\\xf3Rt9\\xb6\\xdc\\xb7\\xbf\\xa5\\xe8\\xa3\\xbf|\\x10\\xeb?j\\x87h\\xd1y\\n\\xd1?\\x94t\\x94b\\x8c\\x07env_cls\\x94\\x8c8metaworld.envs.mujoco.sawyer_xyz.v2.sawyer_pick_place_v2\\x94\\x8c\\x14SawyerPickPlaceEnvV2\\x94\\x93\\x94\\x8c\\x14partially_observable\\x94\\x89u.'),\n",
       " Task(env_name='pick-place-v2', data=b'\\x80\\x04\\x95=\\x01\\x00\\x00\\x00\\x00\\x00\\x00}\\x94(\\x8c\\x08rand_vec\\x94\\x8c\\x15numpy.core.multiarray\\x94\\x8c\\x0c_reconstruct\\x94\\x93\\x94\\x8c\\x05numpy\\x94\\x8c\\x07ndarray\\x94\\x93\\x94K\\x00\\x85\\x94C\\x01b\\x94\\x87\\x94R\\x94(K\\x01K\\x06\\x85\\x94h\\x05\\x8c\\x05dtype\\x94\\x93\\x94\\x8c\\x02f8\\x94\\x89\\x88\\x87\\x94R\\x94(K\\x03\\x8c\\x01<\\x94NNNJ\\xff\\xff\\xff\\xffJ\\xff\\xff\\xff\\xffK\\x00t\\x94b\\x89C0\\x18\\x859\\x984%\\xaa?O@\\xea#\\xb4\\xdd\\xe3?\\x00\\x00\\x00@\\xe1z\\x94?\\x0c@\\xb1\\x06\\x9e\\x14\\x98\\xbf\\xda\\xd9\\x04\\xc0q\\x0f\\xec?\\xbaW\\x83jv\\x03\\xd1?\\x94t\\x94b\\x8c\\x07env_cls\\x94\\x8c8metaworld.envs.mujoco.sawyer_xyz.v2.sawyer_pick_place_v2\\x94\\x8c\\x14SawyerPickPlaceEnvV2\\x94\\x93\\x94\\x8c\\x14partially_observable\\x94\\x89u.'),\n",
       " Task(env_name='pick-place-v2', data=b'\\x80\\x04\\x95=\\x01\\x00\\x00\\x00\\x00\\x00\\x00}\\x94(\\x8c\\x08rand_vec\\x94\\x8c\\x15numpy.core.multiarray\\x94\\x8c\\x0c_reconstruct\\x94\\x93\\x94\\x8c\\x05numpy\\x94\\x8c\\x07ndarray\\x94\\x93\\x94K\\x00\\x85\\x94C\\x01b\\x94\\x87\\x94R\\x94(K\\x01K\\x06\\x85\\x94h\\x05\\x8c\\x05dtype\\x94\\x93\\x94\\x8c\\x02f8\\x94\\x89\\x88\\x87\\x94R\\x94(K\\x03\\x8c\\x01<\\x94NNNJ\\xff\\xff\\xff\\xffJ\\xff\\xff\\xff\\xffK\\x00t\\x94b\\x89C0\\x9c\\x14\\xe9\\x91\\xf3\\xdf\\x9a\\xbf\\xb1\\xa4!#3\\xdd\\xe4?\\x00\\x00\\x00@\\xe1z\\x94?\\xa5\\xb92\\x98\\xad\\xbe\\xb1\\xbfG\\xa2\\xca\\x85\\x86\\xc0\\xea?\\xf8Y,\\xf9\\x17\\xa7\\xbc?\\x94t\\x94b\\x8c\\x07env_cls\\x94\\x8c8metaworld.envs.mujoco.sawyer_xyz.v2.sawyer_pick_place_v2\\x94\\x8c\\x14SawyerPickPlaceEnvV2\\x94\\x93\\x94\\x8c\\x14partially_observable\\x94\\x89u.'),\n",
       " Task(env_name='pick-place-v2', data=b'\\x80\\x04\\x95=\\x01\\x00\\x00\\x00\\x00\\x00\\x00}\\x94(\\x8c\\x08rand_vec\\x94\\x8c\\x15numpy.core.multiarray\\x94\\x8c\\x0c_reconstruct\\x94\\x93\\x94\\x8c\\x05numpy\\x94\\x8c\\x07ndarray\\x94\\x93\\x94K\\x00\\x85\\x94C\\x01b\\x94\\x87\\x94R\\x94(K\\x01K\\x06\\x85\\x94h\\x05\\x8c\\x05dtype\\x94\\x93\\x94\\x8c\\x02f8\\x94\\x89\\x88\\x87\\x94R\\x94(K\\x03\\x8c\\x01<\\x94NNNJ\\xff\\xff\\xff\\xffJ\\xff\\xff\\xff\\xffK\\x00t\\x94b\\x89C0\\x98w%\\xa6@\\xd9\\xb8\\xbfg\\x8b\\x91=\\x935\\xe6?\\x00\\x00\\x00@\\xe1z\\x94?l\\xb6\\xeaE\\xc7\\xff\\xb8?\\x19\\x12\\x9d\\xf9\\x9a\"\\xea?\\x15\\xb0\\x15`\\x84\\xed\\xb1?\\x94t\\x94b\\x8c\\x07env_cls\\x94\\x8c8metaworld.envs.mujoco.sawyer_xyz.v2.sawyer_pick_place_v2\\x94\\x8c\\x14SawyerPickPlaceEnvV2\\x94\\x93\\x94\\x8c\\x14partially_observable\\x94\\x89u.'),\n",
       " Task(env_name='pick-place-v2', data=b'\\x80\\x04\\x95=\\x01\\x00\\x00\\x00\\x00\\x00\\x00}\\x94(\\x8c\\x08rand_vec\\x94\\x8c\\x15numpy.core.multiarray\\x94\\x8c\\x0c_reconstruct\\x94\\x93\\x94\\x8c\\x05numpy\\x94\\x8c\\x07ndarray\\x94\\x93\\x94K\\x00\\x85\\x94C\\x01b\\x94\\x87\\x94R\\x94(K\\x01K\\x06\\x85\\x94h\\x05\\x8c\\x05dtype\\x94\\x93\\x94\\x8c\\x02f8\\x94\\x89\\x88\\x87\\x94R\\x94(K\\x03\\x8c\\x01<\\x94NNNJ\\xff\\xff\\xff\\xffJ\\xff\\xff\\xff\\xffK\\x00t\\x94b\\x89C0\\x88Hr]<\\xbb\\xaf?eG\\x82\\xaa|W\\xe3?\\x00\\x00\\x00@\\xe1z\\x94?\\xc0x\\xc2\\x19<\\xa6\\xb3?\\xb9\\xa1\\xc8\\xab\\xa4\\xf0\\xea?\\x85u\\x1a\\tC\\x08\\xc4?\\x94t\\x94b\\x8c\\x07env_cls\\x94\\x8c8metaworld.envs.mujoco.sawyer_xyz.v2.sawyer_pick_place_v2\\x94\\x8c\\x14SawyerPickPlaceEnvV2\\x94\\x93\\x94\\x8c\\x14partially_observable\\x94\\x89u.'),\n",
       " Task(env_name='pick-place-v2', data=b'\\x80\\x04\\x95=\\x01\\x00\\x00\\x00\\x00\\x00\\x00}\\x94(\\x8c\\x08rand_vec\\x94\\x8c\\x15numpy.core.multiarray\\x94\\x8c\\x0c_reconstruct\\x94\\x93\\x94\\x8c\\x05numpy\\x94\\x8c\\x07ndarray\\x94\\x93\\x94K\\x00\\x85\\x94C\\x01b\\x94\\x87\\x94R\\x94(K\\x01K\\x06\\x85\\x94h\\x05\\x8c\\x05dtype\\x94\\x93\\x94\\x8c\\x02f8\\x94\\x89\\x88\\x87\\x94R\\x94(K\\x03\\x8c\\x01<\\x94NNNJ\\xff\\xff\\xff\\xffJ\\xff\\xff\\xff\\xffK\\x00t\\x94b\\x89C0\\x940Z:\\x12\\x9f\\xa7\\xbfj\\xa4\\tB2\\xb6\\xe4?\\x00\\x00\\x00@\\xe1z\\x94?\\t\\x14\\x19rK\\x85\\xb9\\xbf\\xf3\\xcf;\\xd2\\xd3a\\xeb?\\xd3\\xce\\xb0\\xa9P\\xec\\xcb?\\x94t\\x94b\\x8c\\x07env_cls\\x94\\x8c8metaworld.envs.mujoco.sawyer_xyz.v2.sawyer_pick_place_v2\\x94\\x8c\\x14SawyerPickPlaceEnvV2\\x94\\x93\\x94\\x8c\\x14partially_observable\\x94\\x89u.'),\n",
       " Task(env_name='pick-place-v2', data=b'\\x80\\x04\\x95=\\x01\\x00\\x00\\x00\\x00\\x00\\x00}\\x94(\\x8c\\x08rand_vec\\x94\\x8c\\x15numpy.core.multiarray\\x94\\x8c\\x0c_reconstruct\\x94\\x93\\x94\\x8c\\x05numpy\\x94\\x8c\\x07ndarray\\x94\\x93\\x94K\\x00\\x85\\x94C\\x01b\\x94\\x87\\x94R\\x94(K\\x01K\\x06\\x85\\x94h\\x05\\x8c\\x05dtype\\x94\\x93\\x94\\x8c\\x02f8\\x94\\x89\\x88\\x87\\x94R\\x94(K\\x03\\x8c\\x01<\\x94NNNJ\\xff\\xff\\xff\\xffJ\\xff\\xff\\xff\\xffK\\x00t\\x94b\\x89C0z4g\\x16\\n_\\xad\\xbf\\xe5\\xc6x\\x15\\x12\\xf3\\xe3?\\x00\\x00\\x00@\\xe1z\\x94?\\xcc\\xa9\\xf5?!\\x0c\\xa6?\\xb2\\x81-Z4c\\xec?M5\\xe6\\x14!\\t\\xc9?\\x94t\\x94b\\x8c\\x07env_cls\\x94\\x8c8metaworld.envs.mujoco.sawyer_xyz.v2.sawyer_pick_place_v2\\x94\\x8c\\x14SawyerPickPlaceEnvV2\\x94\\x93\\x94\\x8c\\x14partially_observable\\x94\\x89u.'),\n",
       " Task(env_name='pick-place-v2', data=b\"\\x80\\x04\\x95=\\x01\\x00\\x00\\x00\\x00\\x00\\x00}\\x94(\\x8c\\x08rand_vec\\x94\\x8c\\x15numpy.core.multiarray\\x94\\x8c\\x0c_reconstruct\\x94\\x93\\x94\\x8c\\x05numpy\\x94\\x8c\\x07ndarray\\x94\\x93\\x94K\\x00\\x85\\x94C\\x01b\\x94\\x87\\x94R\\x94(K\\x01K\\x06\\x85\\x94h\\x05\\x8c\\x05dtype\\x94\\x93\\x94\\x8c\\x02f8\\x94\\x89\\x88\\x87\\x94R\\x94(K\\x03\\x8c\\x01<\\x94NNNJ\\xff\\xff\\xff\\xffJ\\xff\\xff\\xff\\xffK\\x00t\\x94b\\x89C0\\xe0\\x94\\x0b\\xdd\\x81\\xa7\\x9d?J\\xd7\\xb8\\x85\\x8c<\\xe3?\\x00\\x00\\x00@\\xe1z\\x94?\\xc0d\\xce\\x97m\\n\\x90\\xbfB\\xa8\\x04\\xc0\\xd1\\xdc\\xeb?'\\x937\\xe8Z\\x1c\\xc8?\\x94t\\x94b\\x8c\\x07env_cls\\x94\\x8c8metaworld.envs.mujoco.sawyer_xyz.v2.sawyer_pick_place_v2\\x94\\x8c\\x14SawyerPickPlaceEnvV2\\x94\\x93\\x94\\x8c\\x14partially_observable\\x94\\x89u.\"),\n",
       " Task(env_name='pick-place-v2', data=b\"\\x80\\x04\\x95=\\x01\\x00\\x00\\x00\\x00\\x00\\x00}\\x94(\\x8c\\x08rand_vec\\x94\\x8c\\x15numpy.core.multiarray\\x94\\x8c\\x0c_reconstruct\\x94\\x93\\x94\\x8c\\x05numpy\\x94\\x8c\\x07ndarray\\x94\\x93\\x94K\\x00\\x85\\x94C\\x01b\\x94\\x87\\x94R\\x94(K\\x01K\\x06\\x85\\x94h\\x05\\x8c\\x05dtype\\x94\\x93\\x94\\x8c\\x02f8\\x94\\x89\\x88\\x87\\x94R\\x94(K\\x03\\x8c\\x01<\\x94NNNJ\\xff\\xff\\xff\\xffJ\\xff\\xff\\xff\\xffK\\x00t\\x94b\\x89C0\\x10B\\x83\\xab\\x13\\x1a\\xb3\\xbf$7\\xb5\\xa10\\xae\\xe5?\\x00\\x00\\x00@\\xe1z\\x94?:4&\\x027\\x83\\xb3?\\xdbr4\\xeb'\\x13\\xeb?\\x14\\x0c8)\\xd3\\xc2\\xd0?\\x94t\\x94b\\x8c\\x07env_cls\\x94\\x8c8metaworld.envs.mujoco.sawyer_xyz.v2.sawyer_pick_place_v2\\x94\\x8c\\x14SawyerPickPlaceEnvV2\\x94\\x93\\x94\\x8c\\x14partially_observable\\x94\\x89u.\"),\n",
       " Task(env_name='pick-place-v2', data=b'\\x80\\x04\\x95=\\x01\\x00\\x00\\x00\\x00\\x00\\x00}\\x94(\\x8c\\x08rand_vec\\x94\\x8c\\x15numpy.core.multiarray\\x94\\x8c\\x0c_reconstruct\\x94\\x93\\x94\\x8c\\x05numpy\\x94\\x8c\\x07ndarray\\x94\\x93\\x94K\\x00\\x85\\x94C\\x01b\\x94\\x87\\x94R\\x94(K\\x01K\\x06\\x85\\x94h\\x05\\x8c\\x05dtype\\x94\\x93\\x94\\x8c\\x02f8\\x94\\x89\\x88\\x87\\x94R\\x94(K\\x03\\x8c\\x01<\\x94NNNJ\\xff\\xff\\xff\\xffJ\\xff\\xff\\xff\\xffK\\x00t\\x94b\\x89C0Vv}\\xbc\\x01\\xac\\xb2\\xbf\\xf7;\\xc1-6~\\xe5?\\x00\\x00\\x00@\\xe1z\\x94?\\x8a\\xb8\\x99\\x13\\x13\\xfe\\xb8\\xbfz\\x1a\\x19\\xd8\\xd7\\xc2\\xeb?8\\x14\\xfdHl\\xb1\\xbb?\\x94t\\x94b\\x8c\\x07env_cls\\x94\\x8c8metaworld.envs.mujoco.sawyer_xyz.v2.sawyer_pick_place_v2\\x94\\x8c\\x14SawyerPickPlaceEnvV2\\x94\\x93\\x94\\x8c\\x14partially_observable\\x94\\x89u.'),\n",
       " Task(env_name='pick-place-v2', data=b'\\x80\\x04\\x95=\\x01\\x00\\x00\\x00\\x00\\x00\\x00}\\x94(\\x8c\\x08rand_vec\\x94\\x8c\\x15numpy.core.multiarray\\x94\\x8c\\x0c_reconstruct\\x94\\x93\\x94\\x8c\\x05numpy\\x94\\x8c\\x07ndarray\\x94\\x93\\x94K\\x00\\x85\\x94C\\x01b\\x94\\x87\\x94R\\x94(K\\x01K\\x06\\x85\\x94h\\x05\\x8c\\x05dtype\\x94\\x93\\x94\\x8c\\x02f8\\x94\\x89\\x88\\x87\\x94R\\x94(K\\x03\\x8c\\x01<\\x94NNNJ\\xff\\xff\\xff\\xffJ\\xff\\xff\\xff\\xffK\\x00t\\x94b\\x89C0v\\x93\\x83\\x00\\xdc\\xc3\\xa1\\xbf0\\xecs\\xde\\\\F\\xe6?\\x00\\x00\\x00@\\xe1z\\x94?f\\xd9\\xb9P\\x0b\\xa3\\xb3\\xbf\\xf7[\\x8a\\xe5\\xbcM\\xec?^\\xf6h,2\\x92\\xc4?\\x94t\\x94b\\x8c\\x07env_cls\\x94\\x8c8metaworld.envs.mujoco.sawyer_xyz.v2.sawyer_pick_place_v2\\x94\\x8c\\x14SawyerPickPlaceEnvV2\\x94\\x93\\x94\\x8c\\x14partially_observable\\x94\\x89u.'),\n",
       " Task(env_name='pick-place-v2', data=b'\\x80\\x04\\x95=\\x01\\x00\\x00\\x00\\x00\\x00\\x00}\\x94(\\x8c\\x08rand_vec\\x94\\x8c\\x15numpy.core.multiarray\\x94\\x8c\\x0c_reconstruct\\x94\\x93\\x94\\x8c\\x05numpy\\x94\\x8c\\x07ndarray\\x94\\x93\\x94K\\x00\\x85\\x94C\\x01b\\x94\\x87\\x94R\\x94(K\\x01K\\x06\\x85\\x94h\\x05\\x8c\\x05dtype\\x94\\x93\\x94\\x8c\\x02f8\\x94\\x89\\x88\\x87\\x94R\\x94(K\\x03\\x8c\\x01<\\x94NNNJ\\xff\\xff\\xff\\xffJ\\xff\\xff\\xff\\xffK\\x00t\\x94b\\x89C0\\xba,\\xc2B\\xd1@\\xb3?\\xe7\\xe0/\\xd3_\\xe2\\xe5?\\x00\\x00\\x00@\\xe1z\\x94?\\x14>u\\x8a\\xb4&\\xac?\\x9f\\xee\\x0c\\xe7W\\xbc\\xec?\\xf6^1e\\xd8\\xff\\xc5?\\x94t\\x94b\\x8c\\x07env_cls\\x94\\x8c8metaworld.envs.mujoco.sawyer_xyz.v2.sawyer_pick_place_v2\\x94\\x8c\\x14SawyerPickPlaceEnvV2\\x94\\x93\\x94\\x8c\\x14partially_observable\\x94\\x89u.'),\n",
       " Task(env_name='pick-place-v2', data=b'\\x80\\x04\\x95=\\x01\\x00\\x00\\x00\\x00\\x00\\x00}\\x94(\\x8c\\x08rand_vec\\x94\\x8c\\x15numpy.core.multiarray\\x94\\x8c\\x0c_reconstruct\\x94\\x93\\x94\\x8c\\x05numpy\\x94\\x8c\\x07ndarray\\x94\\x93\\x94K\\x00\\x85\\x94C\\x01b\\x94\\x87\\x94R\\x94(K\\x01K\\x06\\x85\\x94h\\x05\\x8c\\x05dtype\\x94\\x93\\x94\\x8c\\x02f8\\x94\\x89\\x88\\x87\\x94R\\x94(K\\x03\\x8c\\x01<\\x94NNNJ\\xff\\xff\\xff\\xffJ\\xff\\xff\\xff\\xffK\\x00t\\x94b\\x89C0\\x12:p\\xe2r\\xf2\\xb1?\\xdb\\x82r\\xd4+e\\xe5?\\x00\\x00\\x00@\\xe1z\\x94?6\\x19\\xf9\\t\\x00\\x1f\\xb4\\xbf\\x0f\\xf9\\xb4\\x1b~W\\xea?U\\xdeL\\xf5\\xfbv\\xd0?\\x94t\\x94b\\x8c\\x07env_cls\\x94\\x8c8metaworld.envs.mujoco.sawyer_xyz.v2.sawyer_pick_place_v2\\x94\\x8c\\x14SawyerPickPlaceEnvV2\\x94\\x93\\x94\\x8c\\x14partially_observable\\x94\\x89u.'),\n",
       " Task(env_name='pick-place-v2', data=b'\\x80\\x04\\x95=\\x01\\x00\\x00\\x00\\x00\\x00\\x00}\\x94(\\x8c\\x08rand_vec\\x94\\x8c\\x15numpy.core.multiarray\\x94\\x8c\\x0c_reconstruct\\x94\\x93\\x94\\x8c\\x05numpy\\x94\\x8c\\x07ndarray\\x94\\x93\\x94K\\x00\\x85\\x94C\\x01b\\x94\\x87\\x94R\\x94(K\\x01K\\x06\\x85\\x94h\\x05\\x8c\\x05dtype\\x94\\x93\\x94\\x8c\\x02f8\\x94\\x89\\x88\\x87\\x94R\\x94(K\\x03\\x8c\\x01<\\x94NNNJ\\xff\\xff\\xff\\xffJ\\xff\\xff\\xff\\xffK\\x00t\\x94b\\x89C0\\xbc#\\xcd\\x0bd\\x81\\xb0\\xbf\\x0e3}\\xb6 \\x8e\\xe4?\\x00\\x00\\x00@\\xe1z\\x94?\\x95pSYc\\x17\\xa5\\xbf\\xea\\xe6\\xb6`p{\\xea?|\\xab\\x93U\\x94!\\xb1?\\x94t\\x94b\\x8c\\x07env_cls\\x94\\x8c8metaworld.envs.mujoco.sawyer_xyz.v2.sawyer_pick_place_v2\\x94\\x8c\\x14SawyerPickPlaceEnvV2\\x94\\x93\\x94\\x8c\\x14partially_observable\\x94\\x89u.'),\n",
       " Task(env_name='pick-place-v2', data=b'\\x80\\x04\\x95=\\x01\\x00\\x00\\x00\\x00\\x00\\x00}\\x94(\\x8c\\x08rand_vec\\x94\\x8c\\x15numpy.core.multiarray\\x94\\x8c\\x0c_reconstruct\\x94\\x93\\x94\\x8c\\x05numpy\\x94\\x8c\\x07ndarray\\x94\\x93\\x94K\\x00\\x85\\x94C\\x01b\\x94\\x87\\x94R\\x94(K\\x01K\\x06\\x85\\x94h\\x05\\x8c\\x05dtype\\x94\\x93\\x94\\x8c\\x02f8\\x94\\x89\\x88\\x87\\x94R\\x94(K\\x03\\x8c\\x01<\\x94NNNJ\\xff\\xff\\xff\\xffJ\\xff\\xff\\xff\\xffK\\x00t\\x94b\\x89C0rm\\x875`\\x0f\\xb9\\xbf\\xb6\\xd3\\x0c|\\xb6\\xff\\xe3?\\x00\\x00\\x00@\\xe1z\\x94?ps\\x05\\x81%\\x05\\xa3?\\xb86\\x174\\xedU\\xec?\\xd2c=B[\\xf0\\xc4?\\x94t\\x94b\\x8c\\x07env_cls\\x94\\x8c8metaworld.envs.mujoco.sawyer_xyz.v2.sawyer_pick_place_v2\\x94\\x8c\\x14SawyerPickPlaceEnvV2\\x94\\x93\\x94\\x8c\\x14partially_observable\\x94\\x89u.'),\n",
       " Task(env_name='pick-place-v2', data=b'\\x80\\x04\\x95=\\x01\\x00\\x00\\x00\\x00\\x00\\x00}\\x94(\\x8c\\x08rand_vec\\x94\\x8c\\x15numpy.core.multiarray\\x94\\x8c\\x0c_reconstruct\\x94\\x93\\x94\\x8c\\x05numpy\\x94\\x8c\\x07ndarray\\x94\\x93\\x94K\\x00\\x85\\x94C\\x01b\\x94\\x87\\x94R\\x94(K\\x01K\\x06\\x85\\x94h\\x05\\x8c\\x05dtype\\x94\\x93\\x94\\x8c\\x02f8\\x94\\x89\\x88\\x87\\x94R\\x94(K\\x03\\x8c\\x01<\\x94NNNJ\\xff\\xff\\xff\\xffJ\\xff\\xff\\xff\\xffK\\x00t\\x94b\\x89C0\\xcd\\x01*\\xce\\xfd\\xf9\\xb7\\xbf,\\n\\xc3\\np\\xc4\\xe4?\\x00\\x00\\x00@\\xe1z\\x94?L\\x14\\x8b\\x17\\xe5.\\xab?\\x02%\\x8b\\xfa\\rp\\xea?\\x88\\xf6\\xec\\\\\\x11\\xeb\\xd0?\\x94t\\x94b\\x8c\\x07env_cls\\x94\\x8c8metaworld.envs.mujoco.sawyer_xyz.v2.sawyer_pick_place_v2\\x94\\x8c\\x14SawyerPickPlaceEnvV2\\x94\\x93\\x94\\x8c\\x14partially_observable\\x94\\x89u.'),\n",
       " Task(env_name='pick-place-v2', data=b\"\\x80\\x04\\x95=\\x01\\x00\\x00\\x00\\x00\\x00\\x00}\\x94(\\x8c\\x08rand_vec\\x94\\x8c\\x15numpy.core.multiarray\\x94\\x8c\\x0c_reconstruct\\x94\\x93\\x94\\x8c\\x05numpy\\x94\\x8c\\x07ndarray\\x94\\x93\\x94K\\x00\\x85\\x94C\\x01b\\x94\\x87\\x94R\\x94(K\\x01K\\x06\\x85\\x94h\\x05\\x8c\\x05dtype\\x94\\x93\\x94\\x8c\\x02f8\\x94\\x89\\x88\\x87\\x94R\\x94(K\\x03\\x8c\\x01<\\x94NNNJ\\xff\\xff\\xff\\xffJ\\xff\\xff\\xff\\xffK\\x00t\\x94b\\x89C0\\x9c\\xb8\\xda\\xf8\\x14'\\x96?\\x18\\xec\\xb0\\x84\\x8dT\\xe3?\\x00\\x00\\x00@\\xe1z\\x94?\\x0bn*x\\x9c\\xfb\\xb5\\xbf\\xe1L:\\x87n\\x05\\xec?\\xa9Y\\x1a\\xbe\\x9al\\xc8?\\x94t\\x94b\\x8c\\x07env_cls\\x94\\x8c8metaworld.envs.mujoco.sawyer_xyz.v2.sawyer_pick_place_v2\\x94\\x8c\\x14SawyerPickPlaceEnvV2\\x94\\x93\\x94\\x8c\\x14partially_observable\\x94\\x89u.\"),\n",
       " Task(env_name='pick-place-v2', data=b'\\x80\\x04\\x95=\\x01\\x00\\x00\\x00\\x00\\x00\\x00}\\x94(\\x8c\\x08rand_vec\\x94\\x8c\\x15numpy.core.multiarray\\x94\\x8c\\x0c_reconstruct\\x94\\x93\\x94\\x8c\\x05numpy\\x94\\x8c\\x07ndarray\\x94\\x93\\x94K\\x00\\x85\\x94C\\x01b\\x94\\x87\\x94R\\x94(K\\x01K\\x06\\x85\\x94h\\x05\\x8c\\x05dtype\\x94\\x93\\x94\\x8c\\x02f8\\x94\\x89\\x88\\x87\\x94R\\x94(K\\x03\\x8c\\x01<\\x94NNNJ\\xff\\xff\\xff\\xffJ\\xff\\xff\\xff\\xffK\\x00t\\x94b\\x89C0F5\\xcb\\xacb\\x80\\xb7\\xbf\\xb0#\\xa8\\x86\\xa4\\x8a\\xe4?\\x00\\x00\\x00@\\xe1z\\x94?p>=w\\xd8\\x9dz??\\xad\\x98\\x0cM\\xd3\\xeb?k\\x8f\\x8a\\x16\\x02\\xc5\\xce?\\x94t\\x94b\\x8c\\x07env_cls\\x94\\x8c8metaworld.envs.mujoco.sawyer_xyz.v2.sawyer_pick_place_v2\\x94\\x8c\\x14SawyerPickPlaceEnvV2\\x94\\x93\\x94\\x8c\\x14partially_observable\\x94\\x89u.'),\n",
       " Task(env_name='pick-place-v2', data=b'\\x80\\x04\\x95=\\x01\\x00\\x00\\x00\\x00\\x00\\x00}\\x94(\\x8c\\x08rand_vec\\x94\\x8c\\x15numpy.core.multiarray\\x94\\x8c\\x0c_reconstruct\\x94\\x93\\x94\\x8c\\x05numpy\\x94\\x8c\\x07ndarray\\x94\\x93\\x94K\\x00\\x85\\x94C\\x01b\\x94\\x87\\x94R\\x94(K\\x01K\\x06\\x85\\x94h\\x05\\x8c\\x05dtype\\x94\\x93\\x94\\x8c\\x02f8\\x94\\x89\\x88\\x87\\x94R\\x94(K\\x03\\x8c\\x01<\\x94NNNJ\\xff\\xff\\xff\\xffJ\\xff\\xff\\xff\\xffK\\x00t\\x94b\\x89C0\\xbam\\x9cH\\xa5\\xad\\xa8\\xbfL\\xe6\\x8c\\x8b\\xc5\\xb8\\xe5?\\x00\\x00\\x00@\\xe1z\\x94?\\xf0\\xb5>\\x83\\xb0+|?\\xd2\\x02\\xf3UB\\xeb\\xeb?\\x1e\\xc4e,l(\\xd2?\\x94t\\x94b\\x8c\\x07env_cls\\x94\\x8c8metaworld.envs.mujoco.sawyer_xyz.v2.sawyer_pick_place_v2\\x94\\x8c\\x14SawyerPickPlaceEnvV2\\x94\\x93\\x94\\x8c\\x14partially_observable\\x94\\x89u.'),\n",
       " Task(env_name='pick-place-v2', data=b'\\x80\\x04\\x95=\\x01\\x00\\x00\\x00\\x00\\x00\\x00}\\x94(\\x8c\\x08rand_vec\\x94\\x8c\\x15numpy.core.multiarray\\x94\\x8c\\x0c_reconstruct\\x94\\x93\\x94\\x8c\\x05numpy\\x94\\x8c\\x07ndarray\\x94\\x93\\x94K\\x00\\x85\\x94C\\x01b\\x94\\x87\\x94R\\x94(K\\x01K\\x06\\x85\\x94h\\x05\\x8c\\x05dtype\\x94\\x93\\x94\\x8c\\x02f8\\x94\\x89\\x88\\x87\\x94R\\x94(K\\x03\\x8c\\x01<\\x94NNNJ\\xff\\xff\\xff\\xffJ\\xff\\xff\\xff\\xffK\\x00t\\x94b\\x89C0H\\x04\\x8e\\x13_#\\xa7?j\\xa9a\\x81\\x85G\\xe4?\\x00\\x00\\x00@\\xe1z\\x94?\\x98\\xffKo\\x84\\x84\\xb9?9\\xd4\\xed\\x98\\xe7\\x1e\\xeb?@\\x82\\xf8R`X\\xd2?\\x94t\\x94b\\x8c\\x07env_cls\\x94\\x8c8metaworld.envs.mujoco.sawyer_xyz.v2.sawyer_pick_place_v2\\x94\\x8c\\x14SawyerPickPlaceEnvV2\\x94\\x93\\x94\\x8c\\x14partially_observable\\x94\\x89u.'),\n",
       " Task(env_name='pick-place-v2', data=b'\\x80\\x04\\x95=\\x01\\x00\\x00\\x00\\x00\\x00\\x00}\\x94(\\x8c\\x08rand_vec\\x94\\x8c\\x15numpy.core.multiarray\\x94\\x8c\\x0c_reconstruct\\x94\\x93\\x94\\x8c\\x05numpy\\x94\\x8c\\x07ndarray\\x94\\x93\\x94K\\x00\\x85\\x94C\\x01b\\x94\\x87\\x94R\\x94(K\\x01K\\x06\\x85\\x94h\\x05\\x8c\\x05dtype\\x94\\x93\\x94\\x8c\\x02f8\\x94\\x89\\x88\\x87\\x94R\\x94(K\\x03\\x8c\\x01<\\x94NNNJ\\xff\\xff\\xff\\xffJ\\xff\\xff\\xff\\xffK\\x00t\\x94b\\x89C0\\xc9\\x81\\xa3\\x9c\\x8e\\x1a\\xb6\\xbf\\xdb\\x07\\x93&\\xbc\\x1e\\xe6?\\x00\\x00\\x00@\\xe1z\\x94?\\xc86B\\xf7&\\xbb\\x9f?lg~f^\\x88\\xea?\\xfa\\xf3\\x98\\xb8\\xdbb\\xce?\\x94t\\x94b\\x8c\\x07env_cls\\x94\\x8c8metaworld.envs.mujoco.sawyer_xyz.v2.sawyer_pick_place_v2\\x94\\x8c\\x14SawyerPickPlaceEnvV2\\x94\\x93\\x94\\x8c\\x14partially_observable\\x94\\x89u.'),\n",
       " Task(env_name='pick-place-v2', data=b'\\x80\\x04\\x95=\\x01\\x00\\x00\\x00\\x00\\x00\\x00}\\x94(\\x8c\\x08rand_vec\\x94\\x8c\\x15numpy.core.multiarray\\x94\\x8c\\x0c_reconstruct\\x94\\x93\\x94\\x8c\\x05numpy\\x94\\x8c\\x07ndarray\\x94\\x93\\x94K\\x00\\x85\\x94C\\x01b\\x94\\x87\\x94R\\x94(K\\x01K\\x06\\x85\\x94h\\x05\\x8c\\x05dtype\\x94\\x93\\x94\\x8c\\x02f8\\x94\\x89\\x88\\x87\\x94R\\x94(K\\x03\\x8c\\x01<\\x94NNNJ\\xff\\xff\\xff\\xffJ\\xff\\xff\\xff\\xffK\\x00t\\x94b\\x89C0\\x80\\x93\\xf0\\xfd\\xe3rP\\xbf\\x86\\x84\\x8clp\\xa0\\xe5?\\x00\\x00\\x00@\\xe1z\\x94?\\xfc\\xfbi\\xa7\\x1e\\x81\\x9e\\xbf\\xdaL\\xdd\\xd3Qk\\xeb?BeV\\x96H2\\xcf?\\x94t\\x94b\\x8c\\x07env_cls\\x94\\x8c8metaworld.envs.mujoco.sawyer_xyz.v2.sawyer_pick_place_v2\\x94\\x8c\\x14SawyerPickPlaceEnvV2\\x94\\x93\\x94\\x8c\\x14partially_observable\\x94\\x89u.'),\n",
       " Task(env_name='pick-place-v2', data=b\"\\x80\\x04\\x95=\\x01\\x00\\x00\\x00\\x00\\x00\\x00}\\x94(\\x8c\\x08rand_vec\\x94\\x8c\\x15numpy.core.multiarray\\x94\\x8c\\x0c_reconstruct\\x94\\x93\\x94\\x8c\\x05numpy\\x94\\x8c\\x07ndarray\\x94\\x93\\x94K\\x00\\x85\\x94C\\x01b\\x94\\x87\\x94R\\x94(K\\x01K\\x06\\x85\\x94h\\x05\\x8c\\x05dtype\\x94\\x93\\x94\\x8c\\x02f8\\x94\\x89\\x88\\x87\\x94R\\x94(K\\x03\\x8c\\x01<\\x94NNNJ\\xff\\xff\\xff\\xffJ\\xff\\xff\\xff\\xffK\\x00t\\x94b\\x89C0@\\xbb<o\\x05\\xab\\xa0?\\x14\\xd8\\xe0\\x91~\\x9e\\xe5?\\x00\\x00\\x00@\\xe1z\\x94?\\xc0\\xf42[X\\xb3\\xad?\\x82Z\\xe5\\x9d\\xdb \\xec?\\x1br\\xf3'\\x0b\\xb3\\xd0?\\x94t\\x94b\\x8c\\x07env_cls\\x94\\x8c8metaworld.envs.mujoco.sawyer_xyz.v2.sawyer_pick_place_v2\\x94\\x8c\\x14SawyerPickPlaceEnvV2\\x94\\x93\\x94\\x8c\\x14partially_observable\\x94\\x89u.\"),\n",
       " Task(env_name='pick-place-v2', data=b'\\x80\\x04\\x95=\\x01\\x00\\x00\\x00\\x00\\x00\\x00}\\x94(\\x8c\\x08rand_vec\\x94\\x8c\\x15numpy.core.multiarray\\x94\\x8c\\x0c_reconstruct\\x94\\x93\\x94\\x8c\\x05numpy\\x94\\x8c\\x07ndarray\\x94\\x93\\x94K\\x00\\x85\\x94C\\x01b\\x94\\x87\\x94R\\x94(K\\x01K\\x06\\x85\\x94h\\x05\\x8c\\x05dtype\\x94\\x93\\x94\\x8c\\x02f8\\x94\\x89\\x88\\x87\\x94R\\x94(K\\x03\\x8c\\x01<\\x94NNNJ\\xff\\xff\\xff\\xffJ\\xff\\xff\\xff\\xffK\\x00t\\x94b\\x89C0$G\\x92p\\xe7\\xe3\\xb2\\xbf\\xdc|J\\r\\x1f\\x98\\xe5?\\x00\\x00\\x00@\\xe1z\\x94?\\xcf4\\x08\\x1a\\xf8\\xc5\\xb7\\xbf\\xfa|\\x8f\\x8ao\\xb5\\xea?\\xe6\\xd4\\x9c\\xff[R\\xd0?\\x94t\\x94b\\x8c\\x07env_cls\\x94\\x8c8metaworld.envs.mujoco.sawyer_xyz.v2.sawyer_pick_place_v2\\x94\\x8c\\x14SawyerPickPlaceEnvV2\\x94\\x93\\x94\\x8c\\x14partially_observable\\x94\\x89u.'),\n",
       " Task(env_name='pick-place-v2', data=b\"\\x80\\x04\\x95=\\x01\\x00\\x00\\x00\\x00\\x00\\x00}\\x94(\\x8c\\x08rand_vec\\x94\\x8c\\x15numpy.core.multiarray\\x94\\x8c\\x0c_reconstruct\\x94\\x93\\x94\\x8c\\x05numpy\\x94\\x8c\\x07ndarray\\x94\\x93\\x94K\\x00\\x85\\x94C\\x01b\\x94\\x87\\x94R\\x94(K\\x01K\\x06\\x85\\x94h\\x05\\x8c\\x05dtype\\x94\\x93\\x94\\x8c\\x02f8\\x94\\x89\\x88\\x87\\x94R\\x94(K\\x03\\x8c\\x01<\\x94NNNJ\\xff\\xff\\xff\\xffJ\\xff\\xff\\xff\\xffK\\x00t\\x94b\\x89C0\\x04\\xa5\\x8cW\\xe3i\\xae\\xbf\\xf6I\\x13$\\xf9\\t\\xe6?\\x00\\x00\\x00@\\xe1z\\x94?\\xb9\\xbey\\x83\\xfd-\\xa7\\xbf\\xea\\xb6m\\x16%1\\xec?\\xef\\x0erk\\x82'\\xc8?\\x94t\\x94b\\x8c\\x07env_cls\\x94\\x8c8metaworld.envs.mujoco.sawyer_xyz.v2.sawyer_pick_place_v2\\x94\\x8c\\x14SawyerPickPlaceEnvV2\\x94\\x93\\x94\\x8c\\x14partially_observable\\x94\\x89u.\"),\n",
       " Task(env_name='pick-place-v2', data=b\"\\x80\\x04\\x95=\\x01\\x00\\x00\\x00\\x00\\x00\\x00}\\x94(\\x8c\\x08rand_vec\\x94\\x8c\\x15numpy.core.multiarray\\x94\\x8c\\x0c_reconstruct\\x94\\x93\\x94\\x8c\\x05numpy\\x94\\x8c\\x07ndarray\\x94\\x93\\x94K\\x00\\x85\\x94C\\x01b\\x94\\x87\\x94R\\x94(K\\x01K\\x06\\x85\\x94h\\x05\\x8c\\x05dtype\\x94\\x93\\x94\\x8c\\x02f8\\x94\\x89\\x88\\x87\\x94R\\x94(K\\x03\\x8c\\x01<\\x94NNNJ\\xff\\xff\\xff\\xffJ\\xff\\xff\\xff\\xffK\\x00t\\x94b\\x89C0\\xae\\xda\\x8bWm\\xf9\\xb0\\xbf\\xd8\\xc6Lz \\xf3\\xe3?\\x00\\x00\\x00@\\xe1z\\x94?\\x08\\n\\xe5j\\xfa\\xc3\\x92?\\xa6\\xb3\\xb3\\xd0)3\\xeb?c'&\\xb8.\\x02\\xc8?\\x94t\\x94b\\x8c\\x07env_cls\\x94\\x8c8metaworld.envs.mujoco.sawyer_xyz.v2.sawyer_pick_place_v2\\x94\\x8c\\x14SawyerPickPlaceEnvV2\\x94\\x93\\x94\\x8c\\x14partially_observable\\x94\\x89u.\"),\n",
       " Task(env_name='pick-place-v2', data=b'\\x80\\x04\\x95=\\x01\\x00\\x00\\x00\\x00\\x00\\x00}\\x94(\\x8c\\x08rand_vec\\x94\\x8c\\x15numpy.core.multiarray\\x94\\x8c\\x0c_reconstruct\\x94\\x93\\x94\\x8c\\x05numpy\\x94\\x8c\\x07ndarray\\x94\\x93\\x94K\\x00\\x85\\x94C\\x01b\\x94\\x87\\x94R\\x94(K\\x01K\\x06\\x85\\x94h\\x05\\x8c\\x05dtype\\x94\\x93\\x94\\x8c\\x02f8\\x94\\x89\\x88\\x87\\x94R\\x94(K\\x03\\x8c\\x01<\\x94NNNJ\\xff\\xff\\xff\\xffJ\\xff\\xff\\xff\\xffK\\x00t\\x94b\\x89C0\\xdc\\xbfq\\x8d\\xaf+\\xb0\\xbf\\xdd\\xd0\\xd8\\xb3\\xe86\\xe3?\\x00\\x00\\x00@\\xe1z\\x94?\\xc6\\xd6\\xb9\\x01BP\\xa1\\xbf\\x86~\\xbag/\\x0c\\xec?\\xad\\x8d\\xa5\\xd9q\\xde\\xad?\\x94t\\x94b\\x8c\\x07env_cls\\x94\\x8c8metaworld.envs.mujoco.sawyer_xyz.v2.sawyer_pick_place_v2\\x94\\x8c\\x14SawyerPickPlaceEnvV2\\x94\\x93\\x94\\x8c\\x14partially_observable\\x94\\x89u.'),\n",
       " Task(env_name='pick-place-v2', data=b'\\x80\\x04\\x95=\\x01\\x00\\x00\\x00\\x00\\x00\\x00}\\x94(\\x8c\\x08rand_vec\\x94\\x8c\\x15numpy.core.multiarray\\x94\\x8c\\x0c_reconstruct\\x94\\x93\\x94\\x8c\\x05numpy\\x94\\x8c\\x07ndarray\\x94\\x93\\x94K\\x00\\x85\\x94C\\x01b\\x94\\x87\\x94R\\x94(K\\x01K\\x06\\x85\\x94h\\x05\\x8c\\x05dtype\\x94\\x93\\x94\\x8c\\x02f8\\x94\\x89\\x88\\x87\\x94R\\x94(K\\x03\\x8c\\x01<\\x94NNNJ\\xff\\xff\\xff\\xffJ\\xff\\xff\\xff\\xffK\\x00t\\x94b\\x89C0)\\x1c\\x90\\xddI\\xe1\\xae\\xbfZ\\x19P\\x9e\\xe7\\xd8\\xe5?\\x00\\x00\\x00@\\xe1z\\x94?\\xc2\\xfc\\x8f\\xc7\\x89\\x95\\xb7\\xbf\\xe9c\\x03\\x85\\xc3\\x92\\xea?\\xe6J\\xe9D\\xd3c\\xc6?\\x94t\\x94b\\x8c\\x07env_cls\\x94\\x8c8metaworld.envs.mujoco.sawyer_xyz.v2.sawyer_pick_place_v2\\x94\\x8c\\x14SawyerPickPlaceEnvV2\\x94\\x93\\x94\\x8c\\x14partially_observable\\x94\\x89u.'),\n",
       " Task(env_name='pick-place-v2', data=b'\\x80\\x04\\x95=\\x01\\x00\\x00\\x00\\x00\\x00\\x00}\\x94(\\x8c\\x08rand_vec\\x94\\x8c\\x15numpy.core.multiarray\\x94\\x8c\\x0c_reconstruct\\x94\\x93\\x94\\x8c\\x05numpy\\x94\\x8c\\x07ndarray\\x94\\x93\\x94K\\x00\\x85\\x94C\\x01b\\x94\\x87\\x94R\\x94(K\\x01K\\x06\\x85\\x94h\\x05\\x8c\\x05dtype\\x94\\x93\\x94\\x8c\\x02f8\\x94\\x89\\x88\\x87\\x94R\\x94(K\\x03\\x8c\\x01<\\x94NNNJ\\xff\\xff\\xff\\xffJ\\xff\\xff\\xff\\xffK\\x00t\\x94b\\x89C0\\xc8\\xf6$\\xf9Ad\\xaa?o**\\xcab\\xf5\\xe3?\\x00\\x00\\x00@\\xe1z\\x94?\\x80\\x0b\\xaa\\x14\\xb1\\x1b\\x9a?\\xc6?\\x19X\\x11\\xc7\\xeb?\\x9a\\t5\\xeaz\\xa9\\xbb?\\x94t\\x94b\\x8c\\x07env_cls\\x94\\x8c8metaworld.envs.mujoco.sawyer_xyz.v2.sawyer_pick_place_v2\\x94\\x8c\\x14SawyerPickPlaceEnvV2\\x94\\x93\\x94\\x8c\\x14partially_observable\\x94\\x89u.'),\n",
       " Task(env_name='pick-place-v2', data=b'\\x80\\x04\\x95=\\x01\\x00\\x00\\x00\\x00\\x00\\x00}\\x94(\\x8c\\x08rand_vec\\x94\\x8c\\x15numpy.core.multiarray\\x94\\x8c\\x0c_reconstruct\\x94\\x93\\x94\\x8c\\x05numpy\\x94\\x8c\\x07ndarray\\x94\\x93\\x94K\\x00\\x85\\x94C\\x01b\\x94\\x87\\x94R\\x94(K\\x01K\\x06\\x85\\x94h\\x05\\x8c\\x05dtype\\x94\\x93\\x94\\x8c\\x02f8\\x94\\x89\\x88\\x87\\x94R\\x94(K\\x03\\x8c\\x01<\\x94NNNJ\\xff\\xff\\xff\\xffJ\\xff\\xff\\xff\\xffK\\x00t\\x94b\\x89C0Lt?\\x88\\x0f<\\xa9?<\\xaa$\\x97\\xe7\\xc9\\xe4?\\x00\\x00\\x00@\\xe1z\\x94?\\x8eq\\xfe{qj\\xb2\\xbf@\\x96\\xc8\\xcf\\xa4>\\xeb?B\\x163\\xab\\x16\\x07\\xbc?\\x94t\\x94b\\x8c\\x07env_cls\\x94\\x8c8metaworld.envs.mujoco.sawyer_xyz.v2.sawyer_pick_place_v2\\x94\\x8c\\x14SawyerPickPlaceEnvV2\\x94\\x93\\x94\\x8c\\x14partially_observable\\x94\\x89u.'),\n",
       " Task(env_name='pick-place-v2', data=b'\\x80\\x04\\x95=\\x01\\x00\\x00\\x00\\x00\\x00\\x00}\\x94(\\x8c\\x08rand_vec\\x94\\x8c\\x15numpy.core.multiarray\\x94\\x8c\\x0c_reconstruct\\x94\\x93\\x94\\x8c\\x05numpy\\x94\\x8c\\x07ndarray\\x94\\x93\\x94K\\x00\\x85\\x94C\\x01b\\x94\\x87\\x94R\\x94(K\\x01K\\x06\\x85\\x94h\\x05\\x8c\\x05dtype\\x94\\x93\\x94\\x8c\\x02f8\\x94\\x89\\x88\\x87\\x94R\\x94(K\\x03\\x8c\\x01<\\x94NNNJ\\xff\\xff\\xff\\xffJ\\xff\\xff\\xff\\xffK\\x00t\\x94b\\x89C0\\xd0\\xe5\\xae\\x8c\\xbdR\\x94?~w\\xe1\\x16\\xe6I\\xe3?\\x00\\x00\\x00@\\xe1z\\x94?l\\xe2\\xb9\\x8a\\xe4\\xd1\\xa7?\\xc3\\xcek>\\xedK\\xec?I\\xbf\\rg\\xb7\\xd9\\xa9?\\x94t\\x94b\\x8c\\x07env_cls\\x94\\x8c8metaworld.envs.mujoco.sawyer_xyz.v2.sawyer_pick_place_v2\\x94\\x8c\\x14SawyerPickPlaceEnvV2\\x94\\x93\\x94\\x8c\\x14partially_observable\\x94\\x89u.'),\n",
       " Task(env_name='pick-place-v2', data=b\"\\x80\\x04\\x95=\\x01\\x00\\x00\\x00\\x00\\x00\\x00}\\x94(\\x8c\\x08rand_vec\\x94\\x8c\\x15numpy.core.multiarray\\x94\\x8c\\x0c_reconstruct\\x94\\x93\\x94\\x8c\\x05numpy\\x94\\x8c\\x07ndarray\\x94\\x93\\x94K\\x00\\x85\\x94C\\x01b\\x94\\x87\\x94R\\x94(K\\x01K\\x06\\x85\\x94h\\x05\\x8c\\x05dtype\\x94\\x93\\x94\\x8c\\x02f8\\x94\\x89\\x88\\x87\\x94R\\x94(K\\x03\\x8c\\x01<\\x94NNNJ\\xff\\xff\\xff\\xffJ\\xff\\xff\\xff\\xffK\\x00t\\x94b\\x89C0b\\xd2\\xd9\\xc5'd\\xb0\\xbf\\xd9\\x81\\x18\\xb6\\xa0\\xd1\\xe4?\\x00\\x00\\x00@\\xe1z\\x94?,\\x83\\x13z\\x9cu\\xa3?\\x84\\xa4T\\xbb\\x90-\\xea?\\xfc\\xac.vt\\xce\\xbb?\\x94t\\x94b\\x8c\\x07env_cls\\x94\\x8c8metaworld.envs.mujoco.sawyer_xyz.v2.sawyer_pick_place_v2\\x94\\x8c\\x14SawyerPickPlaceEnvV2\\x94\\x93\\x94\\x8c\\x14partially_observable\\x94\\x89u.\"),\n",
       " Task(env_name='pick-place-v2', data=b'\\x80\\x04\\x95=\\x01\\x00\\x00\\x00\\x00\\x00\\x00}\\x94(\\x8c\\x08rand_vec\\x94\\x8c\\x15numpy.core.multiarray\\x94\\x8c\\x0c_reconstruct\\x94\\x93\\x94\\x8c\\x05numpy\\x94\\x8c\\x07ndarray\\x94\\x93\\x94K\\x00\\x85\\x94C\\x01b\\x94\\x87\\x94R\\x94(K\\x01K\\x06\\x85\\x94h\\x05\\x8c\\x05dtype\\x94\\x93\\x94\\x8c\\x02f8\\x94\\x89\\x88\\x87\\x94R\\x94(K\\x03\\x8c\\x01<\\x94NNNJ\\xff\\xff\\xff\\xffJ\\xff\\xff\\xff\\xffK\\x00t\\x94b\\x89C0.L\\xef\\xd7WB\\xb9\\xbfL%\\x1f>&[\\xe4?\\x00\\x00\\x00@\\xe1z\\x94?\\xaa1\\xfa%\\t\\xe7\\xb8\\xbfe\\xf1\\x80\\xff}\\xc6\\xea?\\xcc\\x1cz^\\xa5(\\xba?\\x94t\\x94b\\x8c\\x07env_cls\\x94\\x8c8metaworld.envs.mujoco.sawyer_xyz.v2.sawyer_pick_place_v2\\x94\\x8c\\x14SawyerPickPlaceEnvV2\\x94\\x93\\x94\\x8c\\x14partially_observable\\x94\\x89u.'),\n",
       " Task(env_name='pick-place-v2', data=b'\\x80\\x04\\x95=\\x01\\x00\\x00\\x00\\x00\\x00\\x00}\\x94(\\x8c\\x08rand_vec\\x94\\x8c\\x15numpy.core.multiarray\\x94\\x8c\\x0c_reconstruct\\x94\\x93\\x94\\x8c\\x05numpy\\x94\\x8c\\x07ndarray\\x94\\x93\\x94K\\x00\\x85\\x94C\\x01b\\x94\\x87\\x94R\\x94(K\\x01K\\x06\\x85\\x94h\\x05\\x8c\\x05dtype\\x94\\x93\\x94\\x8c\\x02f8\\x94\\x89\\x88\\x87\\x94R\\x94(K\\x03\\x8c\\x01<\\x94NNNJ\\xff\\xff\\xff\\xffJ\\xff\\xff\\xff\\xffK\\x00t\\x94b\\x89C0\\xe8\\xb6\\x94\\x0cMC\\x80\\xbf\\x1e\\xfe\\x00\\xebN\\x18\\xe6?\\x00\\x00\\x00@\\xe1z\\x94?\\xf4}8\\x923\\x99\\xa1?N\\x89\\x05\\xa0u\\x1a\\xeb?\\xc1FB\\x033\\x1d\\xd0?\\x94t\\x94b\\x8c\\x07env_cls\\x94\\x8c8metaworld.envs.mujoco.sawyer_xyz.v2.sawyer_pick_place_v2\\x94\\x8c\\x14SawyerPickPlaceEnvV2\\x94\\x93\\x94\\x8c\\x14partially_observable\\x94\\x89u.'),\n",
       " Task(env_name='pick-place-v2', data=b'\\x80\\x04\\x95=\\x01\\x00\\x00\\x00\\x00\\x00\\x00}\\x94(\\x8c\\x08rand_vec\\x94\\x8c\\x15numpy.core.multiarray\\x94\\x8c\\x0c_reconstruct\\x94\\x93\\x94\\x8c\\x05numpy\\x94\\x8c\\x07ndarray\\x94\\x93\\x94K\\x00\\x85\\x94C\\x01b\\x94\\x87\\x94R\\x94(K\\x01K\\x06\\x85\\x94h\\x05\\x8c\\x05dtype\\x94\\x93\\x94\\x8c\\x02f8\\x94\\x89\\x88\\x87\\x94R\\x94(K\\x03\\x8c\\x01<\\x94NNNJ\\xff\\xff\\xff\\xffJ\\xff\\xff\\xff\\xffK\\x00t\\x94b\\x89C0pfV\\xcb\\x99{\\xb9\\xbf\\x8c\\xd5\\xd7\\xaa\\xc7\\xf4\\xe4?\\x00\\x00\\x00@\\xe1z\\x94?\\xb0R\\xa1\\xe3\\x15v\\x98\\xbf>g\\xb2\\xaa\\r\\xcc\\xec?\\x90]8\\x168\\x80\\xd0?\\x94t\\x94b\\x8c\\x07env_cls\\x94\\x8c8metaworld.envs.mujoco.sawyer_xyz.v2.sawyer_pick_place_v2\\x94\\x8c\\x14SawyerPickPlaceEnvV2\\x94\\x93\\x94\\x8c\\x14partially_observable\\x94\\x89u.'),\n",
       " Task(env_name='pick-place-v2', data=b'\\x80\\x04\\x95=\\x01\\x00\\x00\\x00\\x00\\x00\\x00}\\x94(\\x8c\\x08rand_vec\\x94\\x8c\\x15numpy.core.multiarray\\x94\\x8c\\x0c_reconstruct\\x94\\x93\\x94\\x8c\\x05numpy\\x94\\x8c\\x07ndarray\\x94\\x93\\x94K\\x00\\x85\\x94C\\x01b\\x94\\x87\\x94R\\x94(K\\x01K\\x06\\x85\\x94h\\x05\\x8c\\x05dtype\\x94\\x93\\x94\\x8c\\x02f8\\x94\\x89\\x88\\x87\\x94R\\x94(K\\x03\\x8c\\x01<\\x94NNNJ\\xff\\xff\\xff\\xffJ\\xff\\xff\\xff\\xffK\\x00t\\x94b\\x89C0\\xa4\\x0f\\x90\\x00\\x8e\\xd8\\xa4?\\xc4\\xeb\\x86\\x9a`\\xec\\xe4?\\x00\\x00\\x00@\\xe1z\\x94?2=\\xe7\\x0e\\x14\\x14\\xb2?\\x92<\\x1ea7\\xee\\xea?\\x8a\\xd1ih\\xfd\\x9d\\xc8?\\x94t\\x94b\\x8c\\x07env_cls\\x94\\x8c8metaworld.envs.mujoco.sawyer_xyz.v2.sawyer_pick_place_v2\\x94\\x8c\\x14SawyerPickPlaceEnvV2\\x94\\x93\\x94\\x8c\\x14partially_observable\\x94\\x89u.'),\n",
       " Task(env_name='pick-place-v2', data=b'\\x80\\x04\\x95=\\x01\\x00\\x00\\x00\\x00\\x00\\x00}\\x94(\\x8c\\x08rand_vec\\x94\\x8c\\x15numpy.core.multiarray\\x94\\x8c\\x0c_reconstruct\\x94\\x93\\x94\\x8c\\x05numpy\\x94\\x8c\\x07ndarray\\x94\\x93\\x94K\\x00\\x85\\x94C\\x01b\\x94\\x87\\x94R\\x94(K\\x01K\\x06\\x85\\x94h\\x05\\x8c\\x05dtype\\x94\\x93\\x94\\x8c\\x02f8\\x94\\x89\\x88\\x87\\x94R\\x94(K\\x03\\x8c\\x01<\\x94NNNJ\\xff\\xff\\xff\\xffJ\\xff\\xff\\xff\\xffK\\x00t\\x94b\\x89C0\\xd6\\x96\\x8c\\xcf<\\x88\\xb4\\xbf\\xa0\\xd40:)\\x02\\xe4?\\x00\\x00\\x00@\\xe1z\\x94?N\\x1b\\xc6\\x16x1\\xb1?d\\xd8\\xc0\\xc6\\x94\\x03\\xec?\\xab\\xcda\\x16\\xbaK\\xac?\\x94t\\x94b\\x8c\\x07env_cls\\x94\\x8c8metaworld.envs.mujoco.sawyer_xyz.v2.sawyer_pick_place_v2\\x94\\x8c\\x14SawyerPickPlaceEnvV2\\x94\\x93\\x94\\x8c\\x14partially_observable\\x94\\x89u.')]"
      ]
     },
     "execution_count": 135,
     "metadata": {},
     "output_type": "execute_result"
    }
   ],
   "source": [
    "[task for task in ml3.test_tasks if task.env_name==env_name]"
   ]
  },
  {
   "cell_type": "code",
   "execution_count": 106,
   "metadata": {},
   "outputs": [
    {
     "name": "stderr",
     "output_type": "stream",
     "text": [
      "C:\\Users\\61417\\AppData\\Local\\Temp\\ipykernel_93256\\436205180.py:38: UserWarning: To copy construct from a tensor, it is recommended to use sourceTensor.clone().detach() or sourceTensor.clone().detach().requires_grad_(True), rather than torch.tensor(sourceTensor).\n",
      "  torch.tensor(action).float().unsqueeze(0),\n"
     ]
    },
    {
     "name": "stdout",
     "output_type": "stream",
     "text": [
      "tensor(0.2656)\n",
      "tensor(0.0224, dtype=torch.float64)\n",
      "tensor(0.0783)\n",
      "tensor(0.0195, dtype=torch.float64)\n",
      "tensor(0.0249)\n",
      "tensor(0.0410)\n",
      "tensor(0.0130)\n",
      "tensor(0.0562, dtype=torch.float64)\n",
      "tensor(0.0373)\n",
      "tensor(0.0290, dtype=torch.float64)\n"
     ]
    }
   ],
   "source": [
    "RUN_FOLDER = './rl2_baseline/rl2_double_baseline'\n",
    "policy_net_agent = torch.load(RUN_FOLDER + '/models/policy.pt', map_location=device)\n",
    "encoder_net_agent = torch.load(RUN_FOLDER + '/models/encoder.pt', map_location=device)\n",
    "actor_critic = ActorCritic(policy_net_agent, encoder_net_agent)\n",
    "agent = dummy_agent1(actor_critic)\n",
    "for i in range(10):\n",
    "    episode_reward=[]\n",
    "\n",
    "    step = 0\n",
    "    obs = envs.reset() # we reset all at once as metaworld is time limited\n",
    "    episode_reward = []\n",
    "    successes = []\n",
    "    done=False\n",
    "\n",
    "\n",
    "    with torch.no_grad():\n",
    "\n",
    "        latent, hidden_state = agent.get_prior(1)\n",
    "        # print(latent.size(), hidden_state.size())\n",
    "\n",
    "    while not done:\n",
    "        with torch.no_grad():\n",
    "            value, action = agent.act(None, latent, None, None, deterministic=False)\n",
    "\n",
    "        next_obs, reward,truncated, terminated, info = envs.step(action.numpy())\n",
    "        done = truncated or terminated\n",
    "        next_obs = np.concatenate((next_obs,[0.0]))\n",
    "\n",
    "        # create mask for episode ends\n",
    "        # masks_done = torch.FloatTensor([[0.0] if _done else [1.0] for _done in done]).to(device)\n",
    "\n",
    "        ## combine all rewards\n",
    "        episode_reward.append(reward)\n",
    "        # if we succeed at all then the task is successful\n",
    "        successes.append(info['success'])\n",
    "\n",
    "        latent, hidden_state = agent.get_latent(\n",
    "            torch.tensor(action).float().unsqueeze(0), \n",
    "            torch.tensor(next_obs).float().unsqueeze(0), \n",
    "            torch.tensor(reward).float().unsqueeze(0).unsqueeze(0), \n",
    "            hidden_state, \n",
    "            return_prior = False\n",
    "        )\n",
    "            \n",
    "\n",
    "        obs = next_obs\n",
    "\n",
    "        step += 1\n",
    "    print(torch.tensor(episode_reward).mean())\n",
    "\n",
    "envs.close()\n"
   ]
  },
  {
   "cell_type": "code",
   "execution_count": 101,
   "metadata": {},
   "outputs": [
    {
     "data": {
      "text/plain": [
       "tensor(9.2883)"
      ]
     },
     "execution_count": 101,
     "metadata": {},
     "output_type": "execute_result"
    }
   ],
   "source": [
    "torch.tensor(episode_reward).mean()"
   ]
  },
  {
   "cell_type": "code",
   "execution_count": 97,
   "metadata": {},
   "outputs": [
    {
     "name": "stdout",
     "output_type": "stream",
     "text": [
      "torch.Size([1, 4]) torch.Size([1, 40]) torch.Size([1, 1])\n"
     ]
    },
    {
     "name": "stderr",
     "output_type": "stream",
     "text": [
      "C:\\Users\\61417\\AppData\\Local\\Temp\\ipykernel_93256\\26570706.py:2: UserWarning: To copy construct from a tensor, it is recommended to use sourceTensor.clone().detach() or sourceTensor.clone().detach().requires_grad_(True), rather than torch.tensor(sourceTensor).\n",
      "  torch.tensor(action).float().unsqueeze(0).size(),\n"
     ]
    }
   ],
   "source": [
    "print(\n",
    "    torch.tensor(action).float().unsqueeze(0).size(), \n",
    "    torch.tensor(next_obs).float().unsqueeze(0).size(), \n",
    "    torch.tensor(reward).float().unsqueeze(0).unsqueeze(0).size()\n",
    ")"
   ]
  },
  {
   "cell_type": "code",
   "execution_count": 88,
   "metadata": {},
   "outputs": [
    {
     "data": {
      "text/plain": [
       "array([ 6.24888659e-03,  5.99651668e-01,  1.94001019e-01,  1.00000000e+00,\n",
       "        4.65829553e-02,  6.01204335e-01,  1.99124146e-02, -1.95931737e-04,\n",
       "       -2.96176911e-04, -1.62033349e-08,  9.99999937e-01,  0.00000000e+00,\n",
       "        0.00000000e+00,  0.00000000e+00,  0.00000000e+00,  0.00000000e+00,\n",
       "        0.00000000e+00,  0.00000000e+00,  6.15235164e-03,  6.00189803e-01,\n",
       "        1.94301175e-01,  1.00000000e+00,  4.65942126e-02,  6.01196870e-01,\n",
       "        1.99999996e-02,  0.00000000e+00,  0.00000000e+00,  0.00000000e+00,\n",
       "        1.00000000e+00,  0.00000000e+00,  0.00000000e+00,  0.00000000e+00,\n",
       "        0.00000000e+00,  0.00000000e+00,  0.00000000e+00,  0.00000000e+00,\n",
       "        0.00000000e+00,  0.00000000e+00,  0.00000000e+00,  0.00000000e+00])"
      ]
     },
     "execution_count": 88,
     "metadata": {},
     "output_type": "execute_result"
    }
   ],
   "source": [
    "np.concatenate((next_obs,[0.0]))"
   ]
  },
  {
   "cell_type": "code",
   "execution_count": 130,
   "metadata": {},
   "outputs": [
    {
     "data": {
      "text/plain": [
       "'reach-v2'"
      ]
     },
     "execution_count": 130,
     "metadata": {},
     "output_type": "execute_result"
    }
   ],
   "source": [
    "random.choice([task for task in ml3.train_classes.keys() if task == 'reach-v2'])"
   ]
  },
  {
   "cell_type": "code",
   "execution_count": 140,
   "metadata": {},
   "outputs": [],
   "source": [
    "import gym\n",
    "import metaworld\n",
    "import random\n",
    "\n",
    "from environments.custom_metaworld_benchmark  import ML3\n",
    "\n",
    "class ML3SingleEnv(gym.Env):\n",
    "\n",
    "    def __init__(self, env_name, train=False):\n",
    "        self.benchmark= ML3()\n",
    "        self.train = train\n",
    "        self.env_name = env_name\n",
    "        if train:\n",
    "            self.tasks = [task for task in self.benchmark.train_tasks if task.env_name==self.env_name]\n",
    "            self.env_cls = self.benchmark.train_classes[self.env_name]\n",
    "        else:\n",
    "            self.tasks = [task for task in self.benchmark.test_tasks if task.env_name==self.env_name]\n",
    "            self.env_cls = self.benchmark.test_classes[self.env_name]\n",
    "\n",
    "        ## set the task\n",
    "        self.env = self.env_cls()\n",
    "        self.task = random.choice(self.tasks)\n",
    "        self.env.set_task(self.task)\n",
    "        self.observation_space = self.env.observation_space\n",
    "        self.action_space = self.env.action_space\n",
    "\n",
    "        # metaworld max steps - hardcoded\n",
    "        self._max_episode_steps = 500\n",
    "\n",
    "    def step(self, action):\n",
    "        obs, reward, terminated, truncated, info = self.env.step(action)\n",
    "        done = terminated or truncated\n",
    "        info['task'] = self.task\n",
    "        return obs, reward, done, info\n",
    "    \n",
    "    def reset(self):\n",
    "        obs, _ = self.env.reset()\n",
    "        return obs\n",
    "    \n",
    "    def get_task(self):\n",
    "        return self.task\n",
    "    \n",
    "    ## reset_task is automatically created in make_env using set_task\n",
    "    def set_task(self, task = None):\n",
    "        if task is None:\n",
    "            if self.train:\n",
    "                task = random.choice(\n",
    "                    [task for task in self.benchmark.train_tasks if task.env_name==self.env_name]\n",
    "                    )\n",
    "            else: \n",
    "                task = random.choice(\n",
    "                    [task for task in self.benchmark.test_tasks if task.env_name==self.env_name]\n",
    "                    )\n",
    "\n",
    "        self.task = task\n",
    "        self.env.set_task(self.task)\n",
    "\n",
    "    # duplicated for varibad temporarily\n",
    "    def reset_task(self, task = None):\n",
    "        if task is None:\n",
    "            if self.train:\n",
    "                task = random.choice(\n",
    "                    [task for task in self.benchmark.train_tasks if task.env_name==self.env_name]\n",
    "                    )\n",
    "            else: \n",
    "                task = random.choice(\n",
    "                    [task for task in self.benchmark.test_tasks if task.env_name==self.env_name]\n",
    "                    )\n",
    "\n",
    "        self.task = task\n",
    "        self.env.set_task(self.task)\n"
   ]
  },
  {
   "cell_type": "code",
   "execution_count": 141,
   "metadata": {},
   "outputs": [],
   "source": [
    "train_ml3_reach = ML3SingleEnv('reach-v2', train=False)"
   ]
  },
  {
   "cell_type": "code",
   "execution_count": 143,
   "metadata": {},
   "outputs": [
    {
     "data": {
      "text/plain": [
       "Task(env_name='reach-v2', data=b'\\x80\\x04\\x954\\x01\\x00\\x00\\x00\\x00\\x00\\x00}\\x94(\\x8c\\x08rand_vec\\x94\\x8c\\x15numpy.core.multiarray\\x94\\x8c\\x0c_reconstruct\\x94\\x93\\x94\\x8c\\x05numpy\\x94\\x8c\\x07ndarray\\x94\\x93\\x94K\\x00\\x85\\x94C\\x01b\\x94\\x87\\x94R\\x94(K\\x01K\\x06\\x85\\x94h\\x05\\x8c\\x05dtype\\x94\\x93\\x94\\x8c\\x02f8\\x94\\x89\\x88\\x87\\x94R\\x94(K\\x03\\x8c\\x01<\\x94NNNJ\\xff\\xff\\xff\\xffJ\\xff\\xff\\xff\\xffK\\x00t\\x94b\\x89C0\\xba\\xf1\\xc6\\xc4}L\\xb7?\\x0f\\xbdUV\\x05f\\xe5?\\x00\\x00\\x00@\\xe1z\\x94?dM/\\x18~\\xb5\\xa1?\\x9a\\xf4\\x93(Mf\\xeb?\\xe0b\\xebH<\\x96\\xce?\\x94t\\x94b\\x8c\\x07env_cls\\x94\\x8c3metaworld.envs.mujoco.sawyer_xyz.v2.sawyer_reach_v2\\x94\\x8c\\x10SawyerReachEnvV2\\x94\\x93\\x94\\x8c\\x14partially_observable\\x94\\x89u.')"
      ]
     },
     "execution_count": 143,
     "metadata": {},
     "output_type": "execute_result"
    }
   ],
   "source": [
    "train_ml3_reach.get_task()"
   ]
  },
  {
   "cell_type": "code",
   "execution_count": 144,
   "metadata": {},
   "outputs": [],
   "source": [
    "from environments.parallel_envs import make_vec_envs\n",
    "from environments.env_utils.running_mean_std import RunningMeanStd\n",
    "\n",
    "# from models import encoder, policy\n",
    "device = torch.device(\"cuda:0\" if torch.cuda.is_available() else \"cpu\")"
   ]
  },
  {
   "cell_type": "code",
   "execution_count": null,
   "metadata": {},
   "outputs": [],
   "source": [
    "vec_envs = get_vec_envs(\n",
    "    env_name='ML3_single-v2',\n",
    "    seed=73, \n",
    "    num_processes=5, \n",
    "    gamma=0.99,\n",
    "    device=device, \n",
    "    episodes_per_task=1,\n",
    "    normalise_rew=True, \n",
    "    ret_rms=None, \n",
    "    tasks=None,\n",
    "    rank_offset=0,\n",
    "    add_done_info=True,\n",
    "    **{'env_name':'reach-v2'}\n",
    ")"
   ]
  }
 ],
 "metadata": {
  "kernelspec": {
   "display_name": "varibad",
   "language": "python",
   "name": "python3"
  },
  "language_info": {
   "codemirror_mode": {
    "name": "ipython",
    "version": 3
   },
   "file_extension": ".py",
   "mimetype": "text/x-python",
   "name": "python",
   "nbconvert_exporter": "python",
   "pygments_lexer": "ipython3",
   "version": "3.9.18"
  }
 },
 "nbformat": 4,
 "nbformat_minor": 2
}
